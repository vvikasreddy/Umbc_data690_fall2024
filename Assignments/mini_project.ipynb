{
  "nbformat": 4,
  "nbformat_minor": 0,
  "metadata": {
    "colab": {
      "provenance": [],
      "include_colab_link": true
    },
    "kernelspec": {
      "name": "python3",
      "display_name": "Python 3"
    },
    "language_info": {
      "name": "python"
    }
  },
  "cells": [
    {
      "cell_type": "markdown",
      "metadata": {
        "id": "view-in-github",
        "colab_type": "text"
      },
      "source": [
        "<a href=\"https://colab.research.google.com/github/vvikasreddy/Umbc_data690_fall2024/blob/main/Assignments/mini_project.ipynb\" target=\"_parent\"><img src=\"https://colab.research.google.com/assets/colab-badge.svg\" alt=\"Open In Colab\"/></a>"
      ]
    },
    {
      "cell_type": "markdown",
      "source": [
        "# Assignment 10 - Mini Project\n",
        "\n",
        "Comparing the economy and wealth of G7 countries and BRICS countries.\n",
        "\n",
        "Use http://g7brics.streamlit.app as the reference.\n",
        "\n",
        "Make sure your check your calculation, aggregation, and visualization with the reference site for correctness.\n",
        "\n",
        "For visualization, pay attention to details - color, label, information display."
      ],
      "metadata": {
        "id": "LHbgUqH9xr_N"
      }
    },
    {
      "cell_type": "markdown",
      "source": [
        "## Step 1 - Import Python libraries"
      ],
      "metadata": {
        "id": "I1yAaGjqyFdx"
      }
    },
    {
      "cell_type": "code",
      "source": [
        "\n",
        "import pandas as pd\n",
        "import plotly.express as px\n",
        "import plotly.graph_objects as go\n",
        "import numpy as np\n",
        "from plotly.subplots import make_subplots\n",
        "\n"
      ],
      "metadata": {
        "id": "Ro5Zf6fJuiOs"
      },
      "execution_count": 1,
      "outputs": []
    },
    {
      "cell_type": "markdown",
      "source": [
        "## Step 2 - Load the input dataset\n",
        "\n",
        "Download the individaul countries data from the reference site and upload it to your GitHub folder. Load the dataset directly from your GitHub."
      ],
      "metadata": {
        "id": "nAQJfmiDyMH_"
      }
    },
    {
      "cell_type": "code",
      "source": [
        "# Load the dataset\n",
        "url = \"https://raw.githubusercontent.com/Harshithakapa1010/UMBC_690_FALL2024_/refs/heads/main/2024-11-07T00-25_export%20(3).csv\"\n",
        "df = pd.read_csv(url)\n"
      ],
      "metadata": {
        "id": "vprt4BO5v4Hn"
      },
      "execution_count": 2,
      "outputs": []
    },
    {
      "cell_type": "markdown",
      "source": [
        "## Step 3 - Explore the input dataset\n",
        "\n",
        "- Display number of rows and columns\n",
        "- Dispaly at first 5 rows, last 5 rows, and random 5 rows.\n",
        "- Display information about the dataset\n",
        "- For all numerical variables, display their summary statistics\n",
        "- For all categorical variables, display their number of categories and most frequent category\n",
        "- Find out how many countries each region has.\n",
        "- Display all countries that are Latin American & Caribbean.\n",
        "- Find out how many countries each income level has.\n",
        "- Display all countries that are of high income.\n"
      ],
      "metadata": {
        "id": "m9k8OE_VzDII"
      }
    },
    {
      "cell_type": "code",
      "source": [
        "\n",
        "# Display number of rows and columns\n",
        "print(\"Number of rows and columns:\", df.shape)\n",
        "\n",
        "# Display first 5 rows\n",
        "print(\"\\nFirst 5 rows:\\n\", df.head(5))\n",
        "\n",
        "# Display last 5 rows\n",
        "print(\"\\nLast 5 rows:\\n\", df.tail(5))\n",
        "\n",
        "# Display random 5 rows\n",
        "print(\"\\nRandom 5 rows:\\n\", df.sample(5))\n"
      ],
      "metadata": {
        "id": "yCE1XDH8v-TI",
        "outputId": "07147415-b784-41ff-d6e8-a864128ff651",
        "colab": {
          "base_uri": "https://localhost:8080/"
        }
      },
      "execution_count": 3,
      "outputs": [
        {
          "output_type": "stream",
          "name": "stdout",
          "text": [
            "Number of rows and columns: (5208, 17)\n",
            "\n",
            "First 5 rows:\n",
            "    Unnamed: 0  Year Country Code Country Name                      Region  \\\n",
            "0           0  2000          ABW        Aruba  Latin America & Caribbean    \n",
            "1           1  2000          AFG  Afghanistan                  South Asia   \n",
            "2           2  2000          AGO       Angola         Sub-Saharan Africa    \n",
            "3           3  2000          ALB      Albania       Europe & Central Asia   \n",
            "4           4  2000          AND      Andorra       Europe & Central Asia   \n",
            "\n",
            "          Income Group    Lending Type  Military Expenditure ($Millions)  \\\n",
            "0          High income  Not classified                               NaN   \n",
            "1           Low income             IDA                               NaN   \n",
            "2  Lower middle income            IBRD                        583.621334   \n",
            "3  Upper middle income            IBRD                         45.362503   \n",
            "4          High income  Not classified                               NaN   \n",
            "\n",
            "   Military Expenditure (% of GDP)  GDP ($Billions)  GDP PPP ($Billions)  \\\n",
            "0                              NaN         1.873453             2.739898   \n",
            "1                              NaN         3.521418            16.377033   \n",
            "2                         6.392603         9.129595            53.876765   \n",
            "3                         1.246360         3.480355            11.927686   \n",
            "4                              NaN         1.432606             2.197696   \n",
            "\n",
            "   GDP Per Capita ($)  GDP Per Capita PPP ($)  \\\n",
            "0        21026.167091            30750.475341   \n",
            "1          180.188369              838.000705   \n",
            "2          556.884253             3286.358493   \n",
            "3         1126.683340             3861.308568   \n",
            "4        21674.299722            33249.564905   \n",
            "\n",
            "   Suicide Mortality Rate (Per 100K People)  Life Expectancy at Birth (Years)  \\\n",
            "0                                       NaN                            73.569   \n",
            "1                                       4.9                            55.298   \n",
            "2                                       8.7                            46.024   \n",
            "3                                       4.9                            75.404   \n",
            "4                                       NaN                               NaN   \n",
            "\n",
            "   Population (Millions)          Group  \n",
            "0               0.089101  REST OF WORLD  \n",
            "1              19.542982  REST OF WORLD  \n",
            "2              16.394062  REST OF WORLD  \n",
            "3               3.089027  REST OF WORLD  \n",
            "4               0.066097  REST OF WORLD  \n",
            "\n",
            "Last 5 rows:\n",
            "       Unnamed: 0  Year Country Code  Country Name                      Region  \\\n",
            "5203        5203  2023          XKX        Kosovo       Europe & Central Asia   \n",
            "5204        5204  2023          YEM   Yemen, Rep.  Middle East & North Africa   \n",
            "5205        5205  2023          ZAF  South Africa         Sub-Saharan Africa    \n",
            "5206        5206  2023          ZMB        Zambia         Sub-Saharan Africa    \n",
            "5207        5207  2023          ZWE      Zimbabwe         Sub-Saharan Africa    \n",
            "\n",
            "             Income Group Lending Type  Military Expenditure ($Millions)  \\\n",
            "5203  Upper middle income          IDA                               NaN   \n",
            "5204           Low income          IDA                               NaN   \n",
            "5205  Upper middle income         IBRD                               NaN   \n",
            "5206  Lower middle income          IDA                               NaN   \n",
            "5207  Lower middle income        Blend                               NaN   \n",
            "\n",
            "      Military Expenditure (% of GDP)  GDP ($Billions)  GDP PPP ($Billions)  \\\n",
            "5203                              NaN        10.438351            26.397158   \n",
            "5204                              NaN              NaN                  NaN   \n",
            "5205                              NaN       377.781601           957.414333   \n",
            "5206                              NaN        28.162631            84.863033   \n",
            "5207                              NaN        26.538273            64.993416   \n",
            "\n",
            "      GDP Per Capita ($)  GDP Per Capita PPP ($)  \\\n",
            "5203         5943.125714            15029.349098   \n",
            "5204                 NaN                     NaN   \n",
            "5205         6253.161613            15847.427560   \n",
            "5206         1369.129365             4125.625556   \n",
            "5207         1592.416574             3899.899233   \n",
            "\n",
            "      Suicide Mortality Rate (Per 100K People)  \\\n",
            "5203                                       NaN   \n",
            "5204                                       NaN   \n",
            "5205                                       NaN   \n",
            "5206                                       NaN   \n",
            "5207                                       NaN   \n",
            "\n",
            "      Life Expectancy at Birth (Years)  Population (Millions)          Group  \n",
            "5203                               NaN               1.756374  REST OF WORLD  \n",
            "5204                               NaN              34.449825  REST OF WORLD  \n",
            "5205                               NaN              60.414495          BRICS  \n",
            "5206                               NaN              20.569737  REST OF WORLD  \n",
            "5207                               NaN              16.665409  REST OF WORLD  \n",
            "\n",
            "Random 5 rows:\n",
            "       Unnamed: 0  Year Country Code              Country Name  \\\n",
            "5110        5110  2023          MAF  St. Martin (French part)   \n",
            "48            48  2000          CYP                    Cyprus   \n",
            "3443        3443  2015          TCD                      Chad   \n",
            "3634        3634  2016          PYF          French Polynesia   \n",
            "4804        4804  2022          BWA                  Botswana   \n",
            "\n",
            "                          Region         Income Group    Lending Type  \\\n",
            "5110  Latin America & Caribbean           High income  Not classified   \n",
            "48         Europe & Central Asia          High income  Not classified   \n",
            "3443         Sub-Saharan Africa            Low income             IDA   \n",
            "3634         East Asia & Pacific          High income  Not classified   \n",
            "4804         Sub-Saharan Africa   Upper middle income            IBRD   \n",
            "\n",
            "      Military Expenditure ($Millions)  Military Expenditure (% of GDP)  \\\n",
            "5110                               NaN                              NaN   \n",
            "48                          281.160374                         2.822090   \n",
            "3443                        220.982332                         2.018822   \n",
            "3634                               NaN                              NaN   \n",
            "4804                        489.324154                         2.743960   \n",
            "\n",
            "      GDP ($Billions)  GDP PPP ($Billions)  GDP Per Capita ($)  \\\n",
            "5110              NaN                  NaN                 NaN   \n",
            "48           9.985844            14.776625        14388.347656   \n",
            "3443        10.950392            26.192077          774.411603   \n",
            "3634         5.497036                  NaN        18726.639470   \n",
            "4804        20.321959            48.703064         7726.110997   \n",
            "\n",
            "      GDP Per Capita PPP ($)  Suicide Mortality Rate (Per 100K People)  \\\n",
            "5110                     NaN                                       NaN   \n",
            "48              21291.261719                                       2.0   \n",
            "3443             1852.303383                                       6.8   \n",
            "3634                     NaN                                       NaN   \n",
            "4804            18516.191337                                       NaN   \n",
            "\n",
            "      Life Expectancy at Birth (Years)  Population (Millions)          Group  \n",
            "5110                               NaN               0.032077  REST OF WORLD  \n",
            "48                              76.568               0.948237  REST OF WORLD  \n",
            "3443                            51.589              14.140274  REST OF WORLD  \n",
            "3634                            82.488               0.293541  REST OF WORLD  \n",
            "4804                            65.913               2.630296  REST OF WORLD  \n"
          ]
        }
      ]
    },
    {
      "cell_type": "code",
      "source": [
        "\n",
        "# Display information about the dataset\n",
        "print(\"\\nDataset Information:\\n\")\n",
        "df.info()\n"
      ],
      "metadata": {
        "id": "jBxq9aQvwbec",
        "outputId": "7b41bec4-c9ff-4dbd-a371-b865eb27c4e3",
        "colab": {
          "base_uri": "https://localhost:8080/"
        }
      },
      "execution_count": 4,
      "outputs": [
        {
          "output_type": "stream",
          "name": "stdout",
          "text": [
            "\n",
            "Dataset Information:\n",
            "\n",
            "<class 'pandas.core.frame.DataFrame'>\n",
            "RangeIndex: 5208 entries, 0 to 5207\n",
            "Data columns (total 17 columns):\n",
            " #   Column                                    Non-Null Count  Dtype  \n",
            "---  ------                                    --------------  -----  \n",
            " 0   Unnamed: 0                                5208 non-null   int64  \n",
            " 1   Year                                      5208 non-null   int64  \n",
            " 2   Country Code                              5208 non-null   object \n",
            " 3   Country Name                              5208 non-null   object \n",
            " 4   Region                                    5208 non-null   object \n",
            " 5   Income Group                              5208 non-null   object \n",
            " 6   Lending Type                              5208 non-null   object \n",
            " 7   Military Expenditure ($Millions)          3553 non-null   float64\n",
            " 8   Military Expenditure (% of GDP)           3428 non-null   float64\n",
            " 9   GDP ($Billions)                           4988 non-null   float64\n",
            " 10  GDP PPP ($Billions)                       4726 non-null   float64\n",
            " 11  GDP Per Capita ($)                        4988 non-null   float64\n",
            " 12  GDP Per Capita PPP ($)                    4726 non-null   float64\n",
            " 13  Suicide Mortality Rate (Per 100K People)  3660 non-null   float64\n",
            " 14  Life Expectancy at Birth (Years)          4828 non-null   float64\n",
            " 15  Population (Millions)                     5208 non-null   float64\n",
            " 16  Group                                     5208 non-null   object \n",
            "dtypes: float64(9), int64(2), object(6)\n",
            "memory usage: 691.8+ KB\n"
          ]
        }
      ]
    },
    {
      "cell_type": "code",
      "source": [
        "# Display summary statistics for numerical variables\n",
        "print(\"\\nSummary Statistics for Numerical Variables:\\n\")\n",
        "print(df.describe())\n"
      ],
      "metadata": {
        "id": "1MBFEe7Gwh47",
        "outputId": "2325d574-7092-40bf-91fd-f3e37525cc0e",
        "colab": {
          "base_uri": "https://localhost:8080/"
        }
      },
      "execution_count": 5,
      "outputs": [
        {
          "output_type": "stream",
          "name": "stdout",
          "text": [
            "\n",
            "Summary Statistics for Numerical Variables:\n",
            "\n",
            "        Unnamed: 0         Year  Military Expenditure ($Millions)  \\\n",
            "count  5208.000000  5208.000000                       3553.000000   \n",
            "mean   2603.500000  2011.500000                       9692.743472   \n",
            "std    1503.564432     6.922851                      53776.761846   \n",
            "min       0.000000  2000.000000                          0.000000   \n",
            "25%    1301.750000  2005.750000                        107.553688   \n",
            "50%    2603.500000  2011.500000                        569.671622   \n",
            "75%    3905.250000  2017.250000                       3625.564802   \n",
            "max    5207.000000  2023.000000                     876943.200000   \n",
            "\n",
            "       Military Expenditure (% of GDP)  GDP ($Billions)  GDP PPP ($Billions)  \\\n",
            "count                      3428.000000      4988.000000          4726.000000   \n",
            "mean                          1.966078       325.507413           509.041065   \n",
            "std                           1.772127      1491.780379          1940.946622   \n",
            "min                           0.016303         0.013965             0.024321   \n",
            "25%                           1.018180         4.283639            10.696850   \n",
            "50%                           1.486893        18.207137            49.502095   \n",
            "75%                           2.362887       121.709014           279.454185   \n",
            "max                          33.546573     27360.935000         34643.706848   \n",
            "\n",
            "       GDP Per Capita ($)  GDP Per Capita PPP ($)  \\\n",
            "count         4988.000000             4726.000000   \n",
            "mean         15684.616036            19486.177418   \n",
            "std          24393.384245            22069.216896   \n",
            "min            110.460875              420.318796   \n",
            "25%           1530.637079             3751.258335   \n",
            "50%           5304.595252            11123.853536   \n",
            "75%          20103.198721            28590.892412   \n",
            "max         240862.182448           163542.784470   \n",
            "\n",
            "       Suicide Mortality Rate (Per 100K People)  \\\n",
            "count                               3660.000000   \n",
            "mean                                  10.629180   \n",
            "std                                    8.986046   \n",
            "min                                    0.000000   \n",
            "25%                                    4.900000   \n",
            "50%                                    8.100000   \n",
            "75%                                   13.200000   \n",
            "max                                   92.600000   \n",
            "\n",
            "       Life Expectancy at Birth (Years)  Population (Millions)  \n",
            "count                       4828.000000            5208.000000  \n",
            "mean                          70.550185              32.613908  \n",
            "std                            8.789462             129.828521  \n",
            "min                           41.957000               0.009609  \n",
            "25%                           64.888000               0.718105  \n",
            "50%                           72.462500               5.700332  \n",
            "75%                           77.144177              20.912699  \n",
            "max                           85.532683            1428.627663  \n"
          ]
        }
      ]
    },
    {
      "cell_type": "code",
      "source": [
        "\n",
        "# Display number of categories and most frequent category for categorical variables\n",
        "for col in df.select_dtypes(include=['object']).columns:\n",
        "    print(f\"\\nCategory: {col}\")\n",
        "    print(f\"Number of categories: {df[col].nunique()}\")\n",
        "    print(f\"Most frequent category: {df[col].mode()[0]}\")\n",
        "\n",
        "\n",
        "# Find out how many countries each region has.\n",
        "print(\"\\nNumber of countries per region:\\n\", df.groupby('Region')['Country Name'].count())\n",
        "\n",
        "# Display all countries that are Latin American & Caribbean.\n",
        "print(\"\\nCountries in Latin America & Caribbean:\\n\", df[df['Region'] == 'Latin America & Caribbean']['Country Name'].tolist())\n",
        "\n",
        "# Find out how many countries each income level has.\n",
        "print(\"\\nNumber of countries per income level:\\n\", df.groupby('Income Group')['Country Name'].count())\n",
        "\n",
        "# Display all countries that are of high income.\n",
        "print(\"\\nCountries with high income:\\n\", df[df['Income Group'] == 'High income']['Country Name'].tolist())"
      ],
      "metadata": {
        "id": "6PrWjRafwilt",
        "outputId": "598ef2a2-dc8b-4d28-da17-dddd195707bd",
        "colab": {
          "base_uri": "https://localhost:8080/"
        }
      },
      "execution_count": 6,
      "outputs": [
        {
          "output_type": "stream",
          "name": "stdout",
          "text": [
            "\n",
            "Category: Country Code\n",
            "Number of categories: 217\n",
            "Most frequent category: ABW\n",
            "\n",
            "Category: Country Name\n",
            "Number of categories: 217\n",
            "Most frequent category: Afghanistan\n",
            "\n",
            "Category: Region\n",
            "Number of categories: 7\n",
            "Most frequent category: Europe & Central Asia\n",
            "\n",
            "Category: Income Group\n",
            "Number of categories: 5\n",
            "Most frequent category: High income\n",
            "\n",
            "Category: Lending Type\n",
            "Number of categories: 4\n",
            "Most frequent category: Not classified\n",
            "\n",
            "Category: Group\n",
            "Number of categories: 3\n",
            "Most frequent category: REST OF WORLD\n",
            "\n",
            "Number of countries per region:\n",
            " Region\n",
            "East Asia & Pacific            888\n",
            "Europe & Central Asia         1392\n",
            "Latin America & Caribbean     1008\n",
            "Middle East & North Africa     504\n",
            "North America                   72\n",
            "South Asia                     192\n",
            "Sub-Saharan Africa            1152\n",
            "Name: Country Name, dtype: int64\n",
            "\n",
            "Countries in Latin America & Caribbean:\n",
            " []\n",
            "\n",
            "Number of countries per income level:\n",
            " Income Group\n",
            "High income            2040\n",
            "Low income              624\n",
            "Lower middle income    1224\n",
            "Not classified           24\n",
            "Upper middle income    1296\n",
            "Name: Country Name, dtype: int64\n",
            "\n",
            "Countries with high income:\n",
            " ['Aruba', 'Andorra', 'United Arab Emirates', 'American Samoa', 'Antigua and Barbuda', 'Australia', 'Austria', 'Belgium', 'Bulgaria', 'Bahrain', 'Bahamas, The', 'Bermuda', 'Barbados', 'Brunei Darussalam', 'Canada', 'Switzerland', 'Channel Islands', 'Chile', 'Curacao', 'Cayman Islands', 'Cyprus', 'Czechia', 'Germany', 'Denmark', 'Spain', 'Estonia', 'Finland', 'France', 'Faroe Islands', 'United Kingdom', 'Gibraltar', 'Greece', 'Greenland', 'Guam', 'Guyana', 'Hong Kong SAR, China', 'Croatia', 'Hungary', 'Isle of Man', 'Ireland', 'Iceland', 'Israel', 'Italy', 'Japan', 'St. Kitts and Nevis', 'Korea, Rep.', 'Kuwait', 'Liechtenstein', 'Lithuania', 'Luxembourg', 'Latvia', 'Macao SAR, China', 'St. Martin (French part)', 'Monaco', 'Malta', 'Northern Mariana Islands', 'New Caledonia', 'Netherlands', 'Norway', 'Nauru', 'New Zealand', 'Oman', 'Panama', 'Palau', 'Poland', 'Puerto Rico', 'Portugal', 'French Polynesia', 'Qatar', 'Romania', 'Russian Federation', 'Saudi Arabia', 'Singapore', 'San Marino', 'Slovak Republic', 'Slovenia', 'Sweden', 'Sint Maarten (Dutch part)', 'Seychelles', 'Turks and Caicos Islands', 'Trinidad and Tobago', 'Uruguay', 'United States', 'British Virgin Islands', 'Virgin Islands (U.S.)', 'Aruba', 'Andorra', 'United Arab Emirates', 'American Samoa', 'Antigua and Barbuda', 'Australia', 'Austria', 'Belgium', 'Bulgaria', 'Bahrain', 'Bahamas, The', 'Bermuda', 'Barbados', 'Brunei Darussalam', 'Canada', 'Switzerland', 'Channel Islands', 'Chile', 'Curacao', 'Cayman Islands', 'Cyprus', 'Czechia', 'Germany', 'Denmark', 'Spain', 'Estonia', 'Finland', 'France', 'Faroe Islands', 'United Kingdom', 'Gibraltar', 'Greece', 'Greenland', 'Guam', 'Guyana', 'Hong Kong SAR, China', 'Croatia', 'Hungary', 'Isle of Man', 'Ireland', 'Iceland', 'Israel', 'Italy', 'Japan', 'St. Kitts and Nevis', 'Korea, Rep.', 'Kuwait', 'Liechtenstein', 'Lithuania', 'Luxembourg', 'Latvia', 'Macao SAR, China', 'St. Martin (French part)', 'Monaco', 'Malta', 'Northern Mariana Islands', 'New Caledonia', 'Netherlands', 'Norway', 'Nauru', 'New Zealand', 'Oman', 'Panama', 'Palau', 'Poland', 'Puerto Rico', 'Portugal', 'French Polynesia', 'Qatar', 'Romania', 'Russian Federation', 'Saudi Arabia', 'Singapore', 'San Marino', 'Slovak Republic', 'Slovenia', 'Sweden', 'Sint Maarten (Dutch part)', 'Seychelles', 'Turks and Caicos Islands', 'Trinidad and Tobago', 'Uruguay', 'United States', 'British Virgin Islands', 'Virgin Islands (U.S.)', 'Aruba', 'Andorra', 'United Arab Emirates', 'American Samoa', 'Antigua and Barbuda', 'Australia', 'Austria', 'Belgium', 'Bulgaria', 'Bahrain', 'Bahamas, The', 'Bermuda', 'Barbados', 'Brunei Darussalam', 'Canada', 'Switzerland', 'Channel Islands', 'Chile', 'Curacao', 'Cayman Islands', 'Cyprus', 'Czechia', 'Germany', 'Denmark', 'Spain', 'Estonia', 'Finland', 'France', 'Faroe Islands', 'United Kingdom', 'Gibraltar', 'Greece', 'Greenland', 'Guam', 'Guyana', 'Hong Kong SAR, China', 'Croatia', 'Hungary', 'Isle of Man', 'Ireland', 'Iceland', 'Israel', 'Italy', 'Japan', 'St. Kitts and Nevis', 'Korea, Rep.', 'Kuwait', 'Liechtenstein', 'Lithuania', 'Luxembourg', 'Latvia', 'Macao SAR, China', 'St. Martin (French part)', 'Monaco', 'Malta', 'Northern Mariana Islands', 'New Caledonia', 'Netherlands', 'Norway', 'Nauru', 'New Zealand', 'Oman', 'Panama', 'Palau', 'Poland', 'Puerto Rico', 'Portugal', 'French Polynesia', 'Qatar', 'Romania', 'Russian Federation', 'Saudi Arabia', 'Singapore', 'San Marino', 'Slovak Republic', 'Slovenia', 'Sweden', 'Sint Maarten (Dutch part)', 'Seychelles', 'Turks and Caicos Islands', 'Trinidad and Tobago', 'Uruguay', 'United States', 'British Virgin Islands', 'Virgin Islands (U.S.)', 'Aruba', 'Andorra', 'United Arab Emirates', 'American Samoa', 'Antigua and Barbuda', 'Australia', 'Austria', 'Belgium', 'Bulgaria', 'Bahrain', 'Bahamas, The', 'Bermuda', 'Barbados', 'Brunei Darussalam', 'Canada', 'Switzerland', 'Channel Islands', 'Chile', 'Curacao', 'Cayman Islands', 'Cyprus', 'Czechia', 'Germany', 'Denmark', 'Spain', 'Estonia', 'Finland', 'France', 'Faroe Islands', 'United Kingdom', 'Gibraltar', 'Greece', 'Greenland', 'Guam', 'Guyana', 'Hong Kong SAR, China', 'Croatia', 'Hungary', 'Isle of Man', 'Ireland', 'Iceland', 'Israel', 'Italy', 'Japan', 'St. Kitts and Nevis', 'Korea, Rep.', 'Kuwait', 'Liechtenstein', 'Lithuania', 'Luxembourg', 'Latvia', 'Macao SAR, China', 'St. Martin (French part)', 'Monaco', 'Malta', 'Northern Mariana Islands', 'New Caledonia', 'Netherlands', 'Norway', 'Nauru', 'New Zealand', 'Oman', 'Panama', 'Palau', 'Poland', 'Puerto Rico', 'Portugal', 'French Polynesia', 'Qatar', 'Romania', 'Russian Federation', 'Saudi Arabia', 'Singapore', 'San Marino', 'Slovak Republic', 'Slovenia', 'Sweden', 'Sint Maarten (Dutch part)', 'Seychelles', 'Turks and Caicos Islands', 'Trinidad and Tobago', 'Uruguay', 'United States', 'British Virgin Islands', 'Virgin Islands (U.S.)', 'Aruba', 'Andorra', 'United Arab Emirates', 'American Samoa', 'Antigua and Barbuda', 'Australia', 'Austria', 'Belgium', 'Bulgaria', 'Bahrain', 'Bahamas, The', 'Bermuda', 'Barbados', 'Brunei Darussalam', 'Canada', 'Switzerland', 'Channel Islands', 'Chile', 'Curacao', 'Cayman Islands', 'Cyprus', 'Czechia', 'Germany', 'Denmark', 'Spain', 'Estonia', 'Finland', 'France', 'Faroe Islands', 'United Kingdom', 'Gibraltar', 'Greece', 'Greenland', 'Guam', 'Guyana', 'Hong Kong SAR, China', 'Croatia', 'Hungary', 'Isle of Man', 'Ireland', 'Iceland', 'Israel', 'Italy', 'Japan', 'St. Kitts and Nevis', 'Korea, Rep.', 'Kuwait', 'Liechtenstein', 'Lithuania', 'Luxembourg', 'Latvia', 'Macao SAR, China', 'St. Martin (French part)', 'Monaco', 'Malta', 'Northern Mariana Islands', 'New Caledonia', 'Netherlands', 'Norway', 'Nauru', 'New Zealand', 'Oman', 'Panama', 'Palau', 'Poland', 'Puerto Rico', 'Portugal', 'French Polynesia', 'Qatar', 'Romania', 'Russian Federation', 'Saudi Arabia', 'Singapore', 'San Marino', 'Slovak Republic', 'Slovenia', 'Sweden', 'Sint Maarten (Dutch part)', 'Seychelles', 'Turks and Caicos Islands', 'Trinidad and Tobago', 'Uruguay', 'United States', 'British Virgin Islands', 'Virgin Islands (U.S.)', 'Aruba', 'Andorra', 'United Arab Emirates', 'American Samoa', 'Antigua and Barbuda', 'Australia', 'Austria', 'Belgium', 'Bulgaria', 'Bahrain', 'Bahamas, The', 'Bermuda', 'Barbados', 'Brunei Darussalam', 'Canada', 'Switzerland', 'Channel Islands', 'Chile', 'Curacao', 'Cayman Islands', 'Cyprus', 'Czechia', 'Germany', 'Denmark', 'Spain', 'Estonia', 'Finland', 'France', 'Faroe Islands', 'United Kingdom', 'Gibraltar', 'Greece', 'Greenland', 'Guam', 'Guyana', 'Hong Kong SAR, China', 'Croatia', 'Hungary', 'Isle of Man', 'Ireland', 'Iceland', 'Israel', 'Italy', 'Japan', 'St. Kitts and Nevis', 'Korea, Rep.', 'Kuwait', 'Liechtenstein', 'Lithuania', 'Luxembourg', 'Latvia', 'Macao SAR, China', 'St. Martin (French part)', 'Monaco', 'Malta', 'Northern Mariana Islands', 'New Caledonia', 'Netherlands', 'Norway', 'Nauru', 'New Zealand', 'Oman', 'Panama', 'Palau', 'Poland', 'Puerto Rico', 'Portugal', 'French Polynesia', 'Qatar', 'Romania', 'Russian Federation', 'Saudi Arabia', 'Singapore', 'San Marino', 'Slovak Republic', 'Slovenia', 'Sweden', 'Sint Maarten (Dutch part)', 'Seychelles', 'Turks and Caicos Islands', 'Trinidad and Tobago', 'Uruguay', 'United States', 'British Virgin Islands', 'Virgin Islands (U.S.)', 'Aruba', 'Andorra', 'United Arab Emirates', 'American Samoa', 'Antigua and Barbuda', 'Australia', 'Austria', 'Belgium', 'Bulgaria', 'Bahrain', 'Bahamas, The', 'Bermuda', 'Barbados', 'Brunei Darussalam', 'Canada', 'Switzerland', 'Channel Islands', 'Chile', 'Curacao', 'Cayman Islands', 'Cyprus', 'Czechia', 'Germany', 'Denmark', 'Spain', 'Estonia', 'Finland', 'France', 'Faroe Islands', 'United Kingdom', 'Gibraltar', 'Greece', 'Greenland', 'Guam', 'Guyana', 'Hong Kong SAR, China', 'Croatia', 'Hungary', 'Isle of Man', 'Ireland', 'Iceland', 'Israel', 'Italy', 'Japan', 'St. Kitts and Nevis', 'Korea, Rep.', 'Kuwait', 'Liechtenstein', 'Lithuania', 'Luxembourg', 'Latvia', 'Macao SAR, China', 'St. Martin (French part)', 'Monaco', 'Malta', 'Northern Mariana Islands', 'New Caledonia', 'Netherlands', 'Norway', 'Nauru', 'New Zealand', 'Oman', 'Panama', 'Palau', 'Poland', 'Puerto Rico', 'Portugal', 'French Polynesia', 'Qatar', 'Romania', 'Russian Federation', 'Saudi Arabia', 'Singapore', 'San Marino', 'Slovak Republic', 'Slovenia', 'Sweden', 'Sint Maarten (Dutch part)', 'Seychelles', 'Turks and Caicos Islands', 'Trinidad and Tobago', 'Uruguay', 'United States', 'British Virgin Islands', 'Virgin Islands (U.S.)', 'Aruba', 'Andorra', 'United Arab Emirates', 'American Samoa', 'Antigua and Barbuda', 'Australia', 'Austria', 'Belgium', 'Bulgaria', 'Bahrain', 'Bahamas, The', 'Bermuda', 'Barbados', 'Brunei Darussalam', 'Canada', 'Switzerland', 'Channel Islands', 'Chile', 'Curacao', 'Cayman Islands', 'Cyprus', 'Czechia', 'Germany', 'Denmark', 'Spain', 'Estonia', 'Finland', 'France', 'Faroe Islands', 'United Kingdom', 'Gibraltar', 'Greece', 'Greenland', 'Guam', 'Guyana', 'Hong Kong SAR, China', 'Croatia', 'Hungary', 'Isle of Man', 'Ireland', 'Iceland', 'Israel', 'Italy', 'Japan', 'St. Kitts and Nevis', 'Korea, Rep.', 'Kuwait', 'Liechtenstein', 'Lithuania', 'Luxembourg', 'Latvia', 'Macao SAR, China', 'St. Martin (French part)', 'Monaco', 'Malta', 'Northern Mariana Islands', 'New Caledonia', 'Netherlands', 'Norway', 'Nauru', 'New Zealand', 'Oman', 'Panama', 'Palau', 'Poland', 'Puerto Rico', 'Portugal', 'French Polynesia', 'Qatar', 'Romania', 'Russian Federation', 'Saudi Arabia', 'Singapore', 'San Marino', 'Slovak Republic', 'Slovenia', 'Sweden', 'Sint Maarten (Dutch part)', 'Seychelles', 'Turks and Caicos Islands', 'Trinidad and Tobago', 'Uruguay', 'United States', 'British Virgin Islands', 'Virgin Islands (U.S.)', 'Aruba', 'Andorra', 'United Arab Emirates', 'American Samoa', 'Antigua and Barbuda', 'Australia', 'Austria', 'Belgium', 'Bulgaria', 'Bahrain', 'Bahamas, The', 'Bermuda', 'Barbados', 'Brunei Darussalam', 'Canada', 'Switzerland', 'Channel Islands', 'Chile', 'Curacao', 'Cayman Islands', 'Cyprus', 'Czechia', 'Germany', 'Denmark', 'Spain', 'Estonia', 'Finland', 'France', 'Faroe Islands', 'United Kingdom', 'Gibraltar', 'Greece', 'Greenland', 'Guam', 'Guyana', 'Hong Kong SAR, China', 'Croatia', 'Hungary', 'Isle of Man', 'Ireland', 'Iceland', 'Israel', 'Italy', 'Japan', 'St. Kitts and Nevis', 'Korea, Rep.', 'Kuwait', 'Liechtenstein', 'Lithuania', 'Luxembourg', 'Latvia', 'Macao SAR, China', 'St. Martin (French part)', 'Monaco', 'Malta', 'Northern Mariana Islands', 'New Caledonia', 'Netherlands', 'Norway', 'Nauru', 'New Zealand', 'Oman', 'Panama', 'Palau', 'Poland', 'Puerto Rico', 'Portugal', 'French Polynesia', 'Qatar', 'Romania', 'Russian Federation', 'Saudi Arabia', 'Singapore', 'San Marino', 'Slovak Republic', 'Slovenia', 'Sweden', 'Sint Maarten (Dutch part)', 'Seychelles', 'Turks and Caicos Islands', 'Trinidad and Tobago', 'Uruguay', 'United States', 'British Virgin Islands', 'Virgin Islands (U.S.)', 'Aruba', 'Andorra', 'United Arab Emirates', 'American Samoa', 'Antigua and Barbuda', 'Australia', 'Austria', 'Belgium', 'Bulgaria', 'Bahrain', 'Bahamas, The', 'Bermuda', 'Barbados', 'Brunei Darussalam', 'Canada', 'Switzerland', 'Channel Islands', 'Chile', 'Curacao', 'Cayman Islands', 'Cyprus', 'Czechia', 'Germany', 'Denmark', 'Spain', 'Estonia', 'Finland', 'France', 'Faroe Islands', 'United Kingdom', 'Gibraltar', 'Greece', 'Greenland', 'Guam', 'Guyana', 'Hong Kong SAR, China', 'Croatia', 'Hungary', 'Isle of Man', 'Ireland', 'Iceland', 'Israel', 'Italy', 'Japan', 'St. Kitts and Nevis', 'Korea, Rep.', 'Kuwait', 'Liechtenstein', 'Lithuania', 'Luxembourg', 'Latvia', 'Macao SAR, China', 'St. Martin (French part)', 'Monaco', 'Malta', 'Northern Mariana Islands', 'New Caledonia', 'Netherlands', 'Norway', 'Nauru', 'New Zealand', 'Oman', 'Panama', 'Palau', 'Poland', 'Puerto Rico', 'Portugal', 'French Polynesia', 'Qatar', 'Romania', 'Russian Federation', 'Saudi Arabia', 'Singapore', 'San Marino', 'Slovak Republic', 'Slovenia', 'Sweden', 'Sint Maarten (Dutch part)', 'Seychelles', 'Turks and Caicos Islands', 'Trinidad and Tobago', 'Uruguay', 'United States', 'British Virgin Islands', 'Virgin Islands (U.S.)', 'Aruba', 'Andorra', 'United Arab Emirates', 'American Samoa', 'Antigua and Barbuda', 'Australia', 'Austria', 'Belgium', 'Bulgaria', 'Bahrain', 'Bahamas, The', 'Bermuda', 'Barbados', 'Brunei Darussalam', 'Canada', 'Switzerland', 'Channel Islands', 'Chile', 'Curacao', 'Cayman Islands', 'Cyprus', 'Czechia', 'Germany', 'Denmark', 'Spain', 'Estonia', 'Finland', 'France', 'Faroe Islands', 'United Kingdom', 'Gibraltar', 'Greece', 'Greenland', 'Guam', 'Guyana', 'Hong Kong SAR, China', 'Croatia', 'Hungary', 'Isle of Man', 'Ireland', 'Iceland', 'Israel', 'Italy', 'Japan', 'St. Kitts and Nevis', 'Korea, Rep.', 'Kuwait', 'Liechtenstein', 'Lithuania', 'Luxembourg', 'Latvia', 'Macao SAR, China', 'St. Martin (French part)', 'Monaco', 'Malta', 'Northern Mariana Islands', 'New Caledonia', 'Netherlands', 'Norway', 'Nauru', 'New Zealand', 'Oman', 'Panama', 'Palau', 'Poland', 'Puerto Rico', 'Portugal', 'French Polynesia', 'Qatar', 'Romania', 'Russian Federation', 'Saudi Arabia', 'Singapore', 'San Marino', 'Slovak Republic', 'Slovenia', 'Sweden', 'Sint Maarten (Dutch part)', 'Seychelles', 'Turks and Caicos Islands', 'Trinidad and Tobago', 'Uruguay', 'United States', 'British Virgin Islands', 'Virgin Islands (U.S.)', 'Aruba', 'Andorra', 'United Arab Emirates', 'American Samoa', 'Antigua and Barbuda', 'Australia', 'Austria', 'Belgium', 'Bulgaria', 'Bahrain', 'Bahamas, The', 'Bermuda', 'Barbados', 'Brunei Darussalam', 'Canada', 'Switzerland', 'Channel Islands', 'Chile', 'Curacao', 'Cayman Islands', 'Cyprus', 'Czechia', 'Germany', 'Denmark', 'Spain', 'Estonia', 'Finland', 'France', 'Faroe Islands', 'United Kingdom', 'Gibraltar', 'Greece', 'Greenland', 'Guam', 'Guyana', 'Hong Kong SAR, China', 'Croatia', 'Hungary', 'Isle of Man', 'Ireland', 'Iceland', 'Israel', 'Italy', 'Japan', 'St. Kitts and Nevis', 'Korea, Rep.', 'Kuwait', 'Liechtenstein', 'Lithuania', 'Luxembourg', 'Latvia', 'Macao SAR, China', 'St. Martin (French part)', 'Monaco', 'Malta', 'Northern Mariana Islands', 'New Caledonia', 'Netherlands', 'Norway', 'Nauru', 'New Zealand', 'Oman', 'Panama', 'Palau', 'Poland', 'Puerto Rico', 'Portugal', 'French Polynesia', 'Qatar', 'Romania', 'Russian Federation', 'Saudi Arabia', 'Singapore', 'San Marino', 'Slovak Republic', 'Slovenia', 'Sweden', 'Sint Maarten (Dutch part)', 'Seychelles', 'Turks and Caicos Islands', 'Trinidad and Tobago', 'Uruguay', 'United States', 'British Virgin Islands', 'Virgin Islands (U.S.)', 'Aruba', 'Andorra', 'United Arab Emirates', 'American Samoa', 'Antigua and Barbuda', 'Australia', 'Austria', 'Belgium', 'Bulgaria', 'Bahrain', 'Bahamas, The', 'Bermuda', 'Barbados', 'Brunei Darussalam', 'Canada', 'Switzerland', 'Channel Islands', 'Chile', 'Curacao', 'Cayman Islands', 'Cyprus', 'Czechia', 'Germany', 'Denmark', 'Spain', 'Estonia', 'Finland', 'France', 'Faroe Islands', 'United Kingdom', 'Gibraltar', 'Greece', 'Greenland', 'Guam', 'Guyana', 'Hong Kong SAR, China', 'Croatia', 'Hungary', 'Isle of Man', 'Ireland', 'Iceland', 'Israel', 'Italy', 'Japan', 'St. Kitts and Nevis', 'Korea, Rep.', 'Kuwait', 'Liechtenstein', 'Lithuania', 'Luxembourg', 'Latvia', 'Macao SAR, China', 'St. Martin (French part)', 'Monaco', 'Malta', 'Northern Mariana Islands', 'New Caledonia', 'Netherlands', 'Norway', 'Nauru', 'New Zealand', 'Oman', 'Panama', 'Palau', 'Poland', 'Puerto Rico', 'Portugal', 'French Polynesia', 'Qatar', 'Romania', 'Russian Federation', 'Saudi Arabia', 'Singapore', 'San Marino', 'Slovak Republic', 'Slovenia', 'Sweden', 'Sint Maarten (Dutch part)', 'Seychelles', 'Turks and Caicos Islands', 'Trinidad and Tobago', 'Uruguay', 'United States', 'British Virgin Islands', 'Virgin Islands (U.S.)', 'Aruba', 'Andorra', 'United Arab Emirates', 'American Samoa', 'Antigua and Barbuda', 'Australia', 'Austria', 'Belgium', 'Bulgaria', 'Bahrain', 'Bahamas, The', 'Bermuda', 'Barbados', 'Brunei Darussalam', 'Canada', 'Switzerland', 'Channel Islands', 'Chile', 'Curacao', 'Cayman Islands', 'Cyprus', 'Czechia', 'Germany', 'Denmark', 'Spain', 'Estonia', 'Finland', 'France', 'Faroe Islands', 'United Kingdom', 'Gibraltar', 'Greece', 'Greenland', 'Guam', 'Guyana', 'Hong Kong SAR, China', 'Croatia', 'Hungary', 'Isle of Man', 'Ireland', 'Iceland', 'Israel', 'Italy', 'Japan', 'St. Kitts and Nevis', 'Korea, Rep.', 'Kuwait', 'Liechtenstein', 'Lithuania', 'Luxembourg', 'Latvia', 'Macao SAR, China', 'St. Martin (French part)', 'Monaco', 'Malta', 'Northern Mariana Islands', 'New Caledonia', 'Netherlands', 'Norway', 'Nauru', 'New Zealand', 'Oman', 'Panama', 'Palau', 'Poland', 'Puerto Rico', 'Portugal', 'French Polynesia', 'Qatar', 'Romania', 'Russian Federation', 'Saudi Arabia', 'Singapore', 'San Marino', 'Slovak Republic', 'Slovenia', 'Sweden', 'Sint Maarten (Dutch part)', 'Seychelles', 'Turks and Caicos Islands', 'Trinidad and Tobago', 'Uruguay', 'United States', 'British Virgin Islands', 'Virgin Islands (U.S.)', 'Aruba', 'Andorra', 'United Arab Emirates', 'American Samoa', 'Antigua and Barbuda', 'Australia', 'Austria', 'Belgium', 'Bulgaria', 'Bahrain', 'Bahamas, The', 'Bermuda', 'Barbados', 'Brunei Darussalam', 'Canada', 'Switzerland', 'Channel Islands', 'Chile', 'Curacao', 'Cayman Islands', 'Cyprus', 'Czechia', 'Germany', 'Denmark', 'Spain', 'Estonia', 'Finland', 'France', 'Faroe Islands', 'United Kingdom', 'Gibraltar', 'Greece', 'Greenland', 'Guam', 'Guyana', 'Hong Kong SAR, China', 'Croatia', 'Hungary', 'Isle of Man', 'Ireland', 'Iceland', 'Israel', 'Italy', 'Japan', 'St. Kitts and Nevis', 'Korea, Rep.', 'Kuwait', 'Liechtenstein', 'Lithuania', 'Luxembourg', 'Latvia', 'Macao SAR, China', 'St. Martin (French part)', 'Monaco', 'Malta', 'Northern Mariana Islands', 'New Caledonia', 'Netherlands', 'Norway', 'Nauru', 'New Zealand', 'Oman', 'Panama', 'Palau', 'Poland', 'Puerto Rico', 'Portugal', 'French Polynesia', 'Qatar', 'Romania', 'Russian Federation', 'Saudi Arabia', 'Singapore', 'San Marino', 'Slovak Republic', 'Slovenia', 'Sweden', 'Sint Maarten (Dutch part)', 'Seychelles', 'Turks and Caicos Islands', 'Trinidad and Tobago', 'Uruguay', 'United States', 'British Virgin Islands', 'Virgin Islands (U.S.)', 'Aruba', 'Andorra', 'United Arab Emirates', 'American Samoa', 'Antigua and Barbuda', 'Australia', 'Austria', 'Belgium', 'Bulgaria', 'Bahrain', 'Bahamas, The', 'Bermuda', 'Barbados', 'Brunei Darussalam', 'Canada', 'Switzerland', 'Channel Islands', 'Chile', 'Curacao', 'Cayman Islands', 'Cyprus', 'Czechia', 'Germany', 'Denmark', 'Spain', 'Estonia', 'Finland', 'France', 'Faroe Islands', 'United Kingdom', 'Gibraltar', 'Greece', 'Greenland', 'Guam', 'Guyana', 'Hong Kong SAR, China', 'Croatia', 'Hungary', 'Isle of Man', 'Ireland', 'Iceland', 'Israel', 'Italy', 'Japan', 'St. Kitts and Nevis', 'Korea, Rep.', 'Kuwait', 'Liechtenstein', 'Lithuania', 'Luxembourg', 'Latvia', 'Macao SAR, China', 'St. Martin (French part)', 'Monaco', 'Malta', 'Northern Mariana Islands', 'New Caledonia', 'Netherlands', 'Norway', 'Nauru', 'New Zealand', 'Oman', 'Panama', 'Palau', 'Poland', 'Puerto Rico', 'Portugal', 'French Polynesia', 'Qatar', 'Romania', 'Russian Federation', 'Saudi Arabia', 'Singapore', 'San Marino', 'Slovak Republic', 'Slovenia', 'Sweden', 'Sint Maarten (Dutch part)', 'Seychelles', 'Turks and Caicos Islands', 'Trinidad and Tobago', 'Uruguay', 'United States', 'British Virgin Islands', 'Virgin Islands (U.S.)', 'Aruba', 'Andorra', 'United Arab Emirates', 'American Samoa', 'Antigua and Barbuda', 'Australia', 'Austria', 'Belgium', 'Bulgaria', 'Bahrain', 'Bahamas, The', 'Bermuda', 'Barbados', 'Brunei Darussalam', 'Canada', 'Switzerland', 'Channel Islands', 'Chile', 'Curacao', 'Cayman Islands', 'Cyprus', 'Czechia', 'Germany', 'Denmark', 'Spain', 'Estonia', 'Finland', 'France', 'Faroe Islands', 'United Kingdom', 'Gibraltar', 'Greece', 'Greenland', 'Guam', 'Guyana', 'Hong Kong SAR, China', 'Croatia', 'Hungary', 'Isle of Man', 'Ireland', 'Iceland', 'Israel', 'Italy', 'Japan', 'St. Kitts and Nevis', 'Korea, Rep.', 'Kuwait', 'Liechtenstein', 'Lithuania', 'Luxembourg', 'Latvia', 'Macao SAR, China', 'St. Martin (French part)', 'Monaco', 'Malta', 'Northern Mariana Islands', 'New Caledonia', 'Netherlands', 'Norway', 'Nauru', 'New Zealand', 'Oman', 'Panama', 'Palau', 'Poland', 'Puerto Rico', 'Portugal', 'French Polynesia', 'Qatar', 'Romania', 'Russian Federation', 'Saudi Arabia', 'Singapore', 'San Marino', 'Slovak Republic', 'Slovenia', 'Sweden', 'Sint Maarten (Dutch part)', 'Seychelles', 'Turks and Caicos Islands', 'Trinidad and Tobago', 'Uruguay', 'United States', 'British Virgin Islands', 'Virgin Islands (U.S.)', 'Aruba', 'Andorra', 'United Arab Emirates', 'American Samoa', 'Antigua and Barbuda', 'Australia', 'Austria', 'Belgium', 'Bulgaria', 'Bahrain', 'Bahamas, The', 'Bermuda', 'Barbados', 'Brunei Darussalam', 'Canada', 'Switzerland', 'Channel Islands', 'Chile', 'Curacao', 'Cayman Islands', 'Cyprus', 'Czechia', 'Germany', 'Denmark', 'Spain', 'Estonia', 'Finland', 'France', 'Faroe Islands', 'United Kingdom', 'Gibraltar', 'Greece', 'Greenland', 'Guam', 'Guyana', 'Hong Kong SAR, China', 'Croatia', 'Hungary', 'Isle of Man', 'Ireland', 'Iceland', 'Israel', 'Italy', 'Japan', 'St. Kitts and Nevis', 'Korea, Rep.', 'Kuwait', 'Liechtenstein', 'Lithuania', 'Luxembourg', 'Latvia', 'Macao SAR, China', 'St. Martin (French part)', 'Monaco', 'Malta', 'Northern Mariana Islands', 'New Caledonia', 'Netherlands', 'Norway', 'Nauru', 'New Zealand', 'Oman', 'Panama', 'Palau', 'Poland', 'Puerto Rico', 'Portugal', 'French Polynesia', 'Qatar', 'Romania', 'Russian Federation', 'Saudi Arabia', 'Singapore', 'San Marino', 'Slovak Republic', 'Slovenia', 'Sweden', 'Sint Maarten (Dutch part)', 'Seychelles', 'Turks and Caicos Islands', 'Trinidad and Tobago', 'Uruguay', 'United States', 'British Virgin Islands', 'Virgin Islands (U.S.)', 'Aruba', 'Andorra', 'United Arab Emirates', 'American Samoa', 'Antigua and Barbuda', 'Australia', 'Austria', 'Belgium', 'Bulgaria', 'Bahrain', 'Bahamas, The', 'Bermuda', 'Barbados', 'Brunei Darussalam', 'Canada', 'Switzerland', 'Channel Islands', 'Chile', 'Curacao', 'Cayman Islands', 'Cyprus', 'Czechia', 'Germany', 'Denmark', 'Spain', 'Estonia', 'Finland', 'France', 'Faroe Islands', 'United Kingdom', 'Gibraltar', 'Greece', 'Greenland', 'Guam', 'Guyana', 'Hong Kong SAR, China', 'Croatia', 'Hungary', 'Isle of Man', 'Ireland', 'Iceland', 'Israel', 'Italy', 'Japan', 'St. Kitts and Nevis', 'Korea, Rep.', 'Kuwait', 'Liechtenstein', 'Lithuania', 'Luxembourg', 'Latvia', 'Macao SAR, China', 'St. Martin (French part)', 'Monaco', 'Malta', 'Northern Mariana Islands', 'New Caledonia', 'Netherlands', 'Norway', 'Nauru', 'New Zealand', 'Oman', 'Panama', 'Palau', 'Poland', 'Puerto Rico', 'Portugal', 'French Polynesia', 'Qatar', 'Romania', 'Russian Federation', 'Saudi Arabia', 'Singapore', 'San Marino', 'Slovak Republic', 'Slovenia', 'Sweden', 'Sint Maarten (Dutch part)', 'Seychelles', 'Turks and Caicos Islands', 'Trinidad and Tobago', 'Uruguay', 'United States', 'British Virgin Islands', 'Virgin Islands (U.S.)', 'Aruba', 'Andorra', 'United Arab Emirates', 'American Samoa', 'Antigua and Barbuda', 'Australia', 'Austria', 'Belgium', 'Bulgaria', 'Bahrain', 'Bahamas, The', 'Bermuda', 'Barbados', 'Brunei Darussalam', 'Canada', 'Switzerland', 'Channel Islands', 'Chile', 'Curacao', 'Cayman Islands', 'Cyprus', 'Czechia', 'Germany', 'Denmark', 'Spain', 'Estonia', 'Finland', 'France', 'Faroe Islands', 'United Kingdom', 'Gibraltar', 'Greece', 'Greenland', 'Guam', 'Guyana', 'Hong Kong SAR, China', 'Croatia', 'Hungary', 'Isle of Man', 'Ireland', 'Iceland', 'Israel', 'Italy', 'Japan', 'St. Kitts and Nevis', 'Korea, Rep.', 'Kuwait', 'Liechtenstein', 'Lithuania', 'Luxembourg', 'Latvia', 'Macao SAR, China', 'St. Martin (French part)', 'Monaco', 'Malta', 'Northern Mariana Islands', 'New Caledonia', 'Netherlands', 'Norway', 'Nauru', 'New Zealand', 'Oman', 'Panama', 'Palau', 'Poland', 'Puerto Rico', 'Portugal', 'French Polynesia', 'Qatar', 'Romania', 'Russian Federation', 'Saudi Arabia', 'Singapore', 'San Marino', 'Slovak Republic', 'Slovenia', 'Sweden', 'Sint Maarten (Dutch part)', 'Seychelles', 'Turks and Caicos Islands', 'Trinidad and Tobago', 'Uruguay', 'United States', 'British Virgin Islands', 'Virgin Islands (U.S.)', 'Aruba', 'Andorra', 'United Arab Emirates', 'American Samoa', 'Antigua and Barbuda', 'Australia', 'Austria', 'Belgium', 'Bulgaria', 'Bahrain', 'Bahamas, The', 'Bermuda', 'Barbados', 'Brunei Darussalam', 'Canada', 'Switzerland', 'Channel Islands', 'Chile', 'Curacao', 'Cayman Islands', 'Cyprus', 'Czechia', 'Germany', 'Denmark', 'Spain', 'Estonia', 'Finland', 'France', 'Faroe Islands', 'United Kingdom', 'Gibraltar', 'Greece', 'Greenland', 'Guam', 'Guyana', 'Hong Kong SAR, China', 'Croatia', 'Hungary', 'Isle of Man', 'Ireland', 'Iceland', 'Israel', 'Italy', 'Japan', 'St. Kitts and Nevis', 'Korea, Rep.', 'Kuwait', 'Liechtenstein', 'Lithuania', 'Luxembourg', 'Latvia', 'Macao SAR, China', 'St. Martin (French part)', 'Monaco', 'Malta', 'Northern Mariana Islands', 'New Caledonia', 'Netherlands', 'Norway', 'Nauru', 'New Zealand', 'Oman', 'Panama', 'Palau', 'Poland', 'Puerto Rico', 'Portugal', 'French Polynesia', 'Qatar', 'Romania', 'Russian Federation', 'Saudi Arabia', 'Singapore', 'San Marino', 'Slovak Republic', 'Slovenia', 'Sweden', 'Sint Maarten (Dutch part)', 'Seychelles', 'Turks and Caicos Islands', 'Trinidad and Tobago', 'Uruguay', 'United States', 'British Virgin Islands', 'Virgin Islands (U.S.)', 'Aruba', 'Andorra', 'United Arab Emirates', 'American Samoa', 'Antigua and Barbuda', 'Australia', 'Austria', 'Belgium', 'Bulgaria', 'Bahrain', 'Bahamas, The', 'Bermuda', 'Barbados', 'Brunei Darussalam', 'Canada', 'Switzerland', 'Channel Islands', 'Chile', 'Curacao', 'Cayman Islands', 'Cyprus', 'Czechia', 'Germany', 'Denmark', 'Spain', 'Estonia', 'Finland', 'France', 'Faroe Islands', 'United Kingdom', 'Gibraltar', 'Greece', 'Greenland', 'Guam', 'Guyana', 'Hong Kong SAR, China', 'Croatia', 'Hungary', 'Isle of Man', 'Ireland', 'Iceland', 'Israel', 'Italy', 'Japan', 'St. Kitts and Nevis', 'Korea, Rep.', 'Kuwait', 'Liechtenstein', 'Lithuania', 'Luxembourg', 'Latvia', 'Macao SAR, China', 'St. Martin (French part)', 'Monaco', 'Malta', 'Northern Mariana Islands', 'New Caledonia', 'Netherlands', 'Norway', 'Nauru', 'New Zealand', 'Oman', 'Panama', 'Palau', 'Poland', 'Puerto Rico', 'Portugal', 'French Polynesia', 'Qatar', 'Romania', 'Russian Federation', 'Saudi Arabia', 'Singapore', 'San Marino', 'Slovak Republic', 'Slovenia', 'Sweden', 'Sint Maarten (Dutch part)', 'Seychelles', 'Turks and Caicos Islands', 'Trinidad and Tobago', 'Uruguay', 'United States', 'British Virgin Islands', 'Virgin Islands (U.S.)', 'Aruba', 'Andorra', 'United Arab Emirates', 'American Samoa', 'Antigua and Barbuda', 'Australia', 'Austria', 'Belgium', 'Bulgaria', 'Bahrain', 'Bahamas, The', 'Bermuda', 'Barbados', 'Brunei Darussalam', 'Canada', 'Switzerland', 'Channel Islands', 'Chile', 'Curacao', 'Cayman Islands', 'Cyprus', 'Czechia', 'Germany', 'Denmark', 'Spain', 'Estonia', 'Finland', 'France', 'Faroe Islands', 'United Kingdom', 'Gibraltar', 'Greece', 'Greenland', 'Guam', 'Guyana', 'Hong Kong SAR, China', 'Croatia', 'Hungary', 'Isle of Man', 'Ireland', 'Iceland', 'Israel', 'Italy', 'Japan', 'St. Kitts and Nevis', 'Korea, Rep.', 'Kuwait', 'Liechtenstein', 'Lithuania', 'Luxembourg', 'Latvia', 'Macao SAR, China', 'St. Martin (French part)', 'Monaco', 'Malta', 'Northern Mariana Islands', 'New Caledonia', 'Netherlands', 'Norway', 'Nauru', 'New Zealand', 'Oman', 'Panama', 'Palau', 'Poland', 'Puerto Rico', 'Portugal', 'French Polynesia', 'Qatar', 'Romania', 'Russian Federation', 'Saudi Arabia', 'Singapore', 'San Marino', 'Slovak Republic', 'Slovenia', 'Sweden', 'Sint Maarten (Dutch part)', 'Seychelles', 'Turks and Caicos Islands', 'Trinidad and Tobago', 'Uruguay', 'United States', 'British Virgin Islands', 'Virgin Islands (U.S.)', 'Aruba', 'Andorra', 'United Arab Emirates', 'American Samoa', 'Antigua and Barbuda', 'Australia', 'Austria', 'Belgium', 'Bulgaria', 'Bahrain', 'Bahamas, The', 'Bermuda', 'Barbados', 'Brunei Darussalam', 'Canada', 'Switzerland', 'Channel Islands', 'Chile', 'Curacao', 'Cayman Islands', 'Cyprus', 'Czechia', 'Germany', 'Denmark', 'Spain', 'Estonia', 'Finland', 'France', 'Faroe Islands', 'United Kingdom', 'Gibraltar', 'Greece', 'Greenland', 'Guam', 'Guyana', 'Hong Kong SAR, China', 'Croatia', 'Hungary', 'Isle of Man', 'Ireland', 'Iceland', 'Israel', 'Italy', 'Japan', 'St. Kitts and Nevis', 'Korea, Rep.', 'Kuwait', 'Liechtenstein', 'Lithuania', 'Luxembourg', 'Latvia', 'Macao SAR, China', 'St. Martin (French part)', 'Monaco', 'Malta', 'Northern Mariana Islands', 'New Caledonia', 'Netherlands', 'Norway', 'Nauru', 'New Zealand', 'Oman', 'Panama', 'Palau', 'Poland', 'Puerto Rico', 'Portugal', 'French Polynesia', 'Qatar', 'Romania', 'Russian Federation', 'Saudi Arabia', 'Singapore', 'San Marino', 'Slovak Republic', 'Slovenia', 'Sweden', 'Sint Maarten (Dutch part)', 'Seychelles', 'Turks and Caicos Islands', 'Trinidad and Tobago', 'Uruguay', 'United States', 'British Virgin Islands', 'Virgin Islands (U.S.)']\n"
          ]
        }
      ]
    },
    {
      "cell_type": "markdown",
      "source": [
        "## Step 4 - Categorize Each Country\n",
        "\n",
        "Create a new column \"Group\". If a country is one of the seven G7 countried, the value of \"Group\" would be \"G7\", if a country of one of the five BRICS countries, the value of \"Group\" would be \"BRICS\". Otherwise, the value of \"Group\" would be \"REST of WORLD\"."
      ],
      "metadata": {
        "id": "61gP6Yri0ufS"
      }
    },
    {
      "cell_type": "code",
      "source": [
        "\n",
        "g7_countries = ['Canada', 'France', 'Germany', 'Italy', 'Japan', 'United Kingdom', 'United States']\n",
        "brics_countries = ['Brazil', 'Russia', 'India', 'China', 'South Africa']\n",
        "\n",
        "def categorize_country(country):\n",
        "  if country in g7_countries:\n",
        "    return 'G7'\n",
        "  elif country in brics_countries:\n",
        "    return 'BRICS'\n",
        "  else:\n",
        "    return 'REST of WORLD'\n",
        "\n",
        "df['Group'] = df['Country Name'].apply(categorize_country)\n",
        "\n",
        "# printing the Group column\n",
        "df[\"Group\"]"
      ],
      "metadata": {
        "id": "m3hcbGl2wpM0",
        "outputId": "b906a374-fca9-443a-89fa-c4623f09b3c8",
        "colab": {
          "base_uri": "https://localhost:8080/",
          "height": 478
        }
      },
      "execution_count": 7,
      "outputs": [
        {
          "output_type": "execute_result",
          "data": {
            "text/plain": [
              "0       REST of WORLD\n",
              "1       REST of WORLD\n",
              "2       REST of WORLD\n",
              "3       REST of WORLD\n",
              "4       REST of WORLD\n",
              "            ...      \n",
              "5203    REST of WORLD\n",
              "5204    REST of WORLD\n",
              "5205            BRICS\n",
              "5206    REST of WORLD\n",
              "5207    REST of WORLD\n",
              "Name: Group, Length: 5208, dtype: object"
            ],
            "text/html": [
              "<div>\n",
              "<style scoped>\n",
              "    .dataframe tbody tr th:only-of-type {\n",
              "        vertical-align: middle;\n",
              "    }\n",
              "\n",
              "    .dataframe tbody tr th {\n",
              "        vertical-align: top;\n",
              "    }\n",
              "\n",
              "    .dataframe thead th {\n",
              "        text-align: right;\n",
              "    }\n",
              "</style>\n",
              "<table border=\"1\" class=\"dataframe\">\n",
              "  <thead>\n",
              "    <tr style=\"text-align: right;\">\n",
              "      <th></th>\n",
              "      <th>Group</th>\n",
              "    </tr>\n",
              "  </thead>\n",
              "  <tbody>\n",
              "    <tr>\n",
              "      <th>0</th>\n",
              "      <td>REST of WORLD</td>\n",
              "    </tr>\n",
              "    <tr>\n",
              "      <th>1</th>\n",
              "      <td>REST of WORLD</td>\n",
              "    </tr>\n",
              "    <tr>\n",
              "      <th>2</th>\n",
              "      <td>REST of WORLD</td>\n",
              "    </tr>\n",
              "    <tr>\n",
              "      <th>3</th>\n",
              "      <td>REST of WORLD</td>\n",
              "    </tr>\n",
              "    <tr>\n",
              "      <th>4</th>\n",
              "      <td>REST of WORLD</td>\n",
              "    </tr>\n",
              "    <tr>\n",
              "      <th>...</th>\n",
              "      <td>...</td>\n",
              "    </tr>\n",
              "    <tr>\n",
              "      <th>5203</th>\n",
              "      <td>REST of WORLD</td>\n",
              "    </tr>\n",
              "    <tr>\n",
              "      <th>5204</th>\n",
              "      <td>REST of WORLD</td>\n",
              "    </tr>\n",
              "    <tr>\n",
              "      <th>5205</th>\n",
              "      <td>BRICS</td>\n",
              "    </tr>\n",
              "    <tr>\n",
              "      <th>5206</th>\n",
              "      <td>REST of WORLD</td>\n",
              "    </tr>\n",
              "    <tr>\n",
              "      <th>5207</th>\n",
              "      <td>REST of WORLD</td>\n",
              "    </tr>\n",
              "  </tbody>\n",
              "</table>\n",
              "<p>5208 rows × 1 columns</p>\n",
              "</div><br><label><b>dtype:</b> object</label>"
            ]
          },
          "metadata": {},
          "execution_count": 7
        }
      ]
    },
    {
      "cell_type": "markdown",
      "source": [
        "## Step 5 - Aggregate Data\n",
        "\n",
        "Aggregate the following columns at the \"Group\" level for each year:\n",
        "\n",
        "- For GDP, using \"sum\" for aggregation.\n",
        "- For GDP Per Capita, use \"mean\" for aggregation.\n",
        "- Check your calculation with the reference site."
      ],
      "metadata": {
        "id": "9xcFvhYy1ogD"
      }
    },
    {
      "cell_type": "code",
      "source": [
        "df_groupby_group = df.groupby(['Year', 'Group']).agg({\n",
        "    'GDP ($Billions)': 'sum',  # Sum GDP by Group and Year\n",
        "    'GDP Per Capita ($)': 'mean'  # Mean GDP per capita by Group and Year\n",
        "}).reset_index()\n",
        "\n",
        "print(\"Data Aggregrated :\")\n",
        "print(df_groupby_group.head())"
      ],
      "metadata": {
        "id": "h4hOi4tIw4BM",
        "outputId": "67d7128b-2f79-4d05-a842-d9747442dcd7",
        "colab": {
          "base_uri": "https://localhost:8080/"
        }
      },
      "execution_count": 8,
      "outputs": [
        {
          "output_type": "stream",
          "name": "stdout",
          "text": [
            "Data Aggregrated :\n",
            "   Year          Group  GDP ($Billions)  GDP Per Capita ($)\n",
            "0  2000          BRICS      2486.928163         2092.467207\n",
            "1  2000             G7     22089.917915        27757.147971\n",
            "2  2000  REST of WORLD      8901.873408         7547.718130\n",
            "3  2001          BRICS      2520.254577         1878.182566\n",
            "4  2001             G7     21836.921489        27121.012840\n"
          ]
        }
      ]
    },
    {
      "cell_type": "markdown",
      "source": [
        "## Step 6 - Calculate Percentage Share of GDP\n",
        "\n",
        "For each year, calculate the percentage share of each group's GDP. Check your calculation with the reference site."
      ],
      "metadata": {
        "id": "fG8tp1dG3BKp"
      }
    },
    {
      "cell_type": "code",
      "source": [
        "\n",
        "# Calculate the total GDP for each year\n",
        "total_gdp_by_year = df_groupby_group.groupby('Year')['GDP ($Billions)'].sum()\n",
        "\n",
        "# Calculate the percentage share of each group's GDP for each year\n",
        "df_groupby_group['GDP Percentage Share'] = df_groupby_group.apply(lambda row: (row['GDP ($Billions)'] / total_gdp_by_year[row['Year']]) * 100, axis=1)\n",
        "\n",
        "print(\"\\nGDP Percentage Share by Group and Year:\")\n",
        "df_groupby_group"
      ],
      "metadata": {
        "id": "blsUm4fdxSN7",
        "outputId": "ca3c3570-07e3-4e5a-8a31-0d3a535d4a6c",
        "colab": {
          "base_uri": "https://localhost:8080/",
          "height": 479
        }
      },
      "execution_count": 9,
      "outputs": [
        {
          "output_type": "stream",
          "name": "stdout",
          "text": [
            "\n",
            "GDP Percentage Share by Group and Year:\n"
          ]
        },
        {
          "output_type": "execute_result",
          "data": {
            "text/plain": [
              "    Year          Group  GDP ($Billions)  GDP Per Capita ($)  \\\n",
              "0   2000          BRICS      2486.928163         2092.467207   \n",
              "1   2000             G7     22089.917915        27757.147971   \n",
              "2   2000  REST of WORLD      8901.873408         7547.718130   \n",
              "3   2001          BRICS      2520.254577         1878.182566   \n",
              "4   2001             G7     21836.921489        27121.012840   \n",
              "..   ...            ...              ...                 ...   \n",
              "67  2022             G7     44179.375717        48144.368028   \n",
              "68  2022  REST of WORLD     32131.733042        19694.284580   \n",
              "69  2023          BRICS     23896.148162         7848.922990   \n",
              "70  2023             G7     46795.834427        50478.231453   \n",
              "71  2023  REST of WORLD     33049.763790        16319.230049   \n",
              "\n",
              "    GDP Percentage Share  \n",
              "0               7.428385  \n",
              "1              65.981968  \n",
              "2              26.589647  \n",
              "3               7.568731  \n",
              "4              65.579800  \n",
              "..                   ...  \n",
              "67             44.222025  \n",
              "68             32.162752  \n",
              "69             23.034264  \n",
              "70             45.108007  \n",
              "71             31.857728  \n",
              "\n",
              "[72 rows x 5 columns]"
            ],
            "text/html": [
              "\n",
              "  <div id=\"df-d612dd12-1517-493f-aaf0-4f66df659c9d\" class=\"colab-df-container\">\n",
              "    <div>\n",
              "<style scoped>\n",
              "    .dataframe tbody tr th:only-of-type {\n",
              "        vertical-align: middle;\n",
              "    }\n",
              "\n",
              "    .dataframe tbody tr th {\n",
              "        vertical-align: top;\n",
              "    }\n",
              "\n",
              "    .dataframe thead th {\n",
              "        text-align: right;\n",
              "    }\n",
              "</style>\n",
              "<table border=\"1\" class=\"dataframe\">\n",
              "  <thead>\n",
              "    <tr style=\"text-align: right;\">\n",
              "      <th></th>\n",
              "      <th>Year</th>\n",
              "      <th>Group</th>\n",
              "      <th>GDP ($Billions)</th>\n",
              "      <th>GDP Per Capita ($)</th>\n",
              "      <th>GDP Percentage Share</th>\n",
              "    </tr>\n",
              "  </thead>\n",
              "  <tbody>\n",
              "    <tr>\n",
              "      <th>0</th>\n",
              "      <td>2000</td>\n",
              "      <td>BRICS</td>\n",
              "      <td>2486.928163</td>\n",
              "      <td>2092.467207</td>\n",
              "      <td>7.428385</td>\n",
              "    </tr>\n",
              "    <tr>\n",
              "      <th>1</th>\n",
              "      <td>2000</td>\n",
              "      <td>G7</td>\n",
              "      <td>22089.917915</td>\n",
              "      <td>27757.147971</td>\n",
              "      <td>65.981968</td>\n",
              "    </tr>\n",
              "    <tr>\n",
              "      <th>2</th>\n",
              "      <td>2000</td>\n",
              "      <td>REST of WORLD</td>\n",
              "      <td>8901.873408</td>\n",
              "      <td>7547.718130</td>\n",
              "      <td>26.589647</td>\n",
              "    </tr>\n",
              "    <tr>\n",
              "      <th>3</th>\n",
              "      <td>2001</td>\n",
              "      <td>BRICS</td>\n",
              "      <td>2520.254577</td>\n",
              "      <td>1878.182566</td>\n",
              "      <td>7.568731</td>\n",
              "    </tr>\n",
              "    <tr>\n",
              "      <th>4</th>\n",
              "      <td>2001</td>\n",
              "      <td>G7</td>\n",
              "      <td>21836.921489</td>\n",
              "      <td>27121.012840</td>\n",
              "      <td>65.579800</td>\n",
              "    </tr>\n",
              "    <tr>\n",
              "      <th>...</th>\n",
              "      <td>...</td>\n",
              "      <td>...</td>\n",
              "      <td>...</td>\n",
              "      <td>...</td>\n",
              "      <td>...</td>\n",
              "    </tr>\n",
              "    <tr>\n",
              "      <th>67</th>\n",
              "      <td>2022</td>\n",
              "      <td>G7</td>\n",
              "      <td>44179.375717</td>\n",
              "      <td>48144.368028</td>\n",
              "      <td>44.222025</td>\n",
              "    </tr>\n",
              "    <tr>\n",
              "      <th>68</th>\n",
              "      <td>2022</td>\n",
              "      <td>REST of WORLD</td>\n",
              "      <td>32131.733042</td>\n",
              "      <td>19694.284580</td>\n",
              "      <td>32.162752</td>\n",
              "    </tr>\n",
              "    <tr>\n",
              "      <th>69</th>\n",
              "      <td>2023</td>\n",
              "      <td>BRICS</td>\n",
              "      <td>23896.148162</td>\n",
              "      <td>7848.922990</td>\n",
              "      <td>23.034264</td>\n",
              "    </tr>\n",
              "    <tr>\n",
              "      <th>70</th>\n",
              "      <td>2023</td>\n",
              "      <td>G7</td>\n",
              "      <td>46795.834427</td>\n",
              "      <td>50478.231453</td>\n",
              "      <td>45.108007</td>\n",
              "    </tr>\n",
              "    <tr>\n",
              "      <th>71</th>\n",
              "      <td>2023</td>\n",
              "      <td>REST of WORLD</td>\n",
              "      <td>33049.763790</td>\n",
              "      <td>16319.230049</td>\n",
              "      <td>31.857728</td>\n",
              "    </tr>\n",
              "  </tbody>\n",
              "</table>\n",
              "<p>72 rows × 5 columns</p>\n",
              "</div>\n",
              "    <div class=\"colab-df-buttons\">\n",
              "\n",
              "  <div class=\"colab-df-container\">\n",
              "    <button class=\"colab-df-convert\" onclick=\"convertToInteractive('df-d612dd12-1517-493f-aaf0-4f66df659c9d')\"\n",
              "            title=\"Convert this dataframe to an interactive table.\"\n",
              "            style=\"display:none;\">\n",
              "\n",
              "  <svg xmlns=\"http://www.w3.org/2000/svg\" height=\"24px\" viewBox=\"0 -960 960 960\">\n",
              "    <path d=\"M120-120v-720h720v720H120Zm60-500h600v-160H180v160Zm220 220h160v-160H400v160Zm0 220h160v-160H400v160ZM180-400h160v-160H180v160Zm440 0h160v-160H620v160ZM180-180h160v-160H180v160Zm440 0h160v-160H620v160Z\"/>\n",
              "  </svg>\n",
              "    </button>\n",
              "\n",
              "  <style>\n",
              "    .colab-df-container {\n",
              "      display:flex;\n",
              "      gap: 12px;\n",
              "    }\n",
              "\n",
              "    .colab-df-convert {\n",
              "      background-color: #E8F0FE;\n",
              "      border: none;\n",
              "      border-radius: 50%;\n",
              "      cursor: pointer;\n",
              "      display: none;\n",
              "      fill: #1967D2;\n",
              "      height: 32px;\n",
              "      padding: 0 0 0 0;\n",
              "      width: 32px;\n",
              "    }\n",
              "\n",
              "    .colab-df-convert:hover {\n",
              "      background-color: #E2EBFA;\n",
              "      box-shadow: 0px 1px 2px rgba(60, 64, 67, 0.3), 0px 1px 3px 1px rgba(60, 64, 67, 0.15);\n",
              "      fill: #174EA6;\n",
              "    }\n",
              "\n",
              "    .colab-df-buttons div {\n",
              "      margin-bottom: 4px;\n",
              "    }\n",
              "\n",
              "    [theme=dark] .colab-df-convert {\n",
              "      background-color: #3B4455;\n",
              "      fill: #D2E3FC;\n",
              "    }\n",
              "\n",
              "    [theme=dark] .colab-df-convert:hover {\n",
              "      background-color: #434B5C;\n",
              "      box-shadow: 0px 1px 3px 1px rgba(0, 0, 0, 0.15);\n",
              "      filter: drop-shadow(0px 1px 2px rgba(0, 0, 0, 0.3));\n",
              "      fill: #FFFFFF;\n",
              "    }\n",
              "  </style>\n",
              "\n",
              "    <script>\n",
              "      const buttonEl =\n",
              "        document.querySelector('#df-d612dd12-1517-493f-aaf0-4f66df659c9d button.colab-df-convert');\n",
              "      buttonEl.style.display =\n",
              "        google.colab.kernel.accessAllowed ? 'block' : 'none';\n",
              "\n",
              "      async function convertToInteractive(key) {\n",
              "        const element = document.querySelector('#df-d612dd12-1517-493f-aaf0-4f66df659c9d');\n",
              "        const dataTable =\n",
              "          await google.colab.kernel.invokeFunction('convertToInteractive',\n",
              "                                                    [key], {});\n",
              "        if (!dataTable) return;\n",
              "\n",
              "        const docLinkHtml = 'Like what you see? Visit the ' +\n",
              "          '<a target=\"_blank\" href=https://colab.research.google.com/notebooks/data_table.ipynb>data table notebook</a>'\n",
              "          + ' to learn more about interactive tables.';\n",
              "        element.innerHTML = '';\n",
              "        dataTable['output_type'] = 'display_data';\n",
              "        await google.colab.output.renderOutput(dataTable, element);\n",
              "        const docLink = document.createElement('div');\n",
              "        docLink.innerHTML = docLinkHtml;\n",
              "        element.appendChild(docLink);\n",
              "      }\n",
              "    </script>\n",
              "  </div>\n",
              "\n",
              "\n",
              "<div id=\"df-a066869e-5dcf-4703-97f6-370e4dadbb3a\">\n",
              "  <button class=\"colab-df-quickchart\" onclick=\"quickchart('df-a066869e-5dcf-4703-97f6-370e4dadbb3a')\"\n",
              "            title=\"Suggest charts\"\n",
              "            style=\"display:none;\">\n",
              "\n",
              "<svg xmlns=\"http://www.w3.org/2000/svg\" height=\"24px\"viewBox=\"0 0 24 24\"\n",
              "     width=\"24px\">\n",
              "    <g>\n",
              "        <path d=\"M19 3H5c-1.1 0-2 .9-2 2v14c0 1.1.9 2 2 2h14c1.1 0 2-.9 2-2V5c0-1.1-.9-2-2-2zM9 17H7v-7h2v7zm4 0h-2V7h2v10zm4 0h-2v-4h2v4z\"/>\n",
              "    </g>\n",
              "</svg>\n",
              "  </button>\n",
              "\n",
              "<style>\n",
              "  .colab-df-quickchart {\n",
              "      --bg-color: #E8F0FE;\n",
              "      --fill-color: #1967D2;\n",
              "      --hover-bg-color: #E2EBFA;\n",
              "      --hover-fill-color: #174EA6;\n",
              "      --disabled-fill-color: #AAA;\n",
              "      --disabled-bg-color: #DDD;\n",
              "  }\n",
              "\n",
              "  [theme=dark] .colab-df-quickchart {\n",
              "      --bg-color: #3B4455;\n",
              "      --fill-color: #D2E3FC;\n",
              "      --hover-bg-color: #434B5C;\n",
              "      --hover-fill-color: #FFFFFF;\n",
              "      --disabled-bg-color: #3B4455;\n",
              "      --disabled-fill-color: #666;\n",
              "  }\n",
              "\n",
              "  .colab-df-quickchart {\n",
              "    background-color: var(--bg-color);\n",
              "    border: none;\n",
              "    border-radius: 50%;\n",
              "    cursor: pointer;\n",
              "    display: none;\n",
              "    fill: var(--fill-color);\n",
              "    height: 32px;\n",
              "    padding: 0;\n",
              "    width: 32px;\n",
              "  }\n",
              "\n",
              "  .colab-df-quickchart:hover {\n",
              "    background-color: var(--hover-bg-color);\n",
              "    box-shadow: 0 1px 2px rgba(60, 64, 67, 0.3), 0 1px 3px 1px rgba(60, 64, 67, 0.15);\n",
              "    fill: var(--button-hover-fill-color);\n",
              "  }\n",
              "\n",
              "  .colab-df-quickchart-complete:disabled,\n",
              "  .colab-df-quickchart-complete:disabled:hover {\n",
              "    background-color: var(--disabled-bg-color);\n",
              "    fill: var(--disabled-fill-color);\n",
              "    box-shadow: none;\n",
              "  }\n",
              "\n",
              "  .colab-df-spinner {\n",
              "    border: 2px solid var(--fill-color);\n",
              "    border-color: transparent;\n",
              "    border-bottom-color: var(--fill-color);\n",
              "    animation:\n",
              "      spin 1s steps(1) infinite;\n",
              "  }\n",
              "\n",
              "  @keyframes spin {\n",
              "    0% {\n",
              "      border-color: transparent;\n",
              "      border-bottom-color: var(--fill-color);\n",
              "      border-left-color: var(--fill-color);\n",
              "    }\n",
              "    20% {\n",
              "      border-color: transparent;\n",
              "      border-left-color: var(--fill-color);\n",
              "      border-top-color: var(--fill-color);\n",
              "    }\n",
              "    30% {\n",
              "      border-color: transparent;\n",
              "      border-left-color: var(--fill-color);\n",
              "      border-top-color: var(--fill-color);\n",
              "      border-right-color: var(--fill-color);\n",
              "    }\n",
              "    40% {\n",
              "      border-color: transparent;\n",
              "      border-right-color: var(--fill-color);\n",
              "      border-top-color: var(--fill-color);\n",
              "    }\n",
              "    60% {\n",
              "      border-color: transparent;\n",
              "      border-right-color: var(--fill-color);\n",
              "    }\n",
              "    80% {\n",
              "      border-color: transparent;\n",
              "      border-right-color: var(--fill-color);\n",
              "      border-bottom-color: var(--fill-color);\n",
              "    }\n",
              "    90% {\n",
              "      border-color: transparent;\n",
              "      border-bottom-color: var(--fill-color);\n",
              "    }\n",
              "  }\n",
              "</style>\n",
              "\n",
              "  <script>\n",
              "    async function quickchart(key) {\n",
              "      const quickchartButtonEl =\n",
              "        document.querySelector('#' + key + ' button');\n",
              "      quickchartButtonEl.disabled = true;  // To prevent multiple clicks.\n",
              "      quickchartButtonEl.classList.add('colab-df-spinner');\n",
              "      try {\n",
              "        const charts = await google.colab.kernel.invokeFunction(\n",
              "            'suggestCharts', [key], {});\n",
              "      } catch (error) {\n",
              "        console.error('Error during call to suggestCharts:', error);\n",
              "      }\n",
              "      quickchartButtonEl.classList.remove('colab-df-spinner');\n",
              "      quickchartButtonEl.classList.add('colab-df-quickchart-complete');\n",
              "    }\n",
              "    (() => {\n",
              "      let quickchartButtonEl =\n",
              "        document.querySelector('#df-a066869e-5dcf-4703-97f6-370e4dadbb3a button');\n",
              "      quickchartButtonEl.style.display =\n",
              "        google.colab.kernel.accessAllowed ? 'block' : 'none';\n",
              "    })();\n",
              "  </script>\n",
              "</div>\n",
              "\n",
              "  <div id=\"id_3d6d0123-2bd5-4d23-9dbd-407529b35850\">\n",
              "    <style>\n",
              "      .colab-df-generate {\n",
              "        background-color: #E8F0FE;\n",
              "        border: none;\n",
              "        border-radius: 50%;\n",
              "        cursor: pointer;\n",
              "        display: none;\n",
              "        fill: #1967D2;\n",
              "        height: 32px;\n",
              "        padding: 0 0 0 0;\n",
              "        width: 32px;\n",
              "      }\n",
              "\n",
              "      .colab-df-generate:hover {\n",
              "        background-color: #E2EBFA;\n",
              "        box-shadow: 0px 1px 2px rgba(60, 64, 67, 0.3), 0px 1px 3px 1px rgba(60, 64, 67, 0.15);\n",
              "        fill: #174EA6;\n",
              "      }\n",
              "\n",
              "      [theme=dark] .colab-df-generate {\n",
              "        background-color: #3B4455;\n",
              "        fill: #D2E3FC;\n",
              "      }\n",
              "\n",
              "      [theme=dark] .colab-df-generate:hover {\n",
              "        background-color: #434B5C;\n",
              "        box-shadow: 0px 1px 3px 1px rgba(0, 0, 0, 0.15);\n",
              "        filter: drop-shadow(0px 1px 2px rgba(0, 0, 0, 0.3));\n",
              "        fill: #FFFFFF;\n",
              "      }\n",
              "    </style>\n",
              "    <button class=\"colab-df-generate\" onclick=\"generateWithVariable('df_groupby_group')\"\n",
              "            title=\"Generate code using this dataframe.\"\n",
              "            style=\"display:none;\">\n",
              "\n",
              "  <svg xmlns=\"http://www.w3.org/2000/svg\" height=\"24px\"viewBox=\"0 0 24 24\"\n",
              "       width=\"24px\">\n",
              "    <path d=\"M7,19H8.4L18.45,9,17,7.55,7,17.6ZM5,21V16.75L18.45,3.32a2,2,0,0,1,2.83,0l1.4,1.43a1.91,1.91,0,0,1,.58,1.4,1.91,1.91,0,0,1-.58,1.4L9.25,21ZM18.45,9,17,7.55Zm-12,3A5.31,5.31,0,0,0,4.9,8.1,5.31,5.31,0,0,0,1,6.5,5.31,5.31,0,0,0,4.9,4.9,5.31,5.31,0,0,0,6.5,1,5.31,5.31,0,0,0,8.1,4.9,5.31,5.31,0,0,0,12,6.5,5.46,5.46,0,0,0,6.5,12Z\"/>\n",
              "  </svg>\n",
              "    </button>\n",
              "    <script>\n",
              "      (() => {\n",
              "      const buttonEl =\n",
              "        document.querySelector('#id_3d6d0123-2bd5-4d23-9dbd-407529b35850 button.colab-df-generate');\n",
              "      buttonEl.style.display =\n",
              "        google.colab.kernel.accessAllowed ? 'block' : 'none';\n",
              "\n",
              "      buttonEl.onclick = () => {\n",
              "        google.colab.notebook.generateWithVariable('df_groupby_group');\n",
              "      }\n",
              "      })();\n",
              "    </script>\n",
              "  </div>\n",
              "\n",
              "    </div>\n",
              "  </div>\n"
            ],
            "application/vnd.google.colaboratory.intrinsic+json": {
              "type": "dataframe",
              "variable_name": "df_groupby_group",
              "summary": "{\n  \"name\": \"df_groupby_group\",\n  \"rows\": 72,\n  \"fields\": [\n    {\n      \"column\": \"Year\",\n      \"properties\": {\n        \"dtype\": \"number\",\n        \"std\": 6,\n        \"min\": 2000,\n        \"max\": 2023,\n        \"num_unique_values\": 24,\n        \"samples\": [\n          2008,\n          2016,\n          2000\n        ],\n        \"semantic_type\": \"\",\n        \"description\": \"\"\n      }\n    },\n    {\n      \"column\": \"Group\",\n      \"properties\": {\n        \"dtype\": \"category\",\n        \"num_unique_values\": 3,\n        \"samples\": [\n          \"BRICS\",\n          \"G7\",\n          \"REST of WORLD\"\n        ],\n        \"semantic_type\": \"\",\n        \"description\": \"\"\n      }\n    },\n    {\n      \"column\": \"GDP ($Billions)\",\n      \"properties\": {\n        \"dtype\": \"number\",\n        \"std\": 11415.417785682785,\n        \"min\": 2486.928162719384,\n        \"max\": 46795.83442728655,\n        \"num_unique_values\": 72,\n        \"samples\": [\n          21836.92148916412,\n          26219.45690560665,\n          5103.8637630461235\n        ],\n        \"semantic_type\": \"\",\n        \"description\": \"\"\n      }\n    },\n    {\n      \"column\": \"GDP Per Capita ($)\",\n      \"properties\": {\n        \"dtype\": \"number\",\n        \"std\": 15883.353057910395,\n        \"min\": 1787.624629098727,\n        \"max\": 50478.23145297758,\n        \"num_unique_values\": 72,\n        \"samples\": [\n          27121.012839996914,\n          16950.97277944068,\n          3726.70955100795\n        ],\n        \"semantic_type\": \"\",\n        \"description\": \"\"\n      }\n    },\n    {\n      \"column\": \"GDP Percentage Share\",\n      \"properties\": {\n        \"dtype\": \"number\",\n        \"std\": 15.982898026128511,\n        \"min\": 7.428384958961254,\n        \"max\": 65.98196781123052,\n        \"num_unique_values\": 72,\n        \"samples\": [\n          65.57979972654931,\n          31.006527683435625,\n          9.942312213398317\n        ],\n        \"semantic_type\": \"\",\n        \"description\": \"\"\n      }\n    }\n  ]\n}"
            }
          },
          "metadata": {},
          "execution_count": 9
        }
      ]
    },
    {
      "cell_type": "markdown",
      "source": [
        "## Step 7 - Plot the GDP Percentage Share Over Time"
      ],
      "metadata": {
        "id": "rMaVSW5t4FeH"
      }
    },
    {
      "cell_type": "code",
      "source": [
        "\n",
        "\n",
        "# Create the plot\n",
        "fig = px.line(df_groupby_group,\n",
        "              x='Year',\n",
        "              y='GDP Percentage Share',\n",
        "              color='Group',\n",
        "              title='GDP Percentage Share Over Time',\n",
        "              labels={'GDP Percentage Share': 'GDP Percentage Share (%)', 'Year': 'Year', 'Group': 'Group'},\n",
        "              width=1000, height=600)\n",
        "\n",
        "fig.show()"
      ],
      "metadata": {
        "id": "WmhX7o1RxY94",
        "outputId": "ea60c27d-4f9c-46e0-9654-c1552e66aeda",
        "colab": {
          "base_uri": "https://localhost:8080/",
          "height": 637
        }
      },
      "execution_count": 10,
      "outputs": [
        {
          "output_type": "display_data",
          "data": {
            "text/html": [
              "<html>\n",
              "<head><meta charset=\"utf-8\" /></head>\n",
              "<body>\n",
              "    <div>            <script src=\"https://cdnjs.cloudflare.com/ajax/libs/mathjax/2.7.5/MathJax.js?config=TeX-AMS-MML_SVG\"></script><script type=\"text/javascript\">if (window.MathJax && window.MathJax.Hub && window.MathJax.Hub.Config) {window.MathJax.Hub.Config({SVG: {font: \"STIX-Web\"}});}</script>                <script type=\"text/javascript\">window.PlotlyConfig = {MathJaxConfig: 'local'};</script>\n",
              "        <script charset=\"utf-8\" src=\"https://cdn.plot.ly/plotly-2.35.2.min.js\"></script>                <div id=\"f12f1d1c-668f-44b6-83a8-aa91de3c34c1\" class=\"plotly-graph-div\" style=\"height:600px; width:1000px;\"></div>            <script type=\"text/javascript\">                                    window.PLOTLYENV=window.PLOTLYENV || {};                                    if (document.getElementById(\"f12f1d1c-668f-44b6-83a8-aa91de3c34c1\")) {                    Plotly.newPlot(                        \"f12f1d1c-668f-44b6-83a8-aa91de3c34c1\",                        [{\"hovertemplate\":\"Group=BRICS\\u003cbr\\u003eYear=%{x}\\u003cbr\\u003eGDP Percentage Share (%)=%{y}\\u003cextra\\u003e\\u003c\\u002fextra\\u003e\",\"legendgroup\":\"BRICS\",\"line\":{\"color\":\"#636efa\",\"dash\":\"solid\"},\"marker\":{\"symbol\":\"circle\"},\"mode\":\"lines\",\"name\":\"BRICS\",\"orientation\":\"v\",\"showlegend\":true,\"x\":[2000,2001,2002,2003,2004,2005,2006,2007,2008,2009,2010,2011,2012,2013,2014,2015,2016,2017,2018,2019,2020,2021,2022,2023],\"xaxis\":\"x\",\"y\":[7.428384958961254,7.568731265696595,7.587513141234916,7.789841048434427,8.206408394076524,9.052380639466671,9.942312213398317,11.226213792292382,12.266931212376873,13.997080715689794,15.731258407828886,16.949844019024198,17.66130612370109,18.52321887819756,19.352990503278704,20.54693674867424,20.65498327883912,21.582479569398465,22.063698834493987,22.278604641301115,22.678273196734466,23.979042627056657,23.615223803415518,23.034264407317036],\"yaxis\":\"y\",\"type\":\"scatter\"},{\"hovertemplate\":\"Group=G7\\u003cbr\\u003eYear=%{x}\\u003cbr\\u003eGDP Percentage Share (%)=%{y}\\u003cextra\\u003e\\u003c\\u002fextra\\u003e\",\"legendgroup\":\"G7\",\"line\":{\"color\":\"#EF553B\",\"dash\":\"solid\"},\"marker\":{\"symbol\":\"circle\"},\"mode\":\"lines\",\"name\":\"G7\",\"orientation\":\"v\",\"showlegend\":true,\"x\":[2000,2001,2002,2003,2004,2005,2006,2007,2008,2009,2010,2011,2012,2013,2014,2015,2016,2017,2018,2019,2020,2021,2022,2023],\"xaxis\":\"x\",\"y\":[65.98196781123052,65.57979972654931,65.09455812767847,64.0293989364391,62.41014975047266,60.15916731150456,57.87449769607221,55.139811747695056,52.560351329927876,52.84703642644145,50.10834517278013,47.92576994081971,47.09818149207872,45.86743253262957,45.738548928532495,46.76875765633895,47.31715024941445,46.024479646002554,45.656618023821416,45.83045626267121,46.315199119829906,44.854918660278194,44.22202457182825,45.1080072010116],\"yaxis\":\"y\",\"type\":\"scatter\"},{\"hovertemplate\":\"Group=REST of WORLD\\u003cbr\\u003eYear=%{x}\\u003cbr\\u003eGDP Percentage Share (%)=%{y}\\u003cextra\\u003e\\u003c\\u002fextra\\u003e\",\"legendgroup\":\"REST of WORLD\",\"line\":{\"color\":\"#00cc96\",\"dash\":\"solid\"},\"marker\":{\"symbol\":\"circle\"},\"mode\":\"lines\",\"name\":\"REST of WORLD\",\"orientation\":\"v\",\"showlegend\":true,\"x\":[2000,2001,2002,2003,2004,2005,2006,2007,2008,2009,2010,2011,2012,2013,2014,2015,2016,2017,2018,2019,2020,2021,2022,2023],\"xaxis\":\"x\",\"y\":[26.589647229808232,26.851469007754087,27.317928731086603,28.180760015126467,29.38344185545081,30.788452049028763,32.183190090529465,33.63397446001256,35.17271745769525,33.155882857868754,34.16039641939098,35.12438604015609,35.240512384220196,35.60934858917286,34.9084605681888,32.68430559498681,32.027866471746435,32.39304078459898,32.27968314168459,31.890939096027676,31.006527683435625,31.166038712665156,32.16275162475623,31.85772839167136],\"yaxis\":\"y\",\"type\":\"scatter\"}],                        {\"template\":{\"data\":{\"histogram2dcontour\":[{\"type\":\"histogram2dcontour\",\"colorbar\":{\"outlinewidth\":0,\"ticks\":\"\"},\"colorscale\":[[0.0,\"#0d0887\"],[0.1111111111111111,\"#46039f\"],[0.2222222222222222,\"#7201a8\"],[0.3333333333333333,\"#9c179e\"],[0.4444444444444444,\"#bd3786\"],[0.5555555555555556,\"#d8576b\"],[0.6666666666666666,\"#ed7953\"],[0.7777777777777778,\"#fb9f3a\"],[0.8888888888888888,\"#fdca26\"],[1.0,\"#f0f921\"]]}],\"choropleth\":[{\"type\":\"choropleth\",\"colorbar\":{\"outlinewidth\":0,\"ticks\":\"\"}}],\"histogram2d\":[{\"type\":\"histogram2d\",\"colorbar\":{\"outlinewidth\":0,\"ticks\":\"\"},\"colorscale\":[[0.0,\"#0d0887\"],[0.1111111111111111,\"#46039f\"],[0.2222222222222222,\"#7201a8\"],[0.3333333333333333,\"#9c179e\"],[0.4444444444444444,\"#bd3786\"],[0.5555555555555556,\"#d8576b\"],[0.6666666666666666,\"#ed7953\"],[0.7777777777777778,\"#fb9f3a\"],[0.8888888888888888,\"#fdca26\"],[1.0,\"#f0f921\"]]}],\"heatmap\":[{\"type\":\"heatmap\",\"colorbar\":{\"outlinewidth\":0,\"ticks\":\"\"},\"colorscale\":[[0.0,\"#0d0887\"],[0.1111111111111111,\"#46039f\"],[0.2222222222222222,\"#7201a8\"],[0.3333333333333333,\"#9c179e\"],[0.4444444444444444,\"#bd3786\"],[0.5555555555555556,\"#d8576b\"],[0.6666666666666666,\"#ed7953\"],[0.7777777777777778,\"#fb9f3a\"],[0.8888888888888888,\"#fdca26\"],[1.0,\"#f0f921\"]]}],\"heatmapgl\":[{\"type\":\"heatmapgl\",\"colorbar\":{\"outlinewidth\":0,\"ticks\":\"\"},\"colorscale\":[[0.0,\"#0d0887\"],[0.1111111111111111,\"#46039f\"],[0.2222222222222222,\"#7201a8\"],[0.3333333333333333,\"#9c179e\"],[0.4444444444444444,\"#bd3786\"],[0.5555555555555556,\"#d8576b\"],[0.6666666666666666,\"#ed7953\"],[0.7777777777777778,\"#fb9f3a\"],[0.8888888888888888,\"#fdca26\"],[1.0,\"#f0f921\"]]}],\"contourcarpet\":[{\"type\":\"contourcarpet\",\"colorbar\":{\"outlinewidth\":0,\"ticks\":\"\"}}],\"contour\":[{\"type\":\"contour\",\"colorbar\":{\"outlinewidth\":0,\"ticks\":\"\"},\"colorscale\":[[0.0,\"#0d0887\"],[0.1111111111111111,\"#46039f\"],[0.2222222222222222,\"#7201a8\"],[0.3333333333333333,\"#9c179e\"],[0.4444444444444444,\"#bd3786\"],[0.5555555555555556,\"#d8576b\"],[0.6666666666666666,\"#ed7953\"],[0.7777777777777778,\"#fb9f3a\"],[0.8888888888888888,\"#fdca26\"],[1.0,\"#f0f921\"]]}],\"surface\":[{\"type\":\"surface\",\"colorbar\":{\"outlinewidth\":0,\"ticks\":\"\"},\"colorscale\":[[0.0,\"#0d0887\"],[0.1111111111111111,\"#46039f\"],[0.2222222222222222,\"#7201a8\"],[0.3333333333333333,\"#9c179e\"],[0.4444444444444444,\"#bd3786\"],[0.5555555555555556,\"#d8576b\"],[0.6666666666666666,\"#ed7953\"],[0.7777777777777778,\"#fb9f3a\"],[0.8888888888888888,\"#fdca26\"],[1.0,\"#f0f921\"]]}],\"mesh3d\":[{\"type\":\"mesh3d\",\"colorbar\":{\"outlinewidth\":0,\"ticks\":\"\"}}],\"scatter\":[{\"fillpattern\":{\"fillmode\":\"overlay\",\"size\":10,\"solidity\":0.2},\"type\":\"scatter\"}],\"parcoords\":[{\"type\":\"parcoords\",\"line\":{\"colorbar\":{\"outlinewidth\":0,\"ticks\":\"\"}}}],\"scatterpolargl\":[{\"type\":\"scatterpolargl\",\"marker\":{\"colorbar\":{\"outlinewidth\":0,\"ticks\":\"\"}}}],\"bar\":[{\"error_x\":{\"color\":\"#2a3f5f\"},\"error_y\":{\"color\":\"#2a3f5f\"},\"marker\":{\"line\":{\"color\":\"#E5ECF6\",\"width\":0.5},\"pattern\":{\"fillmode\":\"overlay\",\"size\":10,\"solidity\":0.2}},\"type\":\"bar\"}],\"scattergeo\":[{\"type\":\"scattergeo\",\"marker\":{\"colorbar\":{\"outlinewidth\":0,\"ticks\":\"\"}}}],\"scatterpolar\":[{\"type\":\"scatterpolar\",\"marker\":{\"colorbar\":{\"outlinewidth\":0,\"ticks\":\"\"}}}],\"histogram\":[{\"marker\":{\"pattern\":{\"fillmode\":\"overlay\",\"size\":10,\"solidity\":0.2}},\"type\":\"histogram\"}],\"scattergl\":[{\"type\":\"scattergl\",\"marker\":{\"colorbar\":{\"outlinewidth\":0,\"ticks\":\"\"}}}],\"scatter3d\":[{\"type\":\"scatter3d\",\"line\":{\"colorbar\":{\"outlinewidth\":0,\"ticks\":\"\"}},\"marker\":{\"colorbar\":{\"outlinewidth\":0,\"ticks\":\"\"}}}],\"scattermapbox\":[{\"type\":\"scattermapbox\",\"marker\":{\"colorbar\":{\"outlinewidth\":0,\"ticks\":\"\"}}}],\"scatterternary\":[{\"type\":\"scatterternary\",\"marker\":{\"colorbar\":{\"outlinewidth\":0,\"ticks\":\"\"}}}],\"scattercarpet\":[{\"type\":\"scattercarpet\",\"marker\":{\"colorbar\":{\"outlinewidth\":0,\"ticks\":\"\"}}}],\"carpet\":[{\"aaxis\":{\"endlinecolor\":\"#2a3f5f\",\"gridcolor\":\"white\",\"linecolor\":\"white\",\"minorgridcolor\":\"white\",\"startlinecolor\":\"#2a3f5f\"},\"baxis\":{\"endlinecolor\":\"#2a3f5f\",\"gridcolor\":\"white\",\"linecolor\":\"white\",\"minorgridcolor\":\"white\",\"startlinecolor\":\"#2a3f5f\"},\"type\":\"carpet\"}],\"table\":[{\"cells\":{\"fill\":{\"color\":\"#EBF0F8\"},\"line\":{\"color\":\"white\"}},\"header\":{\"fill\":{\"color\":\"#C8D4E3\"},\"line\":{\"color\":\"white\"}},\"type\":\"table\"}],\"barpolar\":[{\"marker\":{\"line\":{\"color\":\"#E5ECF6\",\"width\":0.5},\"pattern\":{\"fillmode\":\"overlay\",\"size\":10,\"solidity\":0.2}},\"type\":\"barpolar\"}],\"pie\":[{\"automargin\":true,\"type\":\"pie\"}]},\"layout\":{\"autotypenumbers\":\"strict\",\"colorway\":[\"#636efa\",\"#EF553B\",\"#00cc96\",\"#ab63fa\",\"#FFA15A\",\"#19d3f3\",\"#FF6692\",\"#B6E880\",\"#FF97FF\",\"#FECB52\"],\"font\":{\"color\":\"#2a3f5f\"},\"hovermode\":\"closest\",\"hoverlabel\":{\"align\":\"left\"},\"paper_bgcolor\":\"white\",\"plot_bgcolor\":\"#E5ECF6\",\"polar\":{\"bgcolor\":\"#E5ECF6\",\"angularaxis\":{\"gridcolor\":\"white\",\"linecolor\":\"white\",\"ticks\":\"\"},\"radialaxis\":{\"gridcolor\":\"white\",\"linecolor\":\"white\",\"ticks\":\"\"}},\"ternary\":{\"bgcolor\":\"#E5ECF6\",\"aaxis\":{\"gridcolor\":\"white\",\"linecolor\":\"white\",\"ticks\":\"\"},\"baxis\":{\"gridcolor\":\"white\",\"linecolor\":\"white\",\"ticks\":\"\"},\"caxis\":{\"gridcolor\":\"white\",\"linecolor\":\"white\",\"ticks\":\"\"}},\"coloraxis\":{\"colorbar\":{\"outlinewidth\":0,\"ticks\":\"\"}},\"colorscale\":{\"sequential\":[[0.0,\"#0d0887\"],[0.1111111111111111,\"#46039f\"],[0.2222222222222222,\"#7201a8\"],[0.3333333333333333,\"#9c179e\"],[0.4444444444444444,\"#bd3786\"],[0.5555555555555556,\"#d8576b\"],[0.6666666666666666,\"#ed7953\"],[0.7777777777777778,\"#fb9f3a\"],[0.8888888888888888,\"#fdca26\"],[1.0,\"#f0f921\"]],\"sequentialminus\":[[0.0,\"#0d0887\"],[0.1111111111111111,\"#46039f\"],[0.2222222222222222,\"#7201a8\"],[0.3333333333333333,\"#9c179e\"],[0.4444444444444444,\"#bd3786\"],[0.5555555555555556,\"#d8576b\"],[0.6666666666666666,\"#ed7953\"],[0.7777777777777778,\"#fb9f3a\"],[0.8888888888888888,\"#fdca26\"],[1.0,\"#f0f921\"]],\"diverging\":[[0,\"#8e0152\"],[0.1,\"#c51b7d\"],[0.2,\"#de77ae\"],[0.3,\"#f1b6da\"],[0.4,\"#fde0ef\"],[0.5,\"#f7f7f7\"],[0.6,\"#e6f5d0\"],[0.7,\"#b8e186\"],[0.8,\"#7fbc41\"],[0.9,\"#4d9221\"],[1,\"#276419\"]]},\"xaxis\":{\"gridcolor\":\"white\",\"linecolor\":\"white\",\"ticks\":\"\",\"title\":{\"standoff\":15},\"zerolinecolor\":\"white\",\"automargin\":true,\"zerolinewidth\":2},\"yaxis\":{\"gridcolor\":\"white\",\"linecolor\":\"white\",\"ticks\":\"\",\"title\":{\"standoff\":15},\"zerolinecolor\":\"white\",\"automargin\":true,\"zerolinewidth\":2},\"scene\":{\"xaxis\":{\"backgroundcolor\":\"#E5ECF6\",\"gridcolor\":\"white\",\"linecolor\":\"white\",\"showbackground\":true,\"ticks\":\"\",\"zerolinecolor\":\"white\",\"gridwidth\":2},\"yaxis\":{\"backgroundcolor\":\"#E5ECF6\",\"gridcolor\":\"white\",\"linecolor\":\"white\",\"showbackground\":true,\"ticks\":\"\",\"zerolinecolor\":\"white\",\"gridwidth\":2},\"zaxis\":{\"backgroundcolor\":\"#E5ECF6\",\"gridcolor\":\"white\",\"linecolor\":\"white\",\"showbackground\":true,\"ticks\":\"\",\"zerolinecolor\":\"white\",\"gridwidth\":2}},\"shapedefaults\":{\"line\":{\"color\":\"#2a3f5f\"}},\"annotationdefaults\":{\"arrowcolor\":\"#2a3f5f\",\"arrowhead\":0,\"arrowwidth\":1},\"geo\":{\"bgcolor\":\"white\",\"landcolor\":\"#E5ECF6\",\"subunitcolor\":\"white\",\"showland\":true,\"showlakes\":true,\"lakecolor\":\"white\"},\"title\":{\"x\":0.05},\"mapbox\":{\"style\":\"light\"}}},\"xaxis\":{\"anchor\":\"y\",\"domain\":[0.0,1.0],\"title\":{\"text\":\"Year\"}},\"yaxis\":{\"anchor\":\"x\",\"domain\":[0.0,1.0],\"title\":{\"text\":\"GDP Percentage Share (%)\"}},\"legend\":{\"title\":{\"text\":\"Group\"},\"tracegroupgap\":0},\"title\":{\"text\":\"GDP Percentage Share Over Time\"},\"height\":600,\"width\":1000},                        {\"responsive\": true}                    ).then(function(){\n",
              "                            \n",
              "var gd = document.getElementById('f12f1d1c-668f-44b6-83a8-aa91de3c34c1');\n",
              "var x = new MutationObserver(function (mutations, observer) {{\n",
              "        var display = window.getComputedStyle(gd).display;\n",
              "        if (!display || display === 'none') {{\n",
              "            console.log([gd, 'removed!']);\n",
              "            Plotly.purge(gd);\n",
              "            observer.disconnect();\n",
              "        }}\n",
              "}});\n",
              "\n",
              "// Listen for the removal of the full notebook cells\n",
              "var notebookContainer = gd.closest('#notebook-container');\n",
              "if (notebookContainer) {{\n",
              "    x.observe(notebookContainer, {childList: true});\n",
              "}}\n",
              "\n",
              "// Listen for the clearing of the current output cell\n",
              "var outputEl = gd.closest('.output');\n",
              "if (outputEl) {{\n",
              "    x.observe(outputEl, {childList: true});\n",
              "}}\n",
              "\n",
              "                        })                };                            </script>        </div>\n",
              "</body>\n",
              "</html>"
            ]
          },
          "metadata": {}
        }
      ]
    },
    {
      "cell_type": "markdown",
      "source": [
        "## Step 8 - Plot the Total GDP Over Time"
      ],
      "metadata": {
        "id": "wtZPPw034cHT"
      }
    },
    {
      "cell_type": "code",
      "source": [
        "\n",
        "# Create the plot\n",
        "fig = px.line(df_groupby_group,\n",
        "              x='Year',\n",
        "              y='GDP ($Billions)',\n",
        "              color='Group',\n",
        "              title='Total GDP Over Time',\n",
        "              labels={'GDP ($Billions)': 'GDP ($ Billions)', 'Year': 'Year', 'Group': 'Group'},\n",
        "              width=1000, height=600)\n",
        "\n",
        "fig.show()"
      ],
      "metadata": {
        "id": "SmseUanIxfQr",
        "outputId": "bcc13cfc-a0b8-470a-cc92-61539064a18b",
        "colab": {
          "base_uri": "https://localhost:8080/",
          "height": 637
        }
      },
      "execution_count": 11,
      "outputs": [
        {
          "output_type": "display_data",
          "data": {
            "text/html": [
              "<html>\n",
              "<head><meta charset=\"utf-8\" /></head>\n",
              "<body>\n",
              "    <div>            <script src=\"https://cdnjs.cloudflare.com/ajax/libs/mathjax/2.7.5/MathJax.js?config=TeX-AMS-MML_SVG\"></script><script type=\"text/javascript\">if (window.MathJax && window.MathJax.Hub && window.MathJax.Hub.Config) {window.MathJax.Hub.Config({SVG: {font: \"STIX-Web\"}});}</script>                <script type=\"text/javascript\">window.PlotlyConfig = {MathJaxConfig: 'local'};</script>\n",
              "        <script charset=\"utf-8\" src=\"https://cdn.plot.ly/plotly-2.35.2.min.js\"></script>                <div id=\"28594bc2-aff4-416a-922f-48e7e86c21e7\" class=\"plotly-graph-div\" style=\"height:600px; width:1000px;\"></div>            <script type=\"text/javascript\">                                    window.PLOTLYENV=window.PLOTLYENV || {};                                    if (document.getElementById(\"28594bc2-aff4-416a-922f-48e7e86c21e7\")) {                    Plotly.newPlot(                        \"28594bc2-aff4-416a-922f-48e7e86c21e7\",                        [{\"hovertemplate\":\"Group=BRICS\\u003cbr\\u003eYear=%{x}\\u003cbr\\u003eGDP ($ Billions)=%{y}\\u003cextra\\u003e\\u003c\\u002fextra\\u003e\",\"legendgroup\":\"BRICS\",\"line\":{\"color\":\"#636efa\",\"dash\":\"solid\"},\"marker\":{\"symbol\":\"circle\"},\"mode\":\"lines\",\"name\":\"BRICS\",\"orientation\":\"v\",\"showlegend\":true,\"x\":[2000,2001,2002,2003,2004,2005,2006,2007,2008,2009,2010,2011,2012,2013,2014,2015,2016,2017,2018,2019,2020,2021,2022,2023],\"xaxis\":\"x\",\"y\":[2486.928162719384,2520.254577030788,2624.37962553787,3023.2339420446788,3589.595830953045,4286.845970440934,5103.8637630461235,6497.255845558424,7805.218266911949,8440.3296406087,10389.008834180393,12448.953252144183,13259.451320188922,14300.898168791444,15351.994020485427,15314.082975986334,15647.38960833937,17406.929388724267,18920.03212145962,19378.19300024126,19176.994368608666,23078.49534361343,23592.448676068903,23896.148161805173],\"yaxis\":\"y\",\"type\":\"scatter\"},{\"hovertemplate\":\"Group=G7\\u003cbr\\u003eYear=%{x}\\u003cbr\\u003eGDP ($ Billions)=%{y}\\u003cextra\\u003e\\u003c\\u002fextra\\u003e\",\"legendgroup\":\"G7\",\"line\":{\"color\":\"#EF553B\",\"dash\":\"solid\"},\"marker\":{\"symbol\":\"circle\"},\"mode\":\"lines\",\"name\":\"G7\",\"orientation\":\"v\",\"showlegend\":true,\"x\":[2000,2001,2002,2003,2004,2005,2006,2007,2008,2009,2010,2011,2012,2013,2014,2015,2016,2017,2018,2019,2020,2021,2022,2023],\"xaxis\":\"x\",\"y\":[22089.917914585145,21836.92148916412,22514.996534933955,24849.782036600896,27299.05734586122,28488.979224983108,29709.744097295472,31912.58164410451,33443.16579371873,31867.10265008568,33091.82439003743,35199.478466978195,35359.56176681522,35412.06775271207,36282.65768732491,34857.78168267266,35845.58143251776,37120.14946080047,39151.39913972291,39863.87123638507,39164.63590490041,43170.36537027311,44179.37571744801,46795.83442728655],\"yaxis\":\"y\",\"type\":\"scatter\"},{\"hovertemplate\":\"Group=REST of WORLD\\u003cbr\\u003eYear=%{x}\\u003cbr\\u003eGDP ($ Billions)=%{y}\\u003cextra\\u003e\\u003c\\u002fextra\\u003e\",\"legendgroup\":\"REST of WORLD\",\"line\":{\"color\":\"#00cc96\",\"dash\":\"solid\"},\"marker\":{\"symbol\":\"circle\"},\"mode\":\"lines\",\"name\":\"REST of WORLD\",\"orientation\":\"v\",\"showlegend\":true,\"x\":[2000,2001,2002,2003,2004,2005,2006,2007,2008,2009,2010,2011,2012,2013,2014,2015,2016,2017,2018,2019,2020,2021,2022,2023],\"xaxis\":\"x\",\"y\":[8901.873408271822,8941.067570135783,9448.763282417309,10936.940774609056,12852.721351219887,14580.181375389988,16521.16873386078,19465.916221880183,22379.74046196204,19993.210479391615,22559.712070048998,25797.39609009936,26457.26511868884,27492.287996993724,27691.558977223354,24360.330399441093,24263.031261841457,26125.977407298225,27680.42867573966,27739.11484636284,26219.45690560665,29995.57949396773,32131.733042414213,33049.76379033401],\"yaxis\":\"y\",\"type\":\"scatter\"}],                        {\"template\":{\"data\":{\"histogram2dcontour\":[{\"type\":\"histogram2dcontour\",\"colorbar\":{\"outlinewidth\":0,\"ticks\":\"\"},\"colorscale\":[[0.0,\"#0d0887\"],[0.1111111111111111,\"#46039f\"],[0.2222222222222222,\"#7201a8\"],[0.3333333333333333,\"#9c179e\"],[0.4444444444444444,\"#bd3786\"],[0.5555555555555556,\"#d8576b\"],[0.6666666666666666,\"#ed7953\"],[0.7777777777777778,\"#fb9f3a\"],[0.8888888888888888,\"#fdca26\"],[1.0,\"#f0f921\"]]}],\"choropleth\":[{\"type\":\"choropleth\",\"colorbar\":{\"outlinewidth\":0,\"ticks\":\"\"}}],\"histogram2d\":[{\"type\":\"histogram2d\",\"colorbar\":{\"outlinewidth\":0,\"ticks\":\"\"},\"colorscale\":[[0.0,\"#0d0887\"],[0.1111111111111111,\"#46039f\"],[0.2222222222222222,\"#7201a8\"],[0.3333333333333333,\"#9c179e\"],[0.4444444444444444,\"#bd3786\"],[0.5555555555555556,\"#d8576b\"],[0.6666666666666666,\"#ed7953\"],[0.7777777777777778,\"#fb9f3a\"],[0.8888888888888888,\"#fdca26\"],[1.0,\"#f0f921\"]]}],\"heatmap\":[{\"type\":\"heatmap\",\"colorbar\":{\"outlinewidth\":0,\"ticks\":\"\"},\"colorscale\":[[0.0,\"#0d0887\"],[0.1111111111111111,\"#46039f\"],[0.2222222222222222,\"#7201a8\"],[0.3333333333333333,\"#9c179e\"],[0.4444444444444444,\"#bd3786\"],[0.5555555555555556,\"#d8576b\"],[0.6666666666666666,\"#ed7953\"],[0.7777777777777778,\"#fb9f3a\"],[0.8888888888888888,\"#fdca26\"],[1.0,\"#f0f921\"]]}],\"heatmapgl\":[{\"type\":\"heatmapgl\",\"colorbar\":{\"outlinewidth\":0,\"ticks\":\"\"},\"colorscale\":[[0.0,\"#0d0887\"],[0.1111111111111111,\"#46039f\"],[0.2222222222222222,\"#7201a8\"],[0.3333333333333333,\"#9c179e\"],[0.4444444444444444,\"#bd3786\"],[0.5555555555555556,\"#d8576b\"],[0.6666666666666666,\"#ed7953\"],[0.7777777777777778,\"#fb9f3a\"],[0.8888888888888888,\"#fdca26\"],[1.0,\"#f0f921\"]]}],\"contourcarpet\":[{\"type\":\"contourcarpet\",\"colorbar\":{\"outlinewidth\":0,\"ticks\":\"\"}}],\"contour\":[{\"type\":\"contour\",\"colorbar\":{\"outlinewidth\":0,\"ticks\":\"\"},\"colorscale\":[[0.0,\"#0d0887\"],[0.1111111111111111,\"#46039f\"],[0.2222222222222222,\"#7201a8\"],[0.3333333333333333,\"#9c179e\"],[0.4444444444444444,\"#bd3786\"],[0.5555555555555556,\"#d8576b\"],[0.6666666666666666,\"#ed7953\"],[0.7777777777777778,\"#fb9f3a\"],[0.8888888888888888,\"#fdca26\"],[1.0,\"#f0f921\"]]}],\"surface\":[{\"type\":\"surface\",\"colorbar\":{\"outlinewidth\":0,\"ticks\":\"\"},\"colorscale\":[[0.0,\"#0d0887\"],[0.1111111111111111,\"#46039f\"],[0.2222222222222222,\"#7201a8\"],[0.3333333333333333,\"#9c179e\"],[0.4444444444444444,\"#bd3786\"],[0.5555555555555556,\"#d8576b\"],[0.6666666666666666,\"#ed7953\"],[0.7777777777777778,\"#fb9f3a\"],[0.8888888888888888,\"#fdca26\"],[1.0,\"#f0f921\"]]}],\"mesh3d\":[{\"type\":\"mesh3d\",\"colorbar\":{\"outlinewidth\":0,\"ticks\":\"\"}}],\"scatter\":[{\"fillpattern\":{\"fillmode\":\"overlay\",\"size\":10,\"solidity\":0.2},\"type\":\"scatter\"}],\"parcoords\":[{\"type\":\"parcoords\",\"line\":{\"colorbar\":{\"outlinewidth\":0,\"ticks\":\"\"}}}],\"scatterpolargl\":[{\"type\":\"scatterpolargl\",\"marker\":{\"colorbar\":{\"outlinewidth\":0,\"ticks\":\"\"}}}],\"bar\":[{\"error_x\":{\"color\":\"#2a3f5f\"},\"error_y\":{\"color\":\"#2a3f5f\"},\"marker\":{\"line\":{\"color\":\"#E5ECF6\",\"width\":0.5},\"pattern\":{\"fillmode\":\"overlay\",\"size\":10,\"solidity\":0.2}},\"type\":\"bar\"}],\"scattergeo\":[{\"type\":\"scattergeo\",\"marker\":{\"colorbar\":{\"outlinewidth\":0,\"ticks\":\"\"}}}],\"scatterpolar\":[{\"type\":\"scatterpolar\",\"marker\":{\"colorbar\":{\"outlinewidth\":0,\"ticks\":\"\"}}}],\"histogram\":[{\"marker\":{\"pattern\":{\"fillmode\":\"overlay\",\"size\":10,\"solidity\":0.2}},\"type\":\"histogram\"}],\"scattergl\":[{\"type\":\"scattergl\",\"marker\":{\"colorbar\":{\"outlinewidth\":0,\"ticks\":\"\"}}}],\"scatter3d\":[{\"type\":\"scatter3d\",\"line\":{\"colorbar\":{\"outlinewidth\":0,\"ticks\":\"\"}},\"marker\":{\"colorbar\":{\"outlinewidth\":0,\"ticks\":\"\"}}}],\"scattermapbox\":[{\"type\":\"scattermapbox\",\"marker\":{\"colorbar\":{\"outlinewidth\":0,\"ticks\":\"\"}}}],\"scatterternary\":[{\"type\":\"scatterternary\",\"marker\":{\"colorbar\":{\"outlinewidth\":0,\"ticks\":\"\"}}}],\"scattercarpet\":[{\"type\":\"scattercarpet\",\"marker\":{\"colorbar\":{\"outlinewidth\":0,\"ticks\":\"\"}}}],\"carpet\":[{\"aaxis\":{\"endlinecolor\":\"#2a3f5f\",\"gridcolor\":\"white\",\"linecolor\":\"white\",\"minorgridcolor\":\"white\",\"startlinecolor\":\"#2a3f5f\"},\"baxis\":{\"endlinecolor\":\"#2a3f5f\",\"gridcolor\":\"white\",\"linecolor\":\"white\",\"minorgridcolor\":\"white\",\"startlinecolor\":\"#2a3f5f\"},\"type\":\"carpet\"}],\"table\":[{\"cells\":{\"fill\":{\"color\":\"#EBF0F8\"},\"line\":{\"color\":\"white\"}},\"header\":{\"fill\":{\"color\":\"#C8D4E3\"},\"line\":{\"color\":\"white\"}},\"type\":\"table\"}],\"barpolar\":[{\"marker\":{\"line\":{\"color\":\"#E5ECF6\",\"width\":0.5},\"pattern\":{\"fillmode\":\"overlay\",\"size\":10,\"solidity\":0.2}},\"type\":\"barpolar\"}],\"pie\":[{\"automargin\":true,\"type\":\"pie\"}]},\"layout\":{\"autotypenumbers\":\"strict\",\"colorway\":[\"#636efa\",\"#EF553B\",\"#00cc96\",\"#ab63fa\",\"#FFA15A\",\"#19d3f3\",\"#FF6692\",\"#B6E880\",\"#FF97FF\",\"#FECB52\"],\"font\":{\"color\":\"#2a3f5f\"},\"hovermode\":\"closest\",\"hoverlabel\":{\"align\":\"left\"},\"paper_bgcolor\":\"white\",\"plot_bgcolor\":\"#E5ECF6\",\"polar\":{\"bgcolor\":\"#E5ECF6\",\"angularaxis\":{\"gridcolor\":\"white\",\"linecolor\":\"white\",\"ticks\":\"\"},\"radialaxis\":{\"gridcolor\":\"white\",\"linecolor\":\"white\",\"ticks\":\"\"}},\"ternary\":{\"bgcolor\":\"#E5ECF6\",\"aaxis\":{\"gridcolor\":\"white\",\"linecolor\":\"white\",\"ticks\":\"\"},\"baxis\":{\"gridcolor\":\"white\",\"linecolor\":\"white\",\"ticks\":\"\"},\"caxis\":{\"gridcolor\":\"white\",\"linecolor\":\"white\",\"ticks\":\"\"}},\"coloraxis\":{\"colorbar\":{\"outlinewidth\":0,\"ticks\":\"\"}},\"colorscale\":{\"sequential\":[[0.0,\"#0d0887\"],[0.1111111111111111,\"#46039f\"],[0.2222222222222222,\"#7201a8\"],[0.3333333333333333,\"#9c179e\"],[0.4444444444444444,\"#bd3786\"],[0.5555555555555556,\"#d8576b\"],[0.6666666666666666,\"#ed7953\"],[0.7777777777777778,\"#fb9f3a\"],[0.8888888888888888,\"#fdca26\"],[1.0,\"#f0f921\"]],\"sequentialminus\":[[0.0,\"#0d0887\"],[0.1111111111111111,\"#46039f\"],[0.2222222222222222,\"#7201a8\"],[0.3333333333333333,\"#9c179e\"],[0.4444444444444444,\"#bd3786\"],[0.5555555555555556,\"#d8576b\"],[0.6666666666666666,\"#ed7953\"],[0.7777777777777778,\"#fb9f3a\"],[0.8888888888888888,\"#fdca26\"],[1.0,\"#f0f921\"]],\"diverging\":[[0,\"#8e0152\"],[0.1,\"#c51b7d\"],[0.2,\"#de77ae\"],[0.3,\"#f1b6da\"],[0.4,\"#fde0ef\"],[0.5,\"#f7f7f7\"],[0.6,\"#e6f5d0\"],[0.7,\"#b8e186\"],[0.8,\"#7fbc41\"],[0.9,\"#4d9221\"],[1,\"#276419\"]]},\"xaxis\":{\"gridcolor\":\"white\",\"linecolor\":\"white\",\"ticks\":\"\",\"title\":{\"standoff\":15},\"zerolinecolor\":\"white\",\"automargin\":true,\"zerolinewidth\":2},\"yaxis\":{\"gridcolor\":\"white\",\"linecolor\":\"white\",\"ticks\":\"\",\"title\":{\"standoff\":15},\"zerolinecolor\":\"white\",\"automargin\":true,\"zerolinewidth\":2},\"scene\":{\"xaxis\":{\"backgroundcolor\":\"#E5ECF6\",\"gridcolor\":\"white\",\"linecolor\":\"white\",\"showbackground\":true,\"ticks\":\"\",\"zerolinecolor\":\"white\",\"gridwidth\":2},\"yaxis\":{\"backgroundcolor\":\"#E5ECF6\",\"gridcolor\":\"white\",\"linecolor\":\"white\",\"showbackground\":true,\"ticks\":\"\",\"zerolinecolor\":\"white\",\"gridwidth\":2},\"zaxis\":{\"backgroundcolor\":\"#E5ECF6\",\"gridcolor\":\"white\",\"linecolor\":\"white\",\"showbackground\":true,\"ticks\":\"\",\"zerolinecolor\":\"white\",\"gridwidth\":2}},\"shapedefaults\":{\"line\":{\"color\":\"#2a3f5f\"}},\"annotationdefaults\":{\"arrowcolor\":\"#2a3f5f\",\"arrowhead\":0,\"arrowwidth\":1},\"geo\":{\"bgcolor\":\"white\",\"landcolor\":\"#E5ECF6\",\"subunitcolor\":\"white\",\"showland\":true,\"showlakes\":true,\"lakecolor\":\"white\"},\"title\":{\"x\":0.05},\"mapbox\":{\"style\":\"light\"}}},\"xaxis\":{\"anchor\":\"y\",\"domain\":[0.0,1.0],\"title\":{\"text\":\"Year\"}},\"yaxis\":{\"anchor\":\"x\",\"domain\":[0.0,1.0],\"title\":{\"text\":\"GDP ($ Billions)\"}},\"legend\":{\"title\":{\"text\":\"Group\"},\"tracegroupgap\":0},\"title\":{\"text\":\"Total GDP Over Time\"},\"height\":600,\"width\":1000},                        {\"responsive\": true}                    ).then(function(){\n",
              "                            \n",
              "var gd = document.getElementById('28594bc2-aff4-416a-922f-48e7e86c21e7');\n",
              "var x = new MutationObserver(function (mutations, observer) {{\n",
              "        var display = window.getComputedStyle(gd).display;\n",
              "        if (!display || display === 'none') {{\n",
              "            console.log([gd, 'removed!']);\n",
              "            Plotly.purge(gd);\n",
              "            observer.disconnect();\n",
              "        }}\n",
              "}});\n",
              "\n",
              "// Listen for the removal of the full notebook cells\n",
              "var notebookContainer = gd.closest('#notebook-container');\n",
              "if (notebookContainer) {{\n",
              "    x.observe(notebookContainer, {childList: true});\n",
              "}}\n",
              "\n",
              "// Listen for the clearing of the current output cell\n",
              "var outputEl = gd.closest('.output');\n",
              "if (outputEl) {{\n",
              "    x.observe(outputEl, {childList: true});\n",
              "}}\n",
              "\n",
              "                        })                };                            </script>        </div>\n",
              "</body>\n",
              "</html>"
            ]
          },
          "metadata": {}
        }
      ]
    },
    {
      "cell_type": "markdown",
      "source": [
        "## Step 9 - Plot the 2023 GDP Pie Chart\n",
        "\n",
        "Each group is a slice of a pie. Make sure the following information is displayed for each slice:\n",
        "\n",
        "- Group Name\n",
        "- GDP Percentage Share\n",
        "- GDP Total"
      ],
      "metadata": {
        "id": "Kx9TTRPY4nxJ"
      }
    },
    {
      "cell_type": "code",
      "source": [
        "\n",
        "\n",
        "# Filter data for the year 2023\n",
        "df_2023 = df_groupby_group[df_groupby_group['Year'] == 2023]\n",
        "\n",
        "# Create the pie chart\n",
        "fig = go.Figure(data=[go.Pie(labels=df_2023['Group'],\n",
        "                             values=df_2023['GDP ($Billions)'],\n",
        "                             hovertemplate='<b>%{label}</b><br>GDP Percentage Share: %{percent:.2f}%<br>GDP Total: $%{value:,.0f} Billion<extra></extra>')])\n",
        "\n",
        "fig.update_layout(title_text='2023 GDP Distribution by Group')\n",
        "fig.show()"
      ],
      "metadata": {
        "id": "QMTnW632xkp9",
        "outputId": "5cf98f15-a510-44f6-9e7d-e61f0420db7f",
        "colab": {
          "base_uri": "https://localhost:8080/",
          "height": 562
        }
      },
      "execution_count": 12,
      "outputs": [
        {
          "output_type": "display_data",
          "data": {
            "text/html": [
              "<html>\n",
              "<head><meta charset=\"utf-8\" /></head>\n",
              "<body>\n",
              "    <div>            <script src=\"https://cdnjs.cloudflare.com/ajax/libs/mathjax/2.7.5/MathJax.js?config=TeX-AMS-MML_SVG\"></script><script type=\"text/javascript\">if (window.MathJax && window.MathJax.Hub && window.MathJax.Hub.Config) {window.MathJax.Hub.Config({SVG: {font: \"STIX-Web\"}});}</script>                <script type=\"text/javascript\">window.PlotlyConfig = {MathJaxConfig: 'local'};</script>\n",
              "        <script charset=\"utf-8\" src=\"https://cdn.plot.ly/plotly-2.35.2.min.js\"></script>                <div id=\"8d32249d-4df4-4ca1-b353-d601b2609658\" class=\"plotly-graph-div\" style=\"height:525px; width:100%;\"></div>            <script type=\"text/javascript\">                                    window.PLOTLYENV=window.PLOTLYENV || {};                                    if (document.getElementById(\"8d32249d-4df4-4ca1-b353-d601b2609658\")) {                    Plotly.newPlot(                        \"8d32249d-4df4-4ca1-b353-d601b2609658\",                        [{\"hovertemplate\":\"\\u003cb\\u003e%{label}\\u003c\\u002fb\\u003e\\u003cbr\\u003eGDP Percentage Share: %{percent:.2f}%\\u003cbr\\u003eGDP Total: $%{value:,.0f} Billion\\u003cextra\\u003e\\u003c\\u002fextra\\u003e\",\"labels\":[\"BRICS\",\"G7\",\"REST of WORLD\"],\"values\":[23896.148161805173,46795.83442728655,33049.76379033401],\"type\":\"pie\"}],                        {\"template\":{\"data\":{\"histogram2dcontour\":[{\"type\":\"histogram2dcontour\",\"colorbar\":{\"outlinewidth\":0,\"ticks\":\"\"},\"colorscale\":[[0.0,\"#0d0887\"],[0.1111111111111111,\"#46039f\"],[0.2222222222222222,\"#7201a8\"],[0.3333333333333333,\"#9c179e\"],[0.4444444444444444,\"#bd3786\"],[0.5555555555555556,\"#d8576b\"],[0.6666666666666666,\"#ed7953\"],[0.7777777777777778,\"#fb9f3a\"],[0.8888888888888888,\"#fdca26\"],[1.0,\"#f0f921\"]]}],\"choropleth\":[{\"type\":\"choropleth\",\"colorbar\":{\"outlinewidth\":0,\"ticks\":\"\"}}],\"histogram2d\":[{\"type\":\"histogram2d\",\"colorbar\":{\"outlinewidth\":0,\"ticks\":\"\"},\"colorscale\":[[0.0,\"#0d0887\"],[0.1111111111111111,\"#46039f\"],[0.2222222222222222,\"#7201a8\"],[0.3333333333333333,\"#9c179e\"],[0.4444444444444444,\"#bd3786\"],[0.5555555555555556,\"#d8576b\"],[0.6666666666666666,\"#ed7953\"],[0.7777777777777778,\"#fb9f3a\"],[0.8888888888888888,\"#fdca26\"],[1.0,\"#f0f921\"]]}],\"heatmap\":[{\"type\":\"heatmap\",\"colorbar\":{\"outlinewidth\":0,\"ticks\":\"\"},\"colorscale\":[[0.0,\"#0d0887\"],[0.1111111111111111,\"#46039f\"],[0.2222222222222222,\"#7201a8\"],[0.3333333333333333,\"#9c179e\"],[0.4444444444444444,\"#bd3786\"],[0.5555555555555556,\"#d8576b\"],[0.6666666666666666,\"#ed7953\"],[0.7777777777777778,\"#fb9f3a\"],[0.8888888888888888,\"#fdca26\"],[1.0,\"#f0f921\"]]}],\"heatmapgl\":[{\"type\":\"heatmapgl\",\"colorbar\":{\"outlinewidth\":0,\"ticks\":\"\"},\"colorscale\":[[0.0,\"#0d0887\"],[0.1111111111111111,\"#46039f\"],[0.2222222222222222,\"#7201a8\"],[0.3333333333333333,\"#9c179e\"],[0.4444444444444444,\"#bd3786\"],[0.5555555555555556,\"#d8576b\"],[0.6666666666666666,\"#ed7953\"],[0.7777777777777778,\"#fb9f3a\"],[0.8888888888888888,\"#fdca26\"],[1.0,\"#f0f921\"]]}],\"contourcarpet\":[{\"type\":\"contourcarpet\",\"colorbar\":{\"outlinewidth\":0,\"ticks\":\"\"}}],\"contour\":[{\"type\":\"contour\",\"colorbar\":{\"outlinewidth\":0,\"ticks\":\"\"},\"colorscale\":[[0.0,\"#0d0887\"],[0.1111111111111111,\"#46039f\"],[0.2222222222222222,\"#7201a8\"],[0.3333333333333333,\"#9c179e\"],[0.4444444444444444,\"#bd3786\"],[0.5555555555555556,\"#d8576b\"],[0.6666666666666666,\"#ed7953\"],[0.7777777777777778,\"#fb9f3a\"],[0.8888888888888888,\"#fdca26\"],[1.0,\"#f0f921\"]]}],\"surface\":[{\"type\":\"surface\",\"colorbar\":{\"outlinewidth\":0,\"ticks\":\"\"},\"colorscale\":[[0.0,\"#0d0887\"],[0.1111111111111111,\"#46039f\"],[0.2222222222222222,\"#7201a8\"],[0.3333333333333333,\"#9c179e\"],[0.4444444444444444,\"#bd3786\"],[0.5555555555555556,\"#d8576b\"],[0.6666666666666666,\"#ed7953\"],[0.7777777777777778,\"#fb9f3a\"],[0.8888888888888888,\"#fdca26\"],[1.0,\"#f0f921\"]]}],\"mesh3d\":[{\"type\":\"mesh3d\",\"colorbar\":{\"outlinewidth\":0,\"ticks\":\"\"}}],\"scatter\":[{\"fillpattern\":{\"fillmode\":\"overlay\",\"size\":10,\"solidity\":0.2},\"type\":\"scatter\"}],\"parcoords\":[{\"type\":\"parcoords\",\"line\":{\"colorbar\":{\"outlinewidth\":0,\"ticks\":\"\"}}}],\"scatterpolargl\":[{\"type\":\"scatterpolargl\",\"marker\":{\"colorbar\":{\"outlinewidth\":0,\"ticks\":\"\"}}}],\"bar\":[{\"error_x\":{\"color\":\"#2a3f5f\"},\"error_y\":{\"color\":\"#2a3f5f\"},\"marker\":{\"line\":{\"color\":\"#E5ECF6\",\"width\":0.5},\"pattern\":{\"fillmode\":\"overlay\",\"size\":10,\"solidity\":0.2}},\"type\":\"bar\"}],\"scattergeo\":[{\"type\":\"scattergeo\",\"marker\":{\"colorbar\":{\"outlinewidth\":0,\"ticks\":\"\"}}}],\"scatterpolar\":[{\"type\":\"scatterpolar\",\"marker\":{\"colorbar\":{\"outlinewidth\":0,\"ticks\":\"\"}}}],\"histogram\":[{\"marker\":{\"pattern\":{\"fillmode\":\"overlay\",\"size\":10,\"solidity\":0.2}},\"type\":\"histogram\"}],\"scattergl\":[{\"type\":\"scattergl\",\"marker\":{\"colorbar\":{\"outlinewidth\":0,\"ticks\":\"\"}}}],\"scatter3d\":[{\"type\":\"scatter3d\",\"line\":{\"colorbar\":{\"outlinewidth\":0,\"ticks\":\"\"}},\"marker\":{\"colorbar\":{\"outlinewidth\":0,\"ticks\":\"\"}}}],\"scattermapbox\":[{\"type\":\"scattermapbox\",\"marker\":{\"colorbar\":{\"outlinewidth\":0,\"ticks\":\"\"}}}],\"scatterternary\":[{\"type\":\"scatterternary\",\"marker\":{\"colorbar\":{\"outlinewidth\":0,\"ticks\":\"\"}}}],\"scattercarpet\":[{\"type\":\"scattercarpet\",\"marker\":{\"colorbar\":{\"outlinewidth\":0,\"ticks\":\"\"}}}],\"carpet\":[{\"aaxis\":{\"endlinecolor\":\"#2a3f5f\",\"gridcolor\":\"white\",\"linecolor\":\"white\",\"minorgridcolor\":\"white\",\"startlinecolor\":\"#2a3f5f\"},\"baxis\":{\"endlinecolor\":\"#2a3f5f\",\"gridcolor\":\"white\",\"linecolor\":\"white\",\"minorgridcolor\":\"white\",\"startlinecolor\":\"#2a3f5f\"},\"type\":\"carpet\"}],\"table\":[{\"cells\":{\"fill\":{\"color\":\"#EBF0F8\"},\"line\":{\"color\":\"white\"}},\"header\":{\"fill\":{\"color\":\"#C8D4E3\"},\"line\":{\"color\":\"white\"}},\"type\":\"table\"}],\"barpolar\":[{\"marker\":{\"line\":{\"color\":\"#E5ECF6\",\"width\":0.5},\"pattern\":{\"fillmode\":\"overlay\",\"size\":10,\"solidity\":0.2}},\"type\":\"barpolar\"}],\"pie\":[{\"automargin\":true,\"type\":\"pie\"}]},\"layout\":{\"autotypenumbers\":\"strict\",\"colorway\":[\"#636efa\",\"#EF553B\",\"#00cc96\",\"#ab63fa\",\"#FFA15A\",\"#19d3f3\",\"#FF6692\",\"#B6E880\",\"#FF97FF\",\"#FECB52\"],\"font\":{\"color\":\"#2a3f5f\"},\"hovermode\":\"closest\",\"hoverlabel\":{\"align\":\"left\"},\"paper_bgcolor\":\"white\",\"plot_bgcolor\":\"#E5ECF6\",\"polar\":{\"bgcolor\":\"#E5ECF6\",\"angularaxis\":{\"gridcolor\":\"white\",\"linecolor\":\"white\",\"ticks\":\"\"},\"radialaxis\":{\"gridcolor\":\"white\",\"linecolor\":\"white\",\"ticks\":\"\"}},\"ternary\":{\"bgcolor\":\"#E5ECF6\",\"aaxis\":{\"gridcolor\":\"white\",\"linecolor\":\"white\",\"ticks\":\"\"},\"baxis\":{\"gridcolor\":\"white\",\"linecolor\":\"white\",\"ticks\":\"\"},\"caxis\":{\"gridcolor\":\"white\",\"linecolor\":\"white\",\"ticks\":\"\"}},\"coloraxis\":{\"colorbar\":{\"outlinewidth\":0,\"ticks\":\"\"}},\"colorscale\":{\"sequential\":[[0.0,\"#0d0887\"],[0.1111111111111111,\"#46039f\"],[0.2222222222222222,\"#7201a8\"],[0.3333333333333333,\"#9c179e\"],[0.4444444444444444,\"#bd3786\"],[0.5555555555555556,\"#d8576b\"],[0.6666666666666666,\"#ed7953\"],[0.7777777777777778,\"#fb9f3a\"],[0.8888888888888888,\"#fdca26\"],[1.0,\"#f0f921\"]],\"sequentialminus\":[[0.0,\"#0d0887\"],[0.1111111111111111,\"#46039f\"],[0.2222222222222222,\"#7201a8\"],[0.3333333333333333,\"#9c179e\"],[0.4444444444444444,\"#bd3786\"],[0.5555555555555556,\"#d8576b\"],[0.6666666666666666,\"#ed7953\"],[0.7777777777777778,\"#fb9f3a\"],[0.8888888888888888,\"#fdca26\"],[1.0,\"#f0f921\"]],\"diverging\":[[0,\"#8e0152\"],[0.1,\"#c51b7d\"],[0.2,\"#de77ae\"],[0.3,\"#f1b6da\"],[0.4,\"#fde0ef\"],[0.5,\"#f7f7f7\"],[0.6,\"#e6f5d0\"],[0.7,\"#b8e186\"],[0.8,\"#7fbc41\"],[0.9,\"#4d9221\"],[1,\"#276419\"]]},\"xaxis\":{\"gridcolor\":\"white\",\"linecolor\":\"white\",\"ticks\":\"\",\"title\":{\"standoff\":15},\"zerolinecolor\":\"white\",\"automargin\":true,\"zerolinewidth\":2},\"yaxis\":{\"gridcolor\":\"white\",\"linecolor\":\"white\",\"ticks\":\"\",\"title\":{\"standoff\":15},\"zerolinecolor\":\"white\",\"automargin\":true,\"zerolinewidth\":2},\"scene\":{\"xaxis\":{\"backgroundcolor\":\"#E5ECF6\",\"gridcolor\":\"white\",\"linecolor\":\"white\",\"showbackground\":true,\"ticks\":\"\",\"zerolinecolor\":\"white\",\"gridwidth\":2},\"yaxis\":{\"backgroundcolor\":\"#E5ECF6\",\"gridcolor\":\"white\",\"linecolor\":\"white\",\"showbackground\":true,\"ticks\":\"\",\"zerolinecolor\":\"white\",\"gridwidth\":2},\"zaxis\":{\"backgroundcolor\":\"#E5ECF6\",\"gridcolor\":\"white\",\"linecolor\":\"white\",\"showbackground\":true,\"ticks\":\"\",\"zerolinecolor\":\"white\",\"gridwidth\":2}},\"shapedefaults\":{\"line\":{\"color\":\"#2a3f5f\"}},\"annotationdefaults\":{\"arrowcolor\":\"#2a3f5f\",\"arrowhead\":0,\"arrowwidth\":1},\"geo\":{\"bgcolor\":\"white\",\"landcolor\":\"#E5ECF6\",\"subunitcolor\":\"white\",\"showland\":true,\"showlakes\":true,\"lakecolor\":\"white\"},\"title\":{\"x\":0.05},\"mapbox\":{\"style\":\"light\"}}},\"title\":{\"text\":\"2023 GDP Distribution by Group\"}},                        {\"responsive\": true}                    ).then(function(){\n",
              "                            \n",
              "var gd = document.getElementById('8d32249d-4df4-4ca1-b353-d601b2609658');\n",
              "var x = new MutationObserver(function (mutations, observer) {{\n",
              "        var display = window.getComputedStyle(gd).display;\n",
              "        if (!display || display === 'none') {{\n",
              "            console.log([gd, 'removed!']);\n",
              "            Plotly.purge(gd);\n",
              "            observer.disconnect();\n",
              "        }}\n",
              "}});\n",
              "\n",
              "// Listen for the removal of the full notebook cells\n",
              "var notebookContainer = gd.closest('#notebook-container');\n",
              "if (notebookContainer) {{\n",
              "    x.observe(notebookContainer, {childList: true});\n",
              "}}\n",
              "\n",
              "// Listen for the clearing of the current output cell\n",
              "var outputEl = gd.closest('.output');\n",
              "if (outputEl) {{\n",
              "    x.observe(outputEl, {childList: true});\n",
              "}}\n",
              "\n",
              "                        })                };                            </script>        </div>\n",
              "</body>\n",
              "</html>"
            ]
          },
          "metadata": {}
        }
      ]
    },
    {
      "cell_type": "markdown",
      "source": [
        "## Step 10 - Plot the 2023 GDP Pie Charts\n",
        "\n",
        "One pie chart for G7 and one pie chart for BRICK. Each country is a slice of a pie. Make sure the following information is displayed for each slice:\n",
        "\n",
        "- Country Name\n",
        "- GDP Percentage Share\n",
        "- GDP Total"
      ],
      "metadata": {
        "id": "0QNCa1la4wP9"
      }
    },
    {
      "cell_type": "code",
      "source": [
        "\n",
        "\n",
        "# Filter data for the year 2023\n",
        "df_2023 = df[df['Year'] == 2023]\n",
        "\n",
        "# Calculate total GDP for 2023\n",
        "total_gdp_2023 = df_2023['GDP ($Billions)'].sum()\n",
        "\n",
        "# Calculate GDP percentage share for each country in 2023\n",
        "df_2023['GDP Percentage Share'] = (df_2023['GDP ($Billions)'] / total_gdp_2023) * 100\n",
        "\n",
        "# Create subplots\n",
        "fig = make_subplots(rows=1, cols=2, specs=[[{'type':'domain'}, {'type':'domain'}]],\n",
        "                   subplot_titles=['G7 GDP Distribution (2023)', 'BRICS GDP Distribution (2023)'])\n",
        "\n",
        "# G7 pie chart\n",
        "g7_df = df_2023[df_2023['Group'] == 'G7']\n",
        "fig.add_trace(go.Pie(labels=g7_df['Country Name'],\n",
        "                     values=g7_df['GDP ($Billions)'],\n",
        "                     name='G7',\n",
        "                     hovertemplate='<b>%{label}</b><br>GDP Percentage Share: %{percent:.2f}%<br>GDP Total: $%{value:,.0f} Billion<extra></extra>'), 1, 1)\n",
        "\n",
        "\n",
        "# BRICS pie chart\n",
        "brics_df = df_2023[df_2023['Group'] == 'BRICS']\n",
        "fig.add_trace(go.Pie(labels=brics_df['Country Name'],\n",
        "                     values=brics_df['GDP ($Billions)'],\n",
        "                     name='BRICS',\n",
        "                     hovertemplate='<b>%{label}</b><br>GDP Percentage Share: %{percent:.2f}%<br>GDP Total: $%{value:,.0f} Billion<extra></extra>'), 1, 2)\n",
        "\n",
        "\n",
        "fig.update_layout(title_text='2023 GDP Distribution by Country (G7 & BRICS)')\n",
        "fig.show()"
      ],
      "metadata": {
        "id": "RdxSrZgnxpxK",
        "outputId": "bcad703d-6524-4b18-dd60-59d8bba0b693",
        "colab": {
          "base_uri": "https://localhost:8080/",
          "height": 704
        }
      },
      "execution_count": 13,
      "outputs": [
        {
          "output_type": "stream",
          "name": "stderr",
          "text": [
            "<ipython-input-13-df75ae526c38>:8: SettingWithCopyWarning:\n",
            "\n",
            "\n",
            "A value is trying to be set on a copy of a slice from a DataFrame.\n",
            "Try using .loc[row_indexer,col_indexer] = value instead\n",
            "\n",
            "See the caveats in the documentation: https://pandas.pydata.org/pandas-docs/stable/user_guide/indexing.html#returning-a-view-versus-a-copy\n",
            "\n"
          ]
        },
        {
          "output_type": "display_data",
          "data": {
            "text/html": [
              "<html>\n",
              "<head><meta charset=\"utf-8\" /></head>\n",
              "<body>\n",
              "    <div>            <script src=\"https://cdnjs.cloudflare.com/ajax/libs/mathjax/2.7.5/MathJax.js?config=TeX-AMS-MML_SVG\"></script><script type=\"text/javascript\">if (window.MathJax && window.MathJax.Hub && window.MathJax.Hub.Config) {window.MathJax.Hub.Config({SVG: {font: \"STIX-Web\"}});}</script>                <script type=\"text/javascript\">window.PlotlyConfig = {MathJaxConfig: 'local'};</script>\n",
              "        <script charset=\"utf-8\" src=\"https://cdn.plot.ly/plotly-2.35.2.min.js\"></script>                <div id=\"25f2d031-3614-4e27-a1fc-7ef1f3d36292\" class=\"plotly-graph-div\" style=\"height:525px; width:100%;\"></div>            <script type=\"text/javascript\">                                    window.PLOTLYENV=window.PLOTLYENV || {};                                    if (document.getElementById(\"25f2d031-3614-4e27-a1fc-7ef1f3d36292\")) {                    Plotly.newPlot(                        \"25f2d031-3614-4e27-a1fc-7ef1f3d36292\",                        [{\"hovertemplate\":\"\\u003cb\\u003e%{label}\\u003c\\u002fb\\u003e\\u003cbr\\u003eGDP Percentage Share: %{percent:.2f}%\\u003cbr\\u003eGDP Total: $%{value:,.0f} Billion\\u003cextra\\u003e\\u003c\\u002fextra\\u003e\",\"labels\":[\"Canada\",\"Germany\",\"France\",\"United Kingdom\",\"Italy\",\"Japan\",\"United States\"],\"name\":\"G7\",\"values\":[2140.08556779145,4456.08101670596,3030.9040896079,3340.03238066804,2254.8512127318,4212.9451597814,27360.935],\"type\":\"pie\",\"domain\":{\"x\":[0.0,0.45],\"y\":[0.0,1.0]}},{\"hovertemplate\":\"\\u003cb\\u003e%{label}\\u003c\\u002fb\\u003e\\u003cbr\\u003eGDP Percentage Share: %{percent:.2f}%\\u003cbr\\u003eGDP Total: $%{value:,.0f} Billion\\u003cextra\\u003e\\u003c\\u002fextra\\u003e\",\"labels\":[\"Brazil\",\"China\",\"India\",\"South Africa\"],\"name\":\"BRICS\",\"values\":[2173.66565593727,17794.7819861045,3549.9189187775296,377.781600985873],\"type\":\"pie\",\"domain\":{\"x\":[0.55,1.0],\"y\":[0.0,1.0]}}],                        {\"template\":{\"data\":{\"histogram2dcontour\":[{\"type\":\"histogram2dcontour\",\"colorbar\":{\"outlinewidth\":0,\"ticks\":\"\"},\"colorscale\":[[0.0,\"#0d0887\"],[0.1111111111111111,\"#46039f\"],[0.2222222222222222,\"#7201a8\"],[0.3333333333333333,\"#9c179e\"],[0.4444444444444444,\"#bd3786\"],[0.5555555555555556,\"#d8576b\"],[0.6666666666666666,\"#ed7953\"],[0.7777777777777778,\"#fb9f3a\"],[0.8888888888888888,\"#fdca26\"],[1.0,\"#f0f921\"]]}],\"choropleth\":[{\"type\":\"choropleth\",\"colorbar\":{\"outlinewidth\":0,\"ticks\":\"\"}}],\"histogram2d\":[{\"type\":\"histogram2d\",\"colorbar\":{\"outlinewidth\":0,\"ticks\":\"\"},\"colorscale\":[[0.0,\"#0d0887\"],[0.1111111111111111,\"#46039f\"],[0.2222222222222222,\"#7201a8\"],[0.3333333333333333,\"#9c179e\"],[0.4444444444444444,\"#bd3786\"],[0.5555555555555556,\"#d8576b\"],[0.6666666666666666,\"#ed7953\"],[0.7777777777777778,\"#fb9f3a\"],[0.8888888888888888,\"#fdca26\"],[1.0,\"#f0f921\"]]}],\"heatmap\":[{\"type\":\"heatmap\",\"colorbar\":{\"outlinewidth\":0,\"ticks\":\"\"},\"colorscale\":[[0.0,\"#0d0887\"],[0.1111111111111111,\"#46039f\"],[0.2222222222222222,\"#7201a8\"],[0.3333333333333333,\"#9c179e\"],[0.4444444444444444,\"#bd3786\"],[0.5555555555555556,\"#d8576b\"],[0.6666666666666666,\"#ed7953\"],[0.7777777777777778,\"#fb9f3a\"],[0.8888888888888888,\"#fdca26\"],[1.0,\"#f0f921\"]]}],\"heatmapgl\":[{\"type\":\"heatmapgl\",\"colorbar\":{\"outlinewidth\":0,\"ticks\":\"\"},\"colorscale\":[[0.0,\"#0d0887\"],[0.1111111111111111,\"#46039f\"],[0.2222222222222222,\"#7201a8\"],[0.3333333333333333,\"#9c179e\"],[0.4444444444444444,\"#bd3786\"],[0.5555555555555556,\"#d8576b\"],[0.6666666666666666,\"#ed7953\"],[0.7777777777777778,\"#fb9f3a\"],[0.8888888888888888,\"#fdca26\"],[1.0,\"#f0f921\"]]}],\"contourcarpet\":[{\"type\":\"contourcarpet\",\"colorbar\":{\"outlinewidth\":0,\"ticks\":\"\"}}],\"contour\":[{\"type\":\"contour\",\"colorbar\":{\"outlinewidth\":0,\"ticks\":\"\"},\"colorscale\":[[0.0,\"#0d0887\"],[0.1111111111111111,\"#46039f\"],[0.2222222222222222,\"#7201a8\"],[0.3333333333333333,\"#9c179e\"],[0.4444444444444444,\"#bd3786\"],[0.5555555555555556,\"#d8576b\"],[0.6666666666666666,\"#ed7953\"],[0.7777777777777778,\"#fb9f3a\"],[0.8888888888888888,\"#fdca26\"],[1.0,\"#f0f921\"]]}],\"surface\":[{\"type\":\"surface\",\"colorbar\":{\"outlinewidth\":0,\"ticks\":\"\"},\"colorscale\":[[0.0,\"#0d0887\"],[0.1111111111111111,\"#46039f\"],[0.2222222222222222,\"#7201a8\"],[0.3333333333333333,\"#9c179e\"],[0.4444444444444444,\"#bd3786\"],[0.5555555555555556,\"#d8576b\"],[0.6666666666666666,\"#ed7953\"],[0.7777777777777778,\"#fb9f3a\"],[0.8888888888888888,\"#fdca26\"],[1.0,\"#f0f921\"]]}],\"mesh3d\":[{\"type\":\"mesh3d\",\"colorbar\":{\"outlinewidth\":0,\"ticks\":\"\"}}],\"scatter\":[{\"fillpattern\":{\"fillmode\":\"overlay\",\"size\":10,\"solidity\":0.2},\"type\":\"scatter\"}],\"parcoords\":[{\"type\":\"parcoords\",\"line\":{\"colorbar\":{\"outlinewidth\":0,\"ticks\":\"\"}}}],\"scatterpolargl\":[{\"type\":\"scatterpolargl\",\"marker\":{\"colorbar\":{\"outlinewidth\":0,\"ticks\":\"\"}}}],\"bar\":[{\"error_x\":{\"color\":\"#2a3f5f\"},\"error_y\":{\"color\":\"#2a3f5f\"},\"marker\":{\"line\":{\"color\":\"#E5ECF6\",\"width\":0.5},\"pattern\":{\"fillmode\":\"overlay\",\"size\":10,\"solidity\":0.2}},\"type\":\"bar\"}],\"scattergeo\":[{\"type\":\"scattergeo\",\"marker\":{\"colorbar\":{\"outlinewidth\":0,\"ticks\":\"\"}}}],\"scatterpolar\":[{\"type\":\"scatterpolar\",\"marker\":{\"colorbar\":{\"outlinewidth\":0,\"ticks\":\"\"}}}],\"histogram\":[{\"marker\":{\"pattern\":{\"fillmode\":\"overlay\",\"size\":10,\"solidity\":0.2}},\"type\":\"histogram\"}],\"scattergl\":[{\"type\":\"scattergl\",\"marker\":{\"colorbar\":{\"outlinewidth\":0,\"ticks\":\"\"}}}],\"scatter3d\":[{\"type\":\"scatter3d\",\"line\":{\"colorbar\":{\"outlinewidth\":0,\"ticks\":\"\"}},\"marker\":{\"colorbar\":{\"outlinewidth\":0,\"ticks\":\"\"}}}],\"scattermapbox\":[{\"type\":\"scattermapbox\",\"marker\":{\"colorbar\":{\"outlinewidth\":0,\"ticks\":\"\"}}}],\"scatterternary\":[{\"type\":\"scatterternary\",\"marker\":{\"colorbar\":{\"outlinewidth\":0,\"ticks\":\"\"}}}],\"scattercarpet\":[{\"type\":\"scattercarpet\",\"marker\":{\"colorbar\":{\"outlinewidth\":0,\"ticks\":\"\"}}}],\"carpet\":[{\"aaxis\":{\"endlinecolor\":\"#2a3f5f\",\"gridcolor\":\"white\",\"linecolor\":\"white\",\"minorgridcolor\":\"white\",\"startlinecolor\":\"#2a3f5f\"},\"baxis\":{\"endlinecolor\":\"#2a3f5f\",\"gridcolor\":\"white\",\"linecolor\":\"white\",\"minorgridcolor\":\"white\",\"startlinecolor\":\"#2a3f5f\"},\"type\":\"carpet\"}],\"table\":[{\"cells\":{\"fill\":{\"color\":\"#EBF0F8\"},\"line\":{\"color\":\"white\"}},\"header\":{\"fill\":{\"color\":\"#C8D4E3\"},\"line\":{\"color\":\"white\"}},\"type\":\"table\"}],\"barpolar\":[{\"marker\":{\"line\":{\"color\":\"#E5ECF6\",\"width\":0.5},\"pattern\":{\"fillmode\":\"overlay\",\"size\":10,\"solidity\":0.2}},\"type\":\"barpolar\"}],\"pie\":[{\"automargin\":true,\"type\":\"pie\"}]},\"layout\":{\"autotypenumbers\":\"strict\",\"colorway\":[\"#636efa\",\"#EF553B\",\"#00cc96\",\"#ab63fa\",\"#FFA15A\",\"#19d3f3\",\"#FF6692\",\"#B6E880\",\"#FF97FF\",\"#FECB52\"],\"font\":{\"color\":\"#2a3f5f\"},\"hovermode\":\"closest\",\"hoverlabel\":{\"align\":\"left\"},\"paper_bgcolor\":\"white\",\"plot_bgcolor\":\"#E5ECF6\",\"polar\":{\"bgcolor\":\"#E5ECF6\",\"angularaxis\":{\"gridcolor\":\"white\",\"linecolor\":\"white\",\"ticks\":\"\"},\"radialaxis\":{\"gridcolor\":\"white\",\"linecolor\":\"white\",\"ticks\":\"\"}},\"ternary\":{\"bgcolor\":\"#E5ECF6\",\"aaxis\":{\"gridcolor\":\"white\",\"linecolor\":\"white\",\"ticks\":\"\"},\"baxis\":{\"gridcolor\":\"white\",\"linecolor\":\"white\",\"ticks\":\"\"},\"caxis\":{\"gridcolor\":\"white\",\"linecolor\":\"white\",\"ticks\":\"\"}},\"coloraxis\":{\"colorbar\":{\"outlinewidth\":0,\"ticks\":\"\"}},\"colorscale\":{\"sequential\":[[0.0,\"#0d0887\"],[0.1111111111111111,\"#46039f\"],[0.2222222222222222,\"#7201a8\"],[0.3333333333333333,\"#9c179e\"],[0.4444444444444444,\"#bd3786\"],[0.5555555555555556,\"#d8576b\"],[0.6666666666666666,\"#ed7953\"],[0.7777777777777778,\"#fb9f3a\"],[0.8888888888888888,\"#fdca26\"],[1.0,\"#f0f921\"]],\"sequentialminus\":[[0.0,\"#0d0887\"],[0.1111111111111111,\"#46039f\"],[0.2222222222222222,\"#7201a8\"],[0.3333333333333333,\"#9c179e\"],[0.4444444444444444,\"#bd3786\"],[0.5555555555555556,\"#d8576b\"],[0.6666666666666666,\"#ed7953\"],[0.7777777777777778,\"#fb9f3a\"],[0.8888888888888888,\"#fdca26\"],[1.0,\"#f0f921\"]],\"diverging\":[[0,\"#8e0152\"],[0.1,\"#c51b7d\"],[0.2,\"#de77ae\"],[0.3,\"#f1b6da\"],[0.4,\"#fde0ef\"],[0.5,\"#f7f7f7\"],[0.6,\"#e6f5d0\"],[0.7,\"#b8e186\"],[0.8,\"#7fbc41\"],[0.9,\"#4d9221\"],[1,\"#276419\"]]},\"xaxis\":{\"gridcolor\":\"white\",\"linecolor\":\"white\",\"ticks\":\"\",\"title\":{\"standoff\":15},\"zerolinecolor\":\"white\",\"automargin\":true,\"zerolinewidth\":2},\"yaxis\":{\"gridcolor\":\"white\",\"linecolor\":\"white\",\"ticks\":\"\",\"title\":{\"standoff\":15},\"zerolinecolor\":\"white\",\"automargin\":true,\"zerolinewidth\":2},\"scene\":{\"xaxis\":{\"backgroundcolor\":\"#E5ECF6\",\"gridcolor\":\"white\",\"linecolor\":\"white\",\"showbackground\":true,\"ticks\":\"\",\"zerolinecolor\":\"white\",\"gridwidth\":2},\"yaxis\":{\"backgroundcolor\":\"#E5ECF6\",\"gridcolor\":\"white\",\"linecolor\":\"white\",\"showbackground\":true,\"ticks\":\"\",\"zerolinecolor\":\"white\",\"gridwidth\":2},\"zaxis\":{\"backgroundcolor\":\"#E5ECF6\",\"gridcolor\":\"white\",\"linecolor\":\"white\",\"showbackground\":true,\"ticks\":\"\",\"zerolinecolor\":\"white\",\"gridwidth\":2}},\"shapedefaults\":{\"line\":{\"color\":\"#2a3f5f\"}},\"annotationdefaults\":{\"arrowcolor\":\"#2a3f5f\",\"arrowhead\":0,\"arrowwidth\":1},\"geo\":{\"bgcolor\":\"white\",\"landcolor\":\"#E5ECF6\",\"subunitcolor\":\"white\",\"showland\":true,\"showlakes\":true,\"lakecolor\":\"white\"},\"title\":{\"x\":0.05},\"mapbox\":{\"style\":\"light\"}}},\"annotations\":[{\"font\":{\"size\":16},\"showarrow\":false,\"text\":\"G7 GDP Distribution (2023)\",\"x\":0.225,\"xanchor\":\"center\",\"xref\":\"paper\",\"y\":1.0,\"yanchor\":\"bottom\",\"yref\":\"paper\"},{\"font\":{\"size\":16},\"showarrow\":false,\"text\":\"BRICS GDP Distribution (2023)\",\"x\":0.775,\"xanchor\":\"center\",\"xref\":\"paper\",\"y\":1.0,\"yanchor\":\"bottom\",\"yref\":\"paper\"}],\"title\":{\"text\":\"2023 GDP Distribution by Country (G7 & BRICS)\"}},                        {\"responsive\": true}                    ).then(function(){\n",
              "                            \n",
              "var gd = document.getElementById('25f2d031-3614-4e27-a1fc-7ef1f3d36292');\n",
              "var x = new MutationObserver(function (mutations, observer) {{\n",
              "        var display = window.getComputedStyle(gd).display;\n",
              "        if (!display || display === 'none') {{\n",
              "            console.log([gd, 'removed!']);\n",
              "            Plotly.purge(gd);\n",
              "            observer.disconnect();\n",
              "        }}\n",
              "}});\n",
              "\n",
              "// Listen for the removal of the full notebook cells\n",
              "var notebookContainer = gd.closest('#notebook-container');\n",
              "if (notebookContainer) {{\n",
              "    x.observe(notebookContainer, {childList: true});\n",
              "}}\n",
              "\n",
              "// Listen for the clearing of the current output cell\n",
              "var outputEl = gd.closest('.output');\n",
              "if (outputEl) {{\n",
              "    x.observe(outputEl, {childList: true});\n",
              "}}\n",
              "\n",
              "                        })                };                            </script>        </div>\n",
              "</body>\n",
              "</html>"
            ]
          },
          "metadata": {}
        }
      ]
    },
    {
      "cell_type": "markdown",
      "source": [
        "## Step 11 - Plot the 2023 GDP Sun Burst Chart\n",
        "\n",
        "Showing the hierarchy of Group and Country."
      ],
      "metadata": {
        "id": "KtGSDn8f68Bf"
      }
    },
    {
      "cell_type": "code",
      "source": [
        "\n",
        "\n",
        "\n",
        "\n",
        "gdp_2023_groups = df[(df['Year'] == 2023) & (df['Group'].isin(['G7', 'BRICS']))]\n",
        "\n",
        "gdp_2023_groups = gdp_2023_groups[['Group', 'Country Name', 'GDP ($Billions)']]\n",
        "\n",
        "fig = px.sunburst(\n",
        "    gdp_2023_groups,\n",
        "    path=['Group', 'Country Name'],\n",
        "    values='GDP ($Billions)',\n",
        "    title=\"2023 GDP Sunburst Chart by Group and Country\"\n",
        ")\n",
        "\n",
        "fig.show()\n",
        "\n"
      ],
      "metadata": {
        "id": "BXkngkboxwJd",
        "outputId": "a332fc8a-cdaa-4904-c932-cc9d8694fbfa",
        "colab": {
          "base_uri": "https://localhost:8080/",
          "height": 562
        }
      },
      "execution_count": 14,
      "outputs": [
        {
          "output_type": "display_data",
          "data": {
            "text/html": [
              "<html>\n",
              "<head><meta charset=\"utf-8\" /></head>\n",
              "<body>\n",
              "    <div>            <script src=\"https://cdnjs.cloudflare.com/ajax/libs/mathjax/2.7.5/MathJax.js?config=TeX-AMS-MML_SVG\"></script><script type=\"text/javascript\">if (window.MathJax && window.MathJax.Hub && window.MathJax.Hub.Config) {window.MathJax.Hub.Config({SVG: {font: \"STIX-Web\"}});}</script>                <script type=\"text/javascript\">window.PlotlyConfig = {MathJaxConfig: 'local'};</script>\n",
              "        <script charset=\"utf-8\" src=\"https://cdn.plot.ly/plotly-2.35.2.min.js\"></script>                <div id=\"ef8cf687-3f63-4fd2-a93b-2b95ad2b6823\" class=\"plotly-graph-div\" style=\"height:525px; width:100%;\"></div>            <script type=\"text/javascript\">                                    window.PLOTLYENV=window.PLOTLYENV || {};                                    if (document.getElementById(\"ef8cf687-3f63-4fd2-a93b-2b95ad2b6823\")) {                    Plotly.newPlot(                        \"ef8cf687-3f63-4fd2-a93b-2b95ad2b6823\",                        [{\"branchvalues\":\"total\",\"domain\":{\"x\":[0.0,1.0],\"y\":[0.0,1.0]},\"hovertemplate\":\"labels=%{label}\\u003cbr\\u003eGDP ($Billions)=%{value}\\u003cbr\\u003eparent=%{parent}\\u003cbr\\u003eid=%{id}\\u003cextra\\u003e\\u003c\\u002fextra\\u003e\",\"ids\":[\"BRICS\\u002fBrazil\",\"G7\\u002fCanada\",\"BRICS\\u002fChina\",\"G7\\u002fFrance\",\"G7\\u002fGermany\",\"BRICS\\u002fIndia\",\"G7\\u002fItaly\",\"G7\\u002fJapan\",\"BRICS\\u002fSouth Africa\",\"G7\\u002fUnited Kingdom\",\"G7\\u002fUnited States\",\"BRICS\",\"G7\"],\"labels\":[\"Brazil\",\"Canada\",\"China\",\"France\",\"Germany\",\"India\",\"Italy\",\"Japan\",\"South Africa\",\"United Kingdom\",\"United States\",\"BRICS\",\"G7\"],\"name\":\"\",\"parents\":[\"BRICS\",\"G7\",\"BRICS\",\"G7\",\"G7\",\"BRICS\",\"G7\",\"G7\",\"BRICS\",\"G7\",\"G7\",\"\",\"\"],\"values\":[2173.66565593727,2140.08556779145,17794.7819861045,3030.9040896079,4456.08101670596,3549.9189187775296,2254.8512127318,4212.9451597814,377.781600985873,3340.03238066804,27360.935,23896.148161805173,46795.83442728655],\"type\":\"sunburst\"}],                        {\"template\":{\"data\":{\"histogram2dcontour\":[{\"type\":\"histogram2dcontour\",\"colorbar\":{\"outlinewidth\":0,\"ticks\":\"\"},\"colorscale\":[[0.0,\"#0d0887\"],[0.1111111111111111,\"#46039f\"],[0.2222222222222222,\"#7201a8\"],[0.3333333333333333,\"#9c179e\"],[0.4444444444444444,\"#bd3786\"],[0.5555555555555556,\"#d8576b\"],[0.6666666666666666,\"#ed7953\"],[0.7777777777777778,\"#fb9f3a\"],[0.8888888888888888,\"#fdca26\"],[1.0,\"#f0f921\"]]}],\"choropleth\":[{\"type\":\"choropleth\",\"colorbar\":{\"outlinewidth\":0,\"ticks\":\"\"}}],\"histogram2d\":[{\"type\":\"histogram2d\",\"colorbar\":{\"outlinewidth\":0,\"ticks\":\"\"},\"colorscale\":[[0.0,\"#0d0887\"],[0.1111111111111111,\"#46039f\"],[0.2222222222222222,\"#7201a8\"],[0.3333333333333333,\"#9c179e\"],[0.4444444444444444,\"#bd3786\"],[0.5555555555555556,\"#d8576b\"],[0.6666666666666666,\"#ed7953\"],[0.7777777777777778,\"#fb9f3a\"],[0.8888888888888888,\"#fdca26\"],[1.0,\"#f0f921\"]]}],\"heatmap\":[{\"type\":\"heatmap\",\"colorbar\":{\"outlinewidth\":0,\"ticks\":\"\"},\"colorscale\":[[0.0,\"#0d0887\"],[0.1111111111111111,\"#46039f\"],[0.2222222222222222,\"#7201a8\"],[0.3333333333333333,\"#9c179e\"],[0.4444444444444444,\"#bd3786\"],[0.5555555555555556,\"#d8576b\"],[0.6666666666666666,\"#ed7953\"],[0.7777777777777778,\"#fb9f3a\"],[0.8888888888888888,\"#fdca26\"],[1.0,\"#f0f921\"]]}],\"heatmapgl\":[{\"type\":\"heatmapgl\",\"colorbar\":{\"outlinewidth\":0,\"ticks\":\"\"},\"colorscale\":[[0.0,\"#0d0887\"],[0.1111111111111111,\"#46039f\"],[0.2222222222222222,\"#7201a8\"],[0.3333333333333333,\"#9c179e\"],[0.4444444444444444,\"#bd3786\"],[0.5555555555555556,\"#d8576b\"],[0.6666666666666666,\"#ed7953\"],[0.7777777777777778,\"#fb9f3a\"],[0.8888888888888888,\"#fdca26\"],[1.0,\"#f0f921\"]]}],\"contourcarpet\":[{\"type\":\"contourcarpet\",\"colorbar\":{\"outlinewidth\":0,\"ticks\":\"\"}}],\"contour\":[{\"type\":\"contour\",\"colorbar\":{\"outlinewidth\":0,\"ticks\":\"\"},\"colorscale\":[[0.0,\"#0d0887\"],[0.1111111111111111,\"#46039f\"],[0.2222222222222222,\"#7201a8\"],[0.3333333333333333,\"#9c179e\"],[0.4444444444444444,\"#bd3786\"],[0.5555555555555556,\"#d8576b\"],[0.6666666666666666,\"#ed7953\"],[0.7777777777777778,\"#fb9f3a\"],[0.8888888888888888,\"#fdca26\"],[1.0,\"#f0f921\"]]}],\"surface\":[{\"type\":\"surface\",\"colorbar\":{\"outlinewidth\":0,\"ticks\":\"\"},\"colorscale\":[[0.0,\"#0d0887\"],[0.1111111111111111,\"#46039f\"],[0.2222222222222222,\"#7201a8\"],[0.3333333333333333,\"#9c179e\"],[0.4444444444444444,\"#bd3786\"],[0.5555555555555556,\"#d8576b\"],[0.6666666666666666,\"#ed7953\"],[0.7777777777777778,\"#fb9f3a\"],[0.8888888888888888,\"#fdca26\"],[1.0,\"#f0f921\"]]}],\"mesh3d\":[{\"type\":\"mesh3d\",\"colorbar\":{\"outlinewidth\":0,\"ticks\":\"\"}}],\"scatter\":[{\"fillpattern\":{\"fillmode\":\"overlay\",\"size\":10,\"solidity\":0.2},\"type\":\"scatter\"}],\"parcoords\":[{\"type\":\"parcoords\",\"line\":{\"colorbar\":{\"outlinewidth\":0,\"ticks\":\"\"}}}],\"scatterpolargl\":[{\"type\":\"scatterpolargl\",\"marker\":{\"colorbar\":{\"outlinewidth\":0,\"ticks\":\"\"}}}],\"bar\":[{\"error_x\":{\"color\":\"#2a3f5f\"},\"error_y\":{\"color\":\"#2a3f5f\"},\"marker\":{\"line\":{\"color\":\"#E5ECF6\",\"width\":0.5},\"pattern\":{\"fillmode\":\"overlay\",\"size\":10,\"solidity\":0.2}},\"type\":\"bar\"}],\"scattergeo\":[{\"type\":\"scattergeo\",\"marker\":{\"colorbar\":{\"outlinewidth\":0,\"ticks\":\"\"}}}],\"scatterpolar\":[{\"type\":\"scatterpolar\",\"marker\":{\"colorbar\":{\"outlinewidth\":0,\"ticks\":\"\"}}}],\"histogram\":[{\"marker\":{\"pattern\":{\"fillmode\":\"overlay\",\"size\":10,\"solidity\":0.2}},\"type\":\"histogram\"}],\"scattergl\":[{\"type\":\"scattergl\",\"marker\":{\"colorbar\":{\"outlinewidth\":0,\"ticks\":\"\"}}}],\"scatter3d\":[{\"type\":\"scatter3d\",\"line\":{\"colorbar\":{\"outlinewidth\":0,\"ticks\":\"\"}},\"marker\":{\"colorbar\":{\"outlinewidth\":0,\"ticks\":\"\"}}}],\"scattermapbox\":[{\"type\":\"scattermapbox\",\"marker\":{\"colorbar\":{\"outlinewidth\":0,\"ticks\":\"\"}}}],\"scatterternary\":[{\"type\":\"scatterternary\",\"marker\":{\"colorbar\":{\"outlinewidth\":0,\"ticks\":\"\"}}}],\"scattercarpet\":[{\"type\":\"scattercarpet\",\"marker\":{\"colorbar\":{\"outlinewidth\":0,\"ticks\":\"\"}}}],\"carpet\":[{\"aaxis\":{\"endlinecolor\":\"#2a3f5f\",\"gridcolor\":\"white\",\"linecolor\":\"white\",\"minorgridcolor\":\"white\",\"startlinecolor\":\"#2a3f5f\"},\"baxis\":{\"endlinecolor\":\"#2a3f5f\",\"gridcolor\":\"white\",\"linecolor\":\"white\",\"minorgridcolor\":\"white\",\"startlinecolor\":\"#2a3f5f\"},\"type\":\"carpet\"}],\"table\":[{\"cells\":{\"fill\":{\"color\":\"#EBF0F8\"},\"line\":{\"color\":\"white\"}},\"header\":{\"fill\":{\"color\":\"#C8D4E3\"},\"line\":{\"color\":\"white\"}},\"type\":\"table\"}],\"barpolar\":[{\"marker\":{\"line\":{\"color\":\"#E5ECF6\",\"width\":0.5},\"pattern\":{\"fillmode\":\"overlay\",\"size\":10,\"solidity\":0.2}},\"type\":\"barpolar\"}],\"pie\":[{\"automargin\":true,\"type\":\"pie\"}]},\"layout\":{\"autotypenumbers\":\"strict\",\"colorway\":[\"#636efa\",\"#EF553B\",\"#00cc96\",\"#ab63fa\",\"#FFA15A\",\"#19d3f3\",\"#FF6692\",\"#B6E880\",\"#FF97FF\",\"#FECB52\"],\"font\":{\"color\":\"#2a3f5f\"},\"hovermode\":\"closest\",\"hoverlabel\":{\"align\":\"left\"},\"paper_bgcolor\":\"white\",\"plot_bgcolor\":\"#E5ECF6\",\"polar\":{\"bgcolor\":\"#E5ECF6\",\"angularaxis\":{\"gridcolor\":\"white\",\"linecolor\":\"white\",\"ticks\":\"\"},\"radialaxis\":{\"gridcolor\":\"white\",\"linecolor\":\"white\",\"ticks\":\"\"}},\"ternary\":{\"bgcolor\":\"#E5ECF6\",\"aaxis\":{\"gridcolor\":\"white\",\"linecolor\":\"white\",\"ticks\":\"\"},\"baxis\":{\"gridcolor\":\"white\",\"linecolor\":\"white\",\"ticks\":\"\"},\"caxis\":{\"gridcolor\":\"white\",\"linecolor\":\"white\",\"ticks\":\"\"}},\"coloraxis\":{\"colorbar\":{\"outlinewidth\":0,\"ticks\":\"\"}},\"colorscale\":{\"sequential\":[[0.0,\"#0d0887\"],[0.1111111111111111,\"#46039f\"],[0.2222222222222222,\"#7201a8\"],[0.3333333333333333,\"#9c179e\"],[0.4444444444444444,\"#bd3786\"],[0.5555555555555556,\"#d8576b\"],[0.6666666666666666,\"#ed7953\"],[0.7777777777777778,\"#fb9f3a\"],[0.8888888888888888,\"#fdca26\"],[1.0,\"#f0f921\"]],\"sequentialminus\":[[0.0,\"#0d0887\"],[0.1111111111111111,\"#46039f\"],[0.2222222222222222,\"#7201a8\"],[0.3333333333333333,\"#9c179e\"],[0.4444444444444444,\"#bd3786\"],[0.5555555555555556,\"#d8576b\"],[0.6666666666666666,\"#ed7953\"],[0.7777777777777778,\"#fb9f3a\"],[0.8888888888888888,\"#fdca26\"],[1.0,\"#f0f921\"]],\"diverging\":[[0,\"#8e0152\"],[0.1,\"#c51b7d\"],[0.2,\"#de77ae\"],[0.3,\"#f1b6da\"],[0.4,\"#fde0ef\"],[0.5,\"#f7f7f7\"],[0.6,\"#e6f5d0\"],[0.7,\"#b8e186\"],[0.8,\"#7fbc41\"],[0.9,\"#4d9221\"],[1,\"#276419\"]]},\"xaxis\":{\"gridcolor\":\"white\",\"linecolor\":\"white\",\"ticks\":\"\",\"title\":{\"standoff\":15},\"zerolinecolor\":\"white\",\"automargin\":true,\"zerolinewidth\":2},\"yaxis\":{\"gridcolor\":\"white\",\"linecolor\":\"white\",\"ticks\":\"\",\"title\":{\"standoff\":15},\"zerolinecolor\":\"white\",\"automargin\":true,\"zerolinewidth\":2},\"scene\":{\"xaxis\":{\"backgroundcolor\":\"#E5ECF6\",\"gridcolor\":\"white\",\"linecolor\":\"white\",\"showbackground\":true,\"ticks\":\"\",\"zerolinecolor\":\"white\",\"gridwidth\":2},\"yaxis\":{\"backgroundcolor\":\"#E5ECF6\",\"gridcolor\":\"white\",\"linecolor\":\"white\",\"showbackground\":true,\"ticks\":\"\",\"zerolinecolor\":\"white\",\"gridwidth\":2},\"zaxis\":{\"backgroundcolor\":\"#E5ECF6\",\"gridcolor\":\"white\",\"linecolor\":\"white\",\"showbackground\":true,\"ticks\":\"\",\"zerolinecolor\":\"white\",\"gridwidth\":2}},\"shapedefaults\":{\"line\":{\"color\":\"#2a3f5f\"}},\"annotationdefaults\":{\"arrowcolor\":\"#2a3f5f\",\"arrowhead\":0,\"arrowwidth\":1},\"geo\":{\"bgcolor\":\"white\",\"landcolor\":\"#E5ECF6\",\"subunitcolor\":\"white\",\"showland\":true,\"showlakes\":true,\"lakecolor\":\"white\"},\"title\":{\"x\":0.05},\"mapbox\":{\"style\":\"light\"}}},\"legend\":{\"tracegroupgap\":0},\"title\":{\"text\":\"2023 GDP Sunburst Chart by Group and Country\"}},                        {\"responsive\": true}                    ).then(function(){\n",
              "                            \n",
              "var gd = document.getElementById('ef8cf687-3f63-4fd2-a93b-2b95ad2b6823');\n",
              "var x = new MutationObserver(function (mutations, observer) {{\n",
              "        var display = window.getComputedStyle(gd).display;\n",
              "        if (!display || display === 'none') {{\n",
              "            console.log([gd, 'removed!']);\n",
              "            Plotly.purge(gd);\n",
              "            observer.disconnect();\n",
              "        }}\n",
              "}});\n",
              "\n",
              "// Listen for the removal of the full notebook cells\n",
              "var notebookContainer = gd.closest('#notebook-container');\n",
              "if (notebookContainer) {{\n",
              "    x.observe(notebookContainer, {childList: true});\n",
              "}}\n",
              "\n",
              "// Listen for the clearing of the current output cell\n",
              "var outputEl = gd.closest('.output');\n",
              "if (outputEl) {{\n",
              "    x.observe(outputEl, {childList: true});\n",
              "}}\n",
              "\n",
              "                        })                };                            </script>        </div>\n",
              "</body>\n",
              "</html>"
            ]
          },
          "metadata": {}
        }
      ]
    },
    {
      "cell_type": "markdown",
      "source": [
        "## Step 12 - Plot the 2023 GDP Tree Map Chart\n",
        "\n",
        "Showing the hierarchy of Group and Country."
      ],
      "metadata": {
        "id": "uam6Xxl57Mmt"
      }
    },
    {
      "cell_type": "code",
      "source": [
        "\n",
        "\n",
        "gdp_2023_groups = df[(df['Year'] == 2023)]\n",
        "\n",
        "gdp_2023_groups = gdp_2023_groups[['Group', 'Country Name', 'GDP ($Billions)']]\n",
        "\n",
        "fig = px.treemap(\n",
        "    gdp_2023_groups,\n",
        "    path=['Group', 'Country Name'],\n",
        "    values='GDP ($Billions)',\n",
        "    title=\"2023 GDP Tree Map Chart by Group and Country\"\n",
        ")\n",
        "\n",
        "fig.show()"
      ],
      "metadata": {
        "id": "48zS7RxOx6c8",
        "outputId": "3b57cb7b-aa49-4ac5-9e03-33a45cd921ef",
        "colab": {
          "base_uri": "https://localhost:8080/",
          "height": 562
        }
      },
      "execution_count": 15,
      "outputs": [
        {
          "output_type": "display_data",
          "data": {
            "text/html": [
              "<html>\n",
              "<head><meta charset=\"utf-8\" /></head>\n",
              "<body>\n",
              "    <div>            <script src=\"https://cdnjs.cloudflare.com/ajax/libs/mathjax/2.7.5/MathJax.js?config=TeX-AMS-MML_SVG\"></script><script type=\"text/javascript\">if (window.MathJax && window.MathJax.Hub && window.MathJax.Hub.Config) {window.MathJax.Hub.Config({SVG: {font: \"STIX-Web\"}});}</script>                <script type=\"text/javascript\">window.PlotlyConfig = {MathJaxConfig: 'local'};</script>\n",
              "        <script charset=\"utf-8\" src=\"https://cdn.plot.ly/plotly-2.35.2.min.js\"></script>                <div id=\"2145dd8a-4e8c-489c-b746-f328928df90c\" class=\"plotly-graph-div\" style=\"height:525px; width:100%;\"></div>            <script type=\"text/javascript\">                                    window.PLOTLYENV=window.PLOTLYENV || {};                                    if (document.getElementById(\"2145dd8a-4e8c-489c-b746-f328928df90c\")) {                    Plotly.newPlot(                        \"2145dd8a-4e8c-489c-b746-f328928df90c\",                        [{\"branchvalues\":\"total\",\"domain\":{\"x\":[0.0,1.0],\"y\":[0.0,1.0]},\"hovertemplate\":\"labels=%{label}\\u003cbr\\u003eGDP ($Billions)=%{value}\\u003cbr\\u003eparent=%{parent}\\u003cbr\\u003eid=%{id}\\u003cextra\\u003e\\u003c\\u002fextra\\u003e\",\"ids\":[\"REST of WORLD\\u002fAfghanistan\",\"REST of WORLD\\u002fAlbania\",\"REST of WORLD\\u002fAlgeria\",\"REST of WORLD\\u002fAmerican Samoa\",\"REST of WORLD\\u002fAndorra\",\"REST of WORLD\\u002fAngola\",\"REST of WORLD\\u002fAntigua and Barbuda\",\"REST of WORLD\\u002fArgentina\",\"REST of WORLD\\u002fArmenia\",\"REST of WORLD\\u002fAruba\",\"REST of WORLD\\u002fAustralia\",\"REST of WORLD\\u002fAustria\",\"REST of WORLD\\u002fAzerbaijan\",\"REST of WORLD\\u002fBahamas, The\",\"REST of WORLD\\u002fBahrain\",\"REST of WORLD\\u002fBangladesh\",\"REST of WORLD\\u002fBarbados\",\"REST of WORLD\\u002fBelarus\",\"REST of WORLD\\u002fBelgium\",\"REST of WORLD\\u002fBelize\",\"REST of WORLD\\u002fBenin\",\"REST of WORLD\\u002fBermuda\",\"REST of WORLD\\u002fBhutan\",\"REST of WORLD\\u002fBolivia\",\"REST of WORLD\\u002fBosnia and Herzegovina\",\"REST of WORLD\\u002fBotswana\",\"BRICS\\u002fBrazil\",\"REST of WORLD\\u002fBritish Virgin Islands\",\"REST of WORLD\\u002fBrunei Darussalam\",\"REST of WORLD\\u002fBulgaria\",\"REST of WORLD\\u002fBurkina Faso\",\"REST of WORLD\\u002fBurundi\",\"REST of WORLD\\u002fCabo Verde\",\"REST of WORLD\\u002fCambodia\",\"REST of WORLD\\u002fCameroon\",\"G7\\u002fCanada\",\"REST of WORLD\\u002fCayman Islands\",\"REST of WORLD\\u002fCentral African Republic\",\"REST of WORLD\\u002fChad\",\"REST of WORLD\\u002fChannel Islands\",\"REST of WORLD\\u002fChile\",\"BRICS\\u002fChina\",\"REST of WORLD\\u002fColombia\",\"REST of WORLD\\u002fComoros\",\"REST of WORLD\\u002fCongo, Dem. Rep.\",\"REST of WORLD\\u002fCongo, Rep.\",\"REST of WORLD\\u002fCosta Rica\",\"REST of WORLD\\u002fCote d'Ivoire\",\"REST of WORLD\\u002fCroatia\",\"REST of WORLD\\u002fCuba\",\"REST of WORLD\\u002fCuracao\",\"REST of WORLD\\u002fCyprus\",\"REST of WORLD\\u002fCzechia\",\"REST of WORLD\\u002fDenmark\",\"REST of WORLD\\u002fDjibouti\",\"REST of WORLD\\u002fDominica\",\"REST of WORLD\\u002fDominican Republic\",\"REST of WORLD\\u002fEcuador\",\"REST of WORLD\\u002fEgypt, Arab Rep.\",\"REST of WORLD\\u002fEl Salvador\",\"REST of WORLD\\u002fEquatorial Guinea\",\"REST of WORLD\\u002fEritrea\",\"REST of WORLD\\u002fEstonia\",\"REST of WORLD\\u002fEswatini\",\"REST of WORLD\\u002fEthiopia\",\"REST of WORLD\\u002fFaroe Islands\",\"REST of WORLD\\u002fFiji\",\"REST of WORLD\\u002fFinland\",\"G7\\u002fFrance\",\"REST of WORLD\\u002fFrench Polynesia\",\"REST of WORLD\\u002fGabon\",\"REST of WORLD\\u002fGambia, The\",\"REST of WORLD\\u002fGeorgia\",\"G7\\u002fGermany\",\"REST of WORLD\\u002fGhana\",\"REST of WORLD\\u002fGibraltar\",\"REST of WORLD\\u002fGreece\",\"REST of WORLD\\u002fGreenland\",\"REST of WORLD\\u002fGrenada\",\"REST of WORLD\\u002fGuam\",\"REST of WORLD\\u002fGuatemala\",\"REST of WORLD\\u002fGuinea\",\"REST of WORLD\\u002fGuinea-Bissau\",\"REST of WORLD\\u002fGuyana\",\"REST of WORLD\\u002fHaiti\",\"REST of WORLD\\u002fHonduras\",\"REST of WORLD\\u002fHong Kong SAR, China\",\"REST of WORLD\\u002fHungary\",\"REST of WORLD\\u002fIceland\",\"BRICS\\u002fIndia\",\"REST of WORLD\\u002fIndonesia\",\"REST of WORLD\\u002fIran, Islamic Rep.\",\"REST of WORLD\\u002fIraq\",\"REST of WORLD\\u002fIreland\",\"REST of WORLD\\u002fIsle of Man\",\"REST of WORLD\\u002fIsrael\",\"G7\\u002fItaly\",\"REST of WORLD\\u002fJamaica\",\"G7\\u002fJapan\",\"REST of WORLD\\u002fJordan\",\"REST of WORLD\\u002fKazakhstan\",\"REST of WORLD\\u002fKenya\",\"REST of WORLD\\u002fKiribati\",\"REST of WORLD\\u002fKorea, Dem. People's Rep.\",\"REST of WORLD\\u002fKorea, Rep.\",\"REST of WORLD\\u002fKosovo\",\"REST of WORLD\\u002fKuwait\",\"REST of WORLD\\u002fKyrgyz Republic\",\"REST of WORLD\\u002fLao PDR\",\"REST of WORLD\\u002fLatvia\",\"REST of WORLD\\u002fLebanon\",\"REST of WORLD\\u002fLesotho\",\"REST of WORLD\\u002fLiberia\",\"REST of WORLD\\u002fLibya\",\"REST of WORLD\\u002fLiechtenstein\",\"REST of WORLD\\u002fLithuania\",\"REST of WORLD\\u002fLuxembourg\",\"REST of WORLD\\u002fMacao SAR, China\",\"REST of WORLD\\u002fMadagascar\",\"REST of WORLD\\u002fMalawi\",\"REST of WORLD\\u002fMalaysia\",\"REST of WORLD\\u002fMaldives\",\"REST of WORLD\\u002fMali\",\"REST of WORLD\\u002fMalta\",\"REST of WORLD\\u002fMarshall Islands\",\"REST of WORLD\\u002fMauritania\",\"REST of WORLD\\u002fMauritius\",\"REST of WORLD\\u002fMexico\",\"REST of WORLD\\u002fMicronesia, Fed. Sts.\",\"REST of WORLD\\u002fMoldova\",\"REST of WORLD\\u002fMonaco\",\"REST of WORLD\\u002fMongolia\",\"REST of WORLD\\u002fMontenegro\",\"REST of WORLD\\u002fMorocco\",\"REST of WORLD\\u002fMozambique\",\"REST of WORLD\\u002fMyanmar\",\"REST of WORLD\\u002fNamibia\",\"REST of WORLD\\u002fNauru\",\"REST of WORLD\\u002fNepal\",\"REST of WORLD\\u002fNetherlands\",\"REST of WORLD\\u002fNew Caledonia\",\"REST of WORLD\\u002fNew Zealand\",\"REST of WORLD\\u002fNicaragua\",\"REST of WORLD\\u002fNiger\",\"REST of WORLD\\u002fNigeria\",\"REST of WORLD\\u002fNorth Macedonia\",\"REST of WORLD\\u002fNorthern Mariana Islands\",\"REST of WORLD\\u002fNorway\",\"REST of WORLD\\u002fOman\",\"REST of WORLD\\u002fPakistan\",\"REST of WORLD\\u002fPalau\",\"REST of WORLD\\u002fPanama\",\"REST of WORLD\\u002fPapua New Guinea\",\"REST of WORLD\\u002fParaguay\",\"REST of WORLD\\u002fPeru\",\"REST of WORLD\\u002fPhilippines\",\"REST of WORLD\\u002fPoland\",\"REST of WORLD\\u002fPortugal\",\"REST of WORLD\\u002fPuerto Rico\",\"REST of WORLD\\u002fQatar\",\"REST of WORLD\\u002fRomania\",\"REST of WORLD\\u002fRussian Federation\",\"REST of WORLD\\u002fRwanda\",\"REST of WORLD\\u002fSamoa\",\"REST of WORLD\\u002fSan Marino\",\"REST of WORLD\\u002fSao Tome and Principe\",\"REST of WORLD\\u002fSaudi Arabia\",\"REST of WORLD\\u002fSenegal\",\"REST of WORLD\\u002fSerbia\",\"REST of WORLD\\u002fSeychelles\",\"REST of WORLD\\u002fSierra Leone\",\"REST of WORLD\\u002fSingapore\",\"REST of WORLD\\u002fSint Maarten (Dutch part)\",\"REST of WORLD\\u002fSlovak Republic\",\"REST of WORLD\\u002fSlovenia\",\"REST of WORLD\\u002fSolomon Islands\",\"REST of WORLD\\u002fSomalia\",\"BRICS\\u002fSouth Africa\",\"REST of WORLD\\u002fSouth Sudan\",\"REST of WORLD\\u002fSpain\",\"REST of WORLD\\u002fSri Lanka\",\"REST of WORLD\\u002fSt. Kitts and Nevis\",\"REST of WORLD\\u002fSt. Lucia\",\"REST of WORLD\\u002fSt. Martin (French part)\",\"REST of WORLD\\u002fSt. Vincent and the Grenadines\",\"REST of WORLD\\u002fSudan\",\"REST of WORLD\\u002fSuriname\",\"REST of WORLD\\u002fSweden\",\"REST of WORLD\\u002fSwitzerland\",\"REST of WORLD\\u002fSyrian Arab Republic\",\"REST of WORLD\\u002fTajikistan\",\"REST of WORLD\\u002fTanzania\",\"REST of WORLD\\u002fThailand\",\"REST of WORLD\\u002fTimor-Leste\",\"REST of WORLD\\u002fTogo\",\"REST of WORLD\\u002fTonga\",\"REST of WORLD\\u002fTrinidad and Tobago\",\"REST of WORLD\\u002fTunisia\",\"REST of WORLD\\u002fTurkiye\",\"REST of WORLD\\u002fTurkmenistan\",\"REST of WORLD\\u002fTurks and Caicos Islands\",\"REST of WORLD\\u002fTuvalu\",\"REST of WORLD\\u002fUganda\",\"REST of WORLD\\u002fUkraine\",\"REST of WORLD\\u002fUnited Arab Emirates\",\"G7\\u002fUnited Kingdom\",\"G7\\u002fUnited States\",\"REST of WORLD\\u002fUruguay\",\"REST of WORLD\\u002fUzbekistan\",\"REST of WORLD\\u002fVanuatu\",\"REST of WORLD\\u002fVenezuela, RB\",\"REST of WORLD\\u002fViet Nam\",\"REST of WORLD\\u002fVirgin Islands (U.S.)\",\"REST of WORLD\\u002fWest Bank and Gaza\",\"REST of WORLD\\u002fYemen, Rep.\",\"REST of WORLD\\u002fZambia\",\"REST of WORLD\\u002fZimbabwe\",\"BRICS\",\"G7\",\"REST of WORLD\"],\"labels\":[\"Afghanistan\",\"Albania\",\"Algeria\",\"American Samoa\",\"Andorra\",\"Angola\",\"Antigua and Barbuda\",\"Argentina\",\"Armenia\",\"Aruba\",\"Australia\",\"Austria\",\"Azerbaijan\",\"Bahamas, The\",\"Bahrain\",\"Bangladesh\",\"Barbados\",\"Belarus\",\"Belgium\",\"Belize\",\"Benin\",\"Bermuda\",\"Bhutan\",\"Bolivia\",\"Bosnia and Herzegovina\",\"Botswana\",\"Brazil\",\"British Virgin Islands\",\"Brunei Darussalam\",\"Bulgaria\",\"Burkina Faso\",\"Burundi\",\"Cabo Verde\",\"Cambodia\",\"Cameroon\",\"Canada\",\"Cayman Islands\",\"Central African Republic\",\"Chad\",\"Channel Islands\",\"Chile\",\"China\",\"Colombia\",\"Comoros\",\"Congo, Dem. Rep.\",\"Congo, Rep.\",\"Costa Rica\",\"Cote d'Ivoire\",\"Croatia\",\"Cuba\",\"Curacao\",\"Cyprus\",\"Czechia\",\"Denmark\",\"Djibouti\",\"Dominica\",\"Dominican Republic\",\"Ecuador\",\"Egypt, Arab Rep.\",\"El Salvador\",\"Equatorial Guinea\",\"Eritrea\",\"Estonia\",\"Eswatini\",\"Ethiopia\",\"Faroe Islands\",\"Fiji\",\"Finland\",\"France\",\"French Polynesia\",\"Gabon\",\"Gambia, The\",\"Georgia\",\"Germany\",\"Ghana\",\"Gibraltar\",\"Greece\",\"Greenland\",\"Grenada\",\"Guam\",\"Guatemala\",\"Guinea\",\"Guinea-Bissau\",\"Guyana\",\"Haiti\",\"Honduras\",\"Hong Kong SAR, China\",\"Hungary\",\"Iceland\",\"India\",\"Indonesia\",\"Iran, Islamic Rep.\",\"Iraq\",\"Ireland\",\"Isle of Man\",\"Israel\",\"Italy\",\"Jamaica\",\"Japan\",\"Jordan\",\"Kazakhstan\",\"Kenya\",\"Kiribati\",\"Korea, Dem. People's Rep.\",\"Korea, Rep.\",\"Kosovo\",\"Kuwait\",\"Kyrgyz Republic\",\"Lao PDR\",\"Latvia\",\"Lebanon\",\"Lesotho\",\"Liberia\",\"Libya\",\"Liechtenstein\",\"Lithuania\",\"Luxembourg\",\"Macao SAR, China\",\"Madagascar\",\"Malawi\",\"Malaysia\",\"Maldives\",\"Mali\",\"Malta\",\"Marshall Islands\",\"Mauritania\",\"Mauritius\",\"Mexico\",\"Micronesia, Fed. Sts.\",\"Moldova\",\"Monaco\",\"Mongolia\",\"Montenegro\",\"Morocco\",\"Mozambique\",\"Myanmar\",\"Namibia\",\"Nauru\",\"Nepal\",\"Netherlands\",\"New Caledonia\",\"New Zealand\",\"Nicaragua\",\"Niger\",\"Nigeria\",\"North Macedonia\",\"Northern Mariana Islands\",\"Norway\",\"Oman\",\"Pakistan\",\"Palau\",\"Panama\",\"Papua New Guinea\",\"Paraguay\",\"Peru\",\"Philippines\",\"Poland\",\"Portugal\",\"Puerto Rico\",\"Qatar\",\"Romania\",\"Russian Federation\",\"Rwanda\",\"Samoa\",\"San Marino\",\"Sao Tome and Principe\",\"Saudi Arabia\",\"Senegal\",\"Serbia\",\"Seychelles\",\"Sierra Leone\",\"Singapore\",\"Sint Maarten (Dutch part)\",\"Slovak Republic\",\"Slovenia\",\"Solomon Islands\",\"Somalia\",\"South Africa\",\"South Sudan\",\"Spain\",\"Sri Lanka\",\"St. Kitts and Nevis\",\"St. Lucia\",\"St. Martin (French part)\",\"St. Vincent and the Grenadines\",\"Sudan\",\"Suriname\",\"Sweden\",\"Switzerland\",\"Syrian Arab Republic\",\"Tajikistan\",\"Tanzania\",\"Thailand\",\"Timor-Leste\",\"Togo\",\"Tonga\",\"Trinidad and Tobago\",\"Tunisia\",\"Turkiye\",\"Turkmenistan\",\"Turks and Caicos Islands\",\"Tuvalu\",\"Uganda\",\"Ukraine\",\"United Arab Emirates\",\"United Kingdom\",\"United States\",\"Uruguay\",\"Uzbekistan\",\"Vanuatu\",\"Venezuela, RB\",\"Viet Nam\",\"Virgin Islands (U.S.)\",\"West Bank and Gaza\",\"Yemen, Rep.\",\"Zambia\",\"Zimbabwe\",\"BRICS\",\"G7\",\"REST of WORLD\"],\"name\":\"\",\"parents\":[\"REST of WORLD\",\"REST of WORLD\",\"REST of WORLD\",\"REST of WORLD\",\"REST of WORLD\",\"REST of WORLD\",\"REST of WORLD\",\"REST of WORLD\",\"REST of WORLD\",\"REST of WORLD\",\"REST of WORLD\",\"REST of WORLD\",\"REST of WORLD\",\"REST of WORLD\",\"REST of WORLD\",\"REST of WORLD\",\"REST of WORLD\",\"REST of WORLD\",\"REST of WORLD\",\"REST of WORLD\",\"REST of WORLD\",\"REST of WORLD\",\"REST of WORLD\",\"REST of WORLD\",\"REST of WORLD\",\"REST of WORLD\",\"BRICS\",\"REST of WORLD\",\"REST of WORLD\",\"REST of WORLD\",\"REST of WORLD\",\"REST of WORLD\",\"REST of WORLD\",\"REST of WORLD\",\"REST of WORLD\",\"G7\",\"REST of WORLD\",\"REST of WORLD\",\"REST of WORLD\",\"REST of WORLD\",\"REST of WORLD\",\"BRICS\",\"REST of WORLD\",\"REST of WORLD\",\"REST of WORLD\",\"REST of WORLD\",\"REST of WORLD\",\"REST of WORLD\",\"REST of WORLD\",\"REST of WORLD\",\"REST of WORLD\",\"REST of WORLD\",\"REST of WORLD\",\"REST of WORLD\",\"REST of WORLD\",\"REST of WORLD\",\"REST of WORLD\",\"REST of WORLD\",\"REST of WORLD\",\"REST of WORLD\",\"REST of WORLD\",\"REST of WORLD\",\"REST of WORLD\",\"REST of WORLD\",\"REST of WORLD\",\"REST of WORLD\",\"REST of WORLD\",\"REST of WORLD\",\"G7\",\"REST of WORLD\",\"REST of WORLD\",\"REST of WORLD\",\"REST of WORLD\",\"G7\",\"REST of WORLD\",\"REST of WORLD\",\"REST of WORLD\",\"REST of WORLD\",\"REST of WORLD\",\"REST of WORLD\",\"REST of WORLD\",\"REST of WORLD\",\"REST of WORLD\",\"REST of WORLD\",\"REST of WORLD\",\"REST of WORLD\",\"REST of WORLD\",\"REST of WORLD\",\"REST of WORLD\",\"BRICS\",\"REST of WORLD\",\"REST of WORLD\",\"REST of WORLD\",\"REST of WORLD\",\"REST of WORLD\",\"REST of WORLD\",\"G7\",\"REST of WORLD\",\"G7\",\"REST of WORLD\",\"REST of WORLD\",\"REST of WORLD\",\"REST of WORLD\",\"REST of WORLD\",\"REST of WORLD\",\"REST of WORLD\",\"REST of WORLD\",\"REST of WORLD\",\"REST of WORLD\",\"REST of WORLD\",\"REST of WORLD\",\"REST of WORLD\",\"REST of WORLD\",\"REST of WORLD\",\"REST of WORLD\",\"REST of WORLD\",\"REST of WORLD\",\"REST of WORLD\",\"REST of WORLD\",\"REST of WORLD\",\"REST of WORLD\",\"REST of WORLD\",\"REST of WORLD\",\"REST of WORLD\",\"REST of WORLD\",\"REST of WORLD\",\"REST of WORLD\",\"REST of WORLD\",\"REST of WORLD\",\"REST of WORLD\",\"REST of WORLD\",\"REST of WORLD\",\"REST of WORLD\",\"REST of WORLD\",\"REST of WORLD\",\"REST of WORLD\",\"REST of WORLD\",\"REST of WORLD\",\"REST of WORLD\",\"REST of WORLD\",\"REST of WORLD\",\"REST of WORLD\",\"REST of WORLD\",\"REST of WORLD\",\"REST of WORLD\",\"REST of WORLD\",\"REST of WORLD\",\"REST of WORLD\",\"REST of WORLD\",\"REST of WORLD\",\"REST of WORLD\",\"REST of WORLD\",\"REST of WORLD\",\"REST of WORLD\",\"REST of WORLD\",\"REST of WORLD\",\"REST of WORLD\",\"REST of WORLD\",\"REST of WORLD\",\"REST of WORLD\",\"REST of WORLD\",\"REST of WORLD\",\"REST of WORLD\",\"REST of WORLD\",\"REST of WORLD\",\"REST of WORLD\",\"REST of WORLD\",\"REST of WORLD\",\"REST of WORLD\",\"REST of WORLD\",\"REST of WORLD\",\"REST of WORLD\",\"REST of WORLD\",\"REST of WORLD\",\"REST of WORLD\",\"REST of WORLD\",\"REST of WORLD\",\"BRICS\",\"REST of WORLD\",\"REST of WORLD\",\"REST of WORLD\",\"REST of WORLD\",\"REST of WORLD\",\"REST of WORLD\",\"REST of WORLD\",\"REST of WORLD\",\"REST of WORLD\",\"REST of WORLD\",\"REST of WORLD\",\"REST of WORLD\",\"REST of WORLD\",\"REST of WORLD\",\"REST of WORLD\",\"REST of WORLD\",\"REST of WORLD\",\"REST of WORLD\",\"REST of WORLD\",\"REST of WORLD\",\"REST of WORLD\",\"REST of WORLD\",\"REST of WORLD\",\"REST of WORLD\",\"REST of WORLD\",\"REST of WORLD\",\"REST of WORLD\",\"G7\",\"G7\",\"REST of WORLD\",\"REST of WORLD\",\"REST of WORLD\",\"REST of WORLD\",\"REST of WORLD\",\"REST of WORLD\",\"REST of WORLD\",\"REST of WORLD\",\"REST of WORLD\",\"REST of WORLD\",\"\",\"\",\"\"],\"values\":[0.0,22.9776778607979,239.899491127742,0.0,3.72767359301922,84.7229576423757,2.03308518518518,640.591410663883,24.212134631064,0.0,1723.82721533471,516.03414411595,72.3561764705882,14.3385,43.205,437.415331040994,6.39356418961345,71.8573827456066,632.2165770751091,3.2815,19.6732846860023,0.0,0.0,45.8498329064139,27.0548893628852,19.3957651263127,2173.66565593727,0.0,15.1282929535098,101.584384672786,20.3246178389676,2.64216166892754,2.5872520763056,31.7727599988571,47.9455100900529,2140.08556779145,0.0,2.5554920852483103,13.1493253587383,0.0,335.53333166921897,17794.7819861045,363.540156234868,1.35238097215662,66.38328700299691,15.3210558183263,86.4979414390174,78.7888289068634,82.68884271739259,0.0,0.0,32.2296226691951,330.858339871686,404.198757537974,4.09853051355777,0.6539925925925929,121.444279313931,118.844826,395.926075163006,34.01562,12.1169225394112,0.0,40.744848827953696,4.59785584504276,163.697927593982,0.0,5.49479754073365,300.187202696084,3030.9040896079,0.0,20.5161343886608,2.33990415679214,30.5355304790227,4456.08101670596,76.3703944124163,0.0,238.206312632528,0.0,1.32033423558897,0.0,102.050473863636,23.6122958180961,1.96646140035833,16.7863021582734,19.8508297577471,34.400509852043605,382.054574298529,212.388906458724,31.0200325831972,3549.9189187775296,1371.17115233116,401.5045147187181,250.842782139464,545.629450403735,0.0,509.90149570210303,2254.8512127318,19.423355367237203,4212.9451597814,50.8136423486746,261.421121085572,107.440575838048,0.279034355108421,0.0,1712.79285420237,10.4383514831677,161.772221950942,13.9876279088381,15.8431557312552,43.627078481287,0.0,2.04603902445854,4.332,50.4917224457773,0.0,77.836396962772,85.7550061235976,47.0618437158565,16.0317029149195,14.0843410623675,399.648828546504,6.6,20.9048982962501,20.956999452431702,0.284,10.4525770627581,14.3971272813829,1788.8868210468102,0.46,16.539436547295,0.0,19.8721803696275,7.404541964507789,141.109373209414,20.6245978465495,64.8150316690952,12.3510248437467,0.154127798193541,40.9080733668455,1118.12474988629,0.0,253.465703232146,17.8292152837997,16.8191704205653,362.814951696073,14.7612370422057,0.0,485.51331650363,108.192457737321,338.368455317876,0.263020733717011,83.3824,30.932496249791697,42.9562635439482,267.60324865525297,437.146372729942,811.2291006875661,287.080013574497,117.9023,0.0,351.00257962967,2021.42147603542,14.0977686476695,0.934100336275654,0.0,0.603240748954207,1067.58293333333,31.0139864291861,75.18712542673751,2.14145017113932,3.80983223695959,501.427500080059,1.62316568312849,132.793622283071,68.2167814105228,1.63128670111516,11.6798001101523,377.781600985873,0.0,1580.69471251571,84.35686042113001,1.07703311111111,2.51992593852447,0.0,1.06596296296296,109.327023588732,3.78243729604323,593.267701033408,884.9404022304091,0.0,12.0606020088478,79.158286333524,514.944993833578,2.2431429084616097,9.17126183506264,0.0,28.1399447902911,48.5295954166533,1108.02237325951,59.8873348440651,1.40205439094734,0.0622803115852172,49.272882213623,178.757021386809,504.173451327434,3340.03238066804,27360.935,77.24083158716701,90.8891493067313,1.12631335921923,0.0,429.716969049593,0.0,17.3963,0.0,28.162630953928502,26.5382734988461,23896.148161805173,46795.83442728655,33049.76379033401],\"type\":\"treemap\"}],                        {\"template\":{\"data\":{\"histogram2dcontour\":[{\"type\":\"histogram2dcontour\",\"colorbar\":{\"outlinewidth\":0,\"ticks\":\"\"},\"colorscale\":[[0.0,\"#0d0887\"],[0.1111111111111111,\"#46039f\"],[0.2222222222222222,\"#7201a8\"],[0.3333333333333333,\"#9c179e\"],[0.4444444444444444,\"#bd3786\"],[0.5555555555555556,\"#d8576b\"],[0.6666666666666666,\"#ed7953\"],[0.7777777777777778,\"#fb9f3a\"],[0.8888888888888888,\"#fdca26\"],[1.0,\"#f0f921\"]]}],\"choropleth\":[{\"type\":\"choropleth\",\"colorbar\":{\"outlinewidth\":0,\"ticks\":\"\"}}],\"histogram2d\":[{\"type\":\"histogram2d\",\"colorbar\":{\"outlinewidth\":0,\"ticks\":\"\"},\"colorscale\":[[0.0,\"#0d0887\"],[0.1111111111111111,\"#46039f\"],[0.2222222222222222,\"#7201a8\"],[0.3333333333333333,\"#9c179e\"],[0.4444444444444444,\"#bd3786\"],[0.5555555555555556,\"#d8576b\"],[0.6666666666666666,\"#ed7953\"],[0.7777777777777778,\"#fb9f3a\"],[0.8888888888888888,\"#fdca26\"],[1.0,\"#f0f921\"]]}],\"heatmap\":[{\"type\":\"heatmap\",\"colorbar\":{\"outlinewidth\":0,\"ticks\":\"\"},\"colorscale\":[[0.0,\"#0d0887\"],[0.1111111111111111,\"#46039f\"],[0.2222222222222222,\"#7201a8\"],[0.3333333333333333,\"#9c179e\"],[0.4444444444444444,\"#bd3786\"],[0.5555555555555556,\"#d8576b\"],[0.6666666666666666,\"#ed7953\"],[0.7777777777777778,\"#fb9f3a\"],[0.8888888888888888,\"#fdca26\"],[1.0,\"#f0f921\"]]}],\"heatmapgl\":[{\"type\":\"heatmapgl\",\"colorbar\":{\"outlinewidth\":0,\"ticks\":\"\"},\"colorscale\":[[0.0,\"#0d0887\"],[0.1111111111111111,\"#46039f\"],[0.2222222222222222,\"#7201a8\"],[0.3333333333333333,\"#9c179e\"],[0.4444444444444444,\"#bd3786\"],[0.5555555555555556,\"#d8576b\"],[0.6666666666666666,\"#ed7953\"],[0.7777777777777778,\"#fb9f3a\"],[0.8888888888888888,\"#fdca26\"],[1.0,\"#f0f921\"]]}],\"contourcarpet\":[{\"type\":\"contourcarpet\",\"colorbar\":{\"outlinewidth\":0,\"ticks\":\"\"}}],\"contour\":[{\"type\":\"contour\",\"colorbar\":{\"outlinewidth\":0,\"ticks\":\"\"},\"colorscale\":[[0.0,\"#0d0887\"],[0.1111111111111111,\"#46039f\"],[0.2222222222222222,\"#7201a8\"],[0.3333333333333333,\"#9c179e\"],[0.4444444444444444,\"#bd3786\"],[0.5555555555555556,\"#d8576b\"],[0.6666666666666666,\"#ed7953\"],[0.7777777777777778,\"#fb9f3a\"],[0.8888888888888888,\"#fdca26\"],[1.0,\"#f0f921\"]]}],\"surface\":[{\"type\":\"surface\",\"colorbar\":{\"outlinewidth\":0,\"ticks\":\"\"},\"colorscale\":[[0.0,\"#0d0887\"],[0.1111111111111111,\"#46039f\"],[0.2222222222222222,\"#7201a8\"],[0.3333333333333333,\"#9c179e\"],[0.4444444444444444,\"#bd3786\"],[0.5555555555555556,\"#d8576b\"],[0.6666666666666666,\"#ed7953\"],[0.7777777777777778,\"#fb9f3a\"],[0.8888888888888888,\"#fdca26\"],[1.0,\"#f0f921\"]]}],\"mesh3d\":[{\"type\":\"mesh3d\",\"colorbar\":{\"outlinewidth\":0,\"ticks\":\"\"}}],\"scatter\":[{\"fillpattern\":{\"fillmode\":\"overlay\",\"size\":10,\"solidity\":0.2},\"type\":\"scatter\"}],\"parcoords\":[{\"type\":\"parcoords\",\"line\":{\"colorbar\":{\"outlinewidth\":0,\"ticks\":\"\"}}}],\"scatterpolargl\":[{\"type\":\"scatterpolargl\",\"marker\":{\"colorbar\":{\"outlinewidth\":0,\"ticks\":\"\"}}}],\"bar\":[{\"error_x\":{\"color\":\"#2a3f5f\"},\"error_y\":{\"color\":\"#2a3f5f\"},\"marker\":{\"line\":{\"color\":\"#E5ECF6\",\"width\":0.5},\"pattern\":{\"fillmode\":\"overlay\",\"size\":10,\"solidity\":0.2}},\"type\":\"bar\"}],\"scattergeo\":[{\"type\":\"scattergeo\",\"marker\":{\"colorbar\":{\"outlinewidth\":0,\"ticks\":\"\"}}}],\"scatterpolar\":[{\"type\":\"scatterpolar\",\"marker\":{\"colorbar\":{\"outlinewidth\":0,\"ticks\":\"\"}}}],\"histogram\":[{\"marker\":{\"pattern\":{\"fillmode\":\"overlay\",\"size\":10,\"solidity\":0.2}},\"type\":\"histogram\"}],\"scattergl\":[{\"type\":\"scattergl\",\"marker\":{\"colorbar\":{\"outlinewidth\":0,\"ticks\":\"\"}}}],\"scatter3d\":[{\"type\":\"scatter3d\",\"line\":{\"colorbar\":{\"outlinewidth\":0,\"ticks\":\"\"}},\"marker\":{\"colorbar\":{\"outlinewidth\":0,\"ticks\":\"\"}}}],\"scattermapbox\":[{\"type\":\"scattermapbox\",\"marker\":{\"colorbar\":{\"outlinewidth\":0,\"ticks\":\"\"}}}],\"scatterternary\":[{\"type\":\"scatterternary\",\"marker\":{\"colorbar\":{\"outlinewidth\":0,\"ticks\":\"\"}}}],\"scattercarpet\":[{\"type\":\"scattercarpet\",\"marker\":{\"colorbar\":{\"outlinewidth\":0,\"ticks\":\"\"}}}],\"carpet\":[{\"aaxis\":{\"endlinecolor\":\"#2a3f5f\",\"gridcolor\":\"white\",\"linecolor\":\"white\",\"minorgridcolor\":\"white\",\"startlinecolor\":\"#2a3f5f\"},\"baxis\":{\"endlinecolor\":\"#2a3f5f\",\"gridcolor\":\"white\",\"linecolor\":\"white\",\"minorgridcolor\":\"white\",\"startlinecolor\":\"#2a3f5f\"},\"type\":\"carpet\"}],\"table\":[{\"cells\":{\"fill\":{\"color\":\"#EBF0F8\"},\"line\":{\"color\":\"white\"}},\"header\":{\"fill\":{\"color\":\"#C8D4E3\"},\"line\":{\"color\":\"white\"}},\"type\":\"table\"}],\"barpolar\":[{\"marker\":{\"line\":{\"color\":\"#E5ECF6\",\"width\":0.5},\"pattern\":{\"fillmode\":\"overlay\",\"size\":10,\"solidity\":0.2}},\"type\":\"barpolar\"}],\"pie\":[{\"automargin\":true,\"type\":\"pie\"}]},\"layout\":{\"autotypenumbers\":\"strict\",\"colorway\":[\"#636efa\",\"#EF553B\",\"#00cc96\",\"#ab63fa\",\"#FFA15A\",\"#19d3f3\",\"#FF6692\",\"#B6E880\",\"#FF97FF\",\"#FECB52\"],\"font\":{\"color\":\"#2a3f5f\"},\"hovermode\":\"closest\",\"hoverlabel\":{\"align\":\"left\"},\"paper_bgcolor\":\"white\",\"plot_bgcolor\":\"#E5ECF6\",\"polar\":{\"bgcolor\":\"#E5ECF6\",\"angularaxis\":{\"gridcolor\":\"white\",\"linecolor\":\"white\",\"ticks\":\"\"},\"radialaxis\":{\"gridcolor\":\"white\",\"linecolor\":\"white\",\"ticks\":\"\"}},\"ternary\":{\"bgcolor\":\"#E5ECF6\",\"aaxis\":{\"gridcolor\":\"white\",\"linecolor\":\"white\",\"ticks\":\"\"},\"baxis\":{\"gridcolor\":\"white\",\"linecolor\":\"white\",\"ticks\":\"\"},\"caxis\":{\"gridcolor\":\"white\",\"linecolor\":\"white\",\"ticks\":\"\"}},\"coloraxis\":{\"colorbar\":{\"outlinewidth\":0,\"ticks\":\"\"}},\"colorscale\":{\"sequential\":[[0.0,\"#0d0887\"],[0.1111111111111111,\"#46039f\"],[0.2222222222222222,\"#7201a8\"],[0.3333333333333333,\"#9c179e\"],[0.4444444444444444,\"#bd3786\"],[0.5555555555555556,\"#d8576b\"],[0.6666666666666666,\"#ed7953\"],[0.7777777777777778,\"#fb9f3a\"],[0.8888888888888888,\"#fdca26\"],[1.0,\"#f0f921\"]],\"sequentialminus\":[[0.0,\"#0d0887\"],[0.1111111111111111,\"#46039f\"],[0.2222222222222222,\"#7201a8\"],[0.3333333333333333,\"#9c179e\"],[0.4444444444444444,\"#bd3786\"],[0.5555555555555556,\"#d8576b\"],[0.6666666666666666,\"#ed7953\"],[0.7777777777777778,\"#fb9f3a\"],[0.8888888888888888,\"#fdca26\"],[1.0,\"#f0f921\"]],\"diverging\":[[0,\"#8e0152\"],[0.1,\"#c51b7d\"],[0.2,\"#de77ae\"],[0.3,\"#f1b6da\"],[0.4,\"#fde0ef\"],[0.5,\"#f7f7f7\"],[0.6,\"#e6f5d0\"],[0.7,\"#b8e186\"],[0.8,\"#7fbc41\"],[0.9,\"#4d9221\"],[1,\"#276419\"]]},\"xaxis\":{\"gridcolor\":\"white\",\"linecolor\":\"white\",\"ticks\":\"\",\"title\":{\"standoff\":15},\"zerolinecolor\":\"white\",\"automargin\":true,\"zerolinewidth\":2},\"yaxis\":{\"gridcolor\":\"white\",\"linecolor\":\"white\",\"ticks\":\"\",\"title\":{\"standoff\":15},\"zerolinecolor\":\"white\",\"automargin\":true,\"zerolinewidth\":2},\"scene\":{\"xaxis\":{\"backgroundcolor\":\"#E5ECF6\",\"gridcolor\":\"white\",\"linecolor\":\"white\",\"showbackground\":true,\"ticks\":\"\",\"zerolinecolor\":\"white\",\"gridwidth\":2},\"yaxis\":{\"backgroundcolor\":\"#E5ECF6\",\"gridcolor\":\"white\",\"linecolor\":\"white\",\"showbackground\":true,\"ticks\":\"\",\"zerolinecolor\":\"white\",\"gridwidth\":2},\"zaxis\":{\"backgroundcolor\":\"#E5ECF6\",\"gridcolor\":\"white\",\"linecolor\":\"white\",\"showbackground\":true,\"ticks\":\"\",\"zerolinecolor\":\"white\",\"gridwidth\":2}},\"shapedefaults\":{\"line\":{\"color\":\"#2a3f5f\"}},\"annotationdefaults\":{\"arrowcolor\":\"#2a3f5f\",\"arrowhead\":0,\"arrowwidth\":1},\"geo\":{\"bgcolor\":\"white\",\"landcolor\":\"#E5ECF6\",\"subunitcolor\":\"white\",\"showland\":true,\"showlakes\":true,\"lakecolor\":\"white\"},\"title\":{\"x\":0.05},\"mapbox\":{\"style\":\"light\"}}},\"legend\":{\"tracegroupgap\":0},\"title\":{\"text\":\"2023 GDP Tree Map Chart by Group and Country\"}},                        {\"responsive\": true}                    ).then(function(){\n",
              "                            \n",
              "var gd = document.getElementById('2145dd8a-4e8c-489c-b746-f328928df90c');\n",
              "var x = new MutationObserver(function (mutations, observer) {{\n",
              "        var display = window.getComputedStyle(gd).display;\n",
              "        if (!display || display === 'none') {{\n",
              "            console.log([gd, 'removed!']);\n",
              "            Plotly.purge(gd);\n",
              "            observer.disconnect();\n",
              "        }}\n",
              "}});\n",
              "\n",
              "// Listen for the removal of the full notebook cells\n",
              "var notebookContainer = gd.closest('#notebook-container');\n",
              "if (notebookContainer) {{\n",
              "    x.observe(notebookContainer, {childList: true});\n",
              "}}\n",
              "\n",
              "// Listen for the clearing of the current output cell\n",
              "var outputEl = gd.closest('.output');\n",
              "if (outputEl) {{\n",
              "    x.observe(outputEl, {childList: true});\n",
              "}}\n",
              "\n",
              "                        })                };                            </script>        </div>\n",
              "</body>\n",
              "</html>"
            ]
          },
          "metadata": {}
        }
      ]
    },
    {
      "cell_type": "markdown",
      "source": [
        "## Step 13 - Plot the Historic Trend of GDP Per Capita"
      ],
      "metadata": {
        "id": "gOE2vx-G7eQA"
      }
    },
    {
      "cell_type": "code",
      "source": [
        "\n",
        "# Create the plot\n",
        "fig = px.line(df_groupby_group,\n",
        "              x='Year',\n",
        "              y='GDP Per Capita ($)',\n",
        "              color='Group',\n",
        "              title='Historic Trend of GDP Per Capita',\n",
        "              labels={'GDP Per Capita ($)': 'GDP Per Capita ($)', 'Year': 'Year', 'Group': 'Group'},\n",
        "              width=1000, height=600)\n",
        "\n",
        "fig.show()"
      ],
      "metadata": {
        "id": "h5bP84m-x_2B",
        "outputId": "bd2aef09-1577-4969-e5b5-db2e33925a16",
        "colab": {
          "base_uri": "https://localhost:8080/",
          "height": 637
        }
      },
      "execution_count": 16,
      "outputs": [
        {
          "output_type": "display_data",
          "data": {
            "text/html": [
              "<html>\n",
              "<head><meta charset=\"utf-8\" /></head>\n",
              "<body>\n",
              "    <div>            <script src=\"https://cdnjs.cloudflare.com/ajax/libs/mathjax/2.7.5/MathJax.js?config=TeX-AMS-MML_SVG\"></script><script type=\"text/javascript\">if (window.MathJax && window.MathJax.Hub && window.MathJax.Hub.Config) {window.MathJax.Hub.Config({SVG: {font: \"STIX-Web\"}});}</script>                <script type=\"text/javascript\">window.PlotlyConfig = {MathJaxConfig: 'local'};</script>\n",
              "        <script charset=\"utf-8\" src=\"https://cdn.plot.ly/plotly-2.35.2.min.js\"></script>                <div id=\"80fbcbe2-fbf2-47cf-a684-2bc7d18d1dc9\" class=\"plotly-graph-div\" style=\"height:600px; width:1000px;\"></div>            <script type=\"text/javascript\">                                    window.PLOTLYENV=window.PLOTLYENV || {};                                    if (document.getElementById(\"80fbcbe2-fbf2-47cf-a684-2bc7d18d1dc9\")) {                    Plotly.newPlot(                        \"80fbcbe2-fbf2-47cf-a684-2bc7d18d1dc9\",                        [{\"hovertemplate\":\"Group=BRICS\\u003cbr\\u003eYear=%{x}\\u003cbr\\u003eGDP Per Capita ($)=%{y}\\u003cextra\\u003e\\u003c\\u002fextra\\u003e\",\"legendgroup\":\"BRICS\",\"line\":{\"color\":\"#636efa\",\"dash\":\"solid\"},\"marker\":{\"symbol\":\"circle\"},\"mode\":\"lines\",\"name\":\"BRICS\",\"orientation\":\"v\",\"showlegend\":true,\"x\":[2000,2001,2002,2003,2004,2005,2006,2007,2008,2009,2010,2011,2012,2013,2014,2015,2016,2017,2018,2019,2020,2021,2022,2023],\"xaxis\":\"x\",\"y\":[2092.467206734942,1878.1825661383305,1787.624629098727,2246.2040106670242,2756.0699391319577,3282.5952603233604,3726.70955100795,4425.486394454682,4878.8664426951445,4985.73824519478,6302.490775634952,7250.396706891785,7058.9956014789295,7039.559910611597,7058.12011998867,6148.691312834952,6056.118240163745,6851.552367433103,7017.132318534433,6935.468696719455,6250.25938705537,7434.044463811817,7715.217841615672,7848.92298980236],\"yaxis\":\"y\",\"type\":\"scatter\"},{\"hovertemplate\":\"Group=G7\\u003cbr\\u003eYear=%{x}\\u003cbr\\u003eGDP Per Capita ($)=%{y}\\u003cextra\\u003e\\u003c\\u002fextra\\u003e\",\"legendgroup\":\"G7\",\"line\":{\"color\":\"#EF553B\",\"dash\":\"solid\"},\"marker\":{\"symbol\":\"circle\"},\"mode\":\"lines\",\"name\":\"G7\",\"orientation\":\"v\",\"showlegend\":true,\"x\":[2000,2001,2002,2003,2004,2005,2006,2007,2008,2009,2010,2011,2012,2013,2014,2015,2016,2017,2018,2019,2020,2021,2022,2023],\"xaxis\":\"x\",\"y\":[27757.14797070803,27121.012839996914,28144.875751103515,32155.213752222026,35965.296093597644,37395.46439143738,39094.83565065878,42850.78189713799,44946.61729782694,41248.26434112026,42723.23000181723,46051.65142463009,45125.08646160048,44976.36254673988,45548.33008153511,41222.571103297225,41577.25284961403,42956.9175616668,45259.21028903924,45136.17427972539,43709.307482703494,48860.019332780284,48144.3680276657,50478.23145297758],\"yaxis\":\"y\",\"type\":\"scatter\"},{\"hovertemplate\":\"Group=REST of WORLD\\u003cbr\\u003eYear=%{x}\\u003cbr\\u003eGDP Per Capita ($)=%{y}\\u003cextra\\u003e\\u003c\\u002fextra\\u003e\",\"legendgroup\":\"REST of WORLD\",\"line\":{\"color\":\"#00cc96\",\"dash\":\"solid\"},\"marker\":{\"symbol\":\"circle\"},\"mode\":\"lines\",\"name\":\"REST of WORLD\",\"orientation\":\"v\",\"showlegend\":true,\"x\":[2000,2001,2002,2003,2004,2005,2006,2007,2008,2009,2010,2011,2012,2013,2014,2015,2016,2017,2018,2019,2020,2021,2022,2023],\"xaxis\":\"x\",\"y\":[7547.718130364859,7589.858308348708,8284.625105605402,9565.316934763996,10938.229687291965,11896.514188756646,13436.144705908204,15378.674051643015,16455.457772431193,14590.612202917127,15287.973047888798,16895.94298435767,16798.735236413413,17496.747765626238,17858.025793469184,16127.116784516606,16512.679123809,17355.483463806562,18413.312325651426,18357.046155402513,16950.97277944068,19591.746391315017,19694.284580151885,16319.230048686844],\"yaxis\":\"y\",\"type\":\"scatter\"}],                        {\"template\":{\"data\":{\"histogram2dcontour\":[{\"type\":\"histogram2dcontour\",\"colorbar\":{\"outlinewidth\":0,\"ticks\":\"\"},\"colorscale\":[[0.0,\"#0d0887\"],[0.1111111111111111,\"#46039f\"],[0.2222222222222222,\"#7201a8\"],[0.3333333333333333,\"#9c179e\"],[0.4444444444444444,\"#bd3786\"],[0.5555555555555556,\"#d8576b\"],[0.6666666666666666,\"#ed7953\"],[0.7777777777777778,\"#fb9f3a\"],[0.8888888888888888,\"#fdca26\"],[1.0,\"#f0f921\"]]}],\"choropleth\":[{\"type\":\"choropleth\",\"colorbar\":{\"outlinewidth\":0,\"ticks\":\"\"}}],\"histogram2d\":[{\"type\":\"histogram2d\",\"colorbar\":{\"outlinewidth\":0,\"ticks\":\"\"},\"colorscale\":[[0.0,\"#0d0887\"],[0.1111111111111111,\"#46039f\"],[0.2222222222222222,\"#7201a8\"],[0.3333333333333333,\"#9c179e\"],[0.4444444444444444,\"#bd3786\"],[0.5555555555555556,\"#d8576b\"],[0.6666666666666666,\"#ed7953\"],[0.7777777777777778,\"#fb9f3a\"],[0.8888888888888888,\"#fdca26\"],[1.0,\"#f0f921\"]]}],\"heatmap\":[{\"type\":\"heatmap\",\"colorbar\":{\"outlinewidth\":0,\"ticks\":\"\"},\"colorscale\":[[0.0,\"#0d0887\"],[0.1111111111111111,\"#46039f\"],[0.2222222222222222,\"#7201a8\"],[0.3333333333333333,\"#9c179e\"],[0.4444444444444444,\"#bd3786\"],[0.5555555555555556,\"#d8576b\"],[0.6666666666666666,\"#ed7953\"],[0.7777777777777778,\"#fb9f3a\"],[0.8888888888888888,\"#fdca26\"],[1.0,\"#f0f921\"]]}],\"heatmapgl\":[{\"type\":\"heatmapgl\",\"colorbar\":{\"outlinewidth\":0,\"ticks\":\"\"},\"colorscale\":[[0.0,\"#0d0887\"],[0.1111111111111111,\"#46039f\"],[0.2222222222222222,\"#7201a8\"],[0.3333333333333333,\"#9c179e\"],[0.4444444444444444,\"#bd3786\"],[0.5555555555555556,\"#d8576b\"],[0.6666666666666666,\"#ed7953\"],[0.7777777777777778,\"#fb9f3a\"],[0.8888888888888888,\"#fdca26\"],[1.0,\"#f0f921\"]]}],\"contourcarpet\":[{\"type\":\"contourcarpet\",\"colorbar\":{\"outlinewidth\":0,\"ticks\":\"\"}}],\"contour\":[{\"type\":\"contour\",\"colorbar\":{\"outlinewidth\":0,\"ticks\":\"\"},\"colorscale\":[[0.0,\"#0d0887\"],[0.1111111111111111,\"#46039f\"],[0.2222222222222222,\"#7201a8\"],[0.3333333333333333,\"#9c179e\"],[0.4444444444444444,\"#bd3786\"],[0.5555555555555556,\"#d8576b\"],[0.6666666666666666,\"#ed7953\"],[0.7777777777777778,\"#fb9f3a\"],[0.8888888888888888,\"#fdca26\"],[1.0,\"#f0f921\"]]}],\"surface\":[{\"type\":\"surface\",\"colorbar\":{\"outlinewidth\":0,\"ticks\":\"\"},\"colorscale\":[[0.0,\"#0d0887\"],[0.1111111111111111,\"#46039f\"],[0.2222222222222222,\"#7201a8\"],[0.3333333333333333,\"#9c179e\"],[0.4444444444444444,\"#bd3786\"],[0.5555555555555556,\"#d8576b\"],[0.6666666666666666,\"#ed7953\"],[0.7777777777777778,\"#fb9f3a\"],[0.8888888888888888,\"#fdca26\"],[1.0,\"#f0f921\"]]}],\"mesh3d\":[{\"type\":\"mesh3d\",\"colorbar\":{\"outlinewidth\":0,\"ticks\":\"\"}}],\"scatter\":[{\"fillpattern\":{\"fillmode\":\"overlay\",\"size\":10,\"solidity\":0.2},\"type\":\"scatter\"}],\"parcoords\":[{\"type\":\"parcoords\",\"line\":{\"colorbar\":{\"outlinewidth\":0,\"ticks\":\"\"}}}],\"scatterpolargl\":[{\"type\":\"scatterpolargl\",\"marker\":{\"colorbar\":{\"outlinewidth\":0,\"ticks\":\"\"}}}],\"bar\":[{\"error_x\":{\"color\":\"#2a3f5f\"},\"error_y\":{\"color\":\"#2a3f5f\"},\"marker\":{\"line\":{\"color\":\"#E5ECF6\",\"width\":0.5},\"pattern\":{\"fillmode\":\"overlay\",\"size\":10,\"solidity\":0.2}},\"type\":\"bar\"}],\"scattergeo\":[{\"type\":\"scattergeo\",\"marker\":{\"colorbar\":{\"outlinewidth\":0,\"ticks\":\"\"}}}],\"scatterpolar\":[{\"type\":\"scatterpolar\",\"marker\":{\"colorbar\":{\"outlinewidth\":0,\"ticks\":\"\"}}}],\"histogram\":[{\"marker\":{\"pattern\":{\"fillmode\":\"overlay\",\"size\":10,\"solidity\":0.2}},\"type\":\"histogram\"}],\"scattergl\":[{\"type\":\"scattergl\",\"marker\":{\"colorbar\":{\"outlinewidth\":0,\"ticks\":\"\"}}}],\"scatter3d\":[{\"type\":\"scatter3d\",\"line\":{\"colorbar\":{\"outlinewidth\":0,\"ticks\":\"\"}},\"marker\":{\"colorbar\":{\"outlinewidth\":0,\"ticks\":\"\"}}}],\"scattermapbox\":[{\"type\":\"scattermapbox\",\"marker\":{\"colorbar\":{\"outlinewidth\":0,\"ticks\":\"\"}}}],\"scatterternary\":[{\"type\":\"scatterternary\",\"marker\":{\"colorbar\":{\"outlinewidth\":0,\"ticks\":\"\"}}}],\"scattercarpet\":[{\"type\":\"scattercarpet\",\"marker\":{\"colorbar\":{\"outlinewidth\":0,\"ticks\":\"\"}}}],\"carpet\":[{\"aaxis\":{\"endlinecolor\":\"#2a3f5f\",\"gridcolor\":\"white\",\"linecolor\":\"white\",\"minorgridcolor\":\"white\",\"startlinecolor\":\"#2a3f5f\"},\"baxis\":{\"endlinecolor\":\"#2a3f5f\",\"gridcolor\":\"white\",\"linecolor\":\"white\",\"minorgridcolor\":\"white\",\"startlinecolor\":\"#2a3f5f\"},\"type\":\"carpet\"}],\"table\":[{\"cells\":{\"fill\":{\"color\":\"#EBF0F8\"},\"line\":{\"color\":\"white\"}},\"header\":{\"fill\":{\"color\":\"#C8D4E3\"},\"line\":{\"color\":\"white\"}},\"type\":\"table\"}],\"barpolar\":[{\"marker\":{\"line\":{\"color\":\"#E5ECF6\",\"width\":0.5},\"pattern\":{\"fillmode\":\"overlay\",\"size\":10,\"solidity\":0.2}},\"type\":\"barpolar\"}],\"pie\":[{\"automargin\":true,\"type\":\"pie\"}]},\"layout\":{\"autotypenumbers\":\"strict\",\"colorway\":[\"#636efa\",\"#EF553B\",\"#00cc96\",\"#ab63fa\",\"#FFA15A\",\"#19d3f3\",\"#FF6692\",\"#B6E880\",\"#FF97FF\",\"#FECB52\"],\"font\":{\"color\":\"#2a3f5f\"},\"hovermode\":\"closest\",\"hoverlabel\":{\"align\":\"left\"},\"paper_bgcolor\":\"white\",\"plot_bgcolor\":\"#E5ECF6\",\"polar\":{\"bgcolor\":\"#E5ECF6\",\"angularaxis\":{\"gridcolor\":\"white\",\"linecolor\":\"white\",\"ticks\":\"\"},\"radialaxis\":{\"gridcolor\":\"white\",\"linecolor\":\"white\",\"ticks\":\"\"}},\"ternary\":{\"bgcolor\":\"#E5ECF6\",\"aaxis\":{\"gridcolor\":\"white\",\"linecolor\":\"white\",\"ticks\":\"\"},\"baxis\":{\"gridcolor\":\"white\",\"linecolor\":\"white\",\"ticks\":\"\"},\"caxis\":{\"gridcolor\":\"white\",\"linecolor\":\"white\",\"ticks\":\"\"}},\"coloraxis\":{\"colorbar\":{\"outlinewidth\":0,\"ticks\":\"\"}},\"colorscale\":{\"sequential\":[[0.0,\"#0d0887\"],[0.1111111111111111,\"#46039f\"],[0.2222222222222222,\"#7201a8\"],[0.3333333333333333,\"#9c179e\"],[0.4444444444444444,\"#bd3786\"],[0.5555555555555556,\"#d8576b\"],[0.6666666666666666,\"#ed7953\"],[0.7777777777777778,\"#fb9f3a\"],[0.8888888888888888,\"#fdca26\"],[1.0,\"#f0f921\"]],\"sequentialminus\":[[0.0,\"#0d0887\"],[0.1111111111111111,\"#46039f\"],[0.2222222222222222,\"#7201a8\"],[0.3333333333333333,\"#9c179e\"],[0.4444444444444444,\"#bd3786\"],[0.5555555555555556,\"#d8576b\"],[0.6666666666666666,\"#ed7953\"],[0.7777777777777778,\"#fb9f3a\"],[0.8888888888888888,\"#fdca26\"],[1.0,\"#f0f921\"]],\"diverging\":[[0,\"#8e0152\"],[0.1,\"#c51b7d\"],[0.2,\"#de77ae\"],[0.3,\"#f1b6da\"],[0.4,\"#fde0ef\"],[0.5,\"#f7f7f7\"],[0.6,\"#e6f5d0\"],[0.7,\"#b8e186\"],[0.8,\"#7fbc41\"],[0.9,\"#4d9221\"],[1,\"#276419\"]]},\"xaxis\":{\"gridcolor\":\"white\",\"linecolor\":\"white\",\"ticks\":\"\",\"title\":{\"standoff\":15},\"zerolinecolor\":\"white\",\"automargin\":true,\"zerolinewidth\":2},\"yaxis\":{\"gridcolor\":\"white\",\"linecolor\":\"white\",\"ticks\":\"\",\"title\":{\"standoff\":15},\"zerolinecolor\":\"white\",\"automargin\":true,\"zerolinewidth\":2},\"scene\":{\"xaxis\":{\"backgroundcolor\":\"#E5ECF6\",\"gridcolor\":\"white\",\"linecolor\":\"white\",\"showbackground\":true,\"ticks\":\"\",\"zerolinecolor\":\"white\",\"gridwidth\":2},\"yaxis\":{\"backgroundcolor\":\"#E5ECF6\",\"gridcolor\":\"white\",\"linecolor\":\"white\",\"showbackground\":true,\"ticks\":\"\",\"zerolinecolor\":\"white\",\"gridwidth\":2},\"zaxis\":{\"backgroundcolor\":\"#E5ECF6\",\"gridcolor\":\"white\",\"linecolor\":\"white\",\"showbackground\":true,\"ticks\":\"\",\"zerolinecolor\":\"white\",\"gridwidth\":2}},\"shapedefaults\":{\"line\":{\"color\":\"#2a3f5f\"}},\"annotationdefaults\":{\"arrowcolor\":\"#2a3f5f\",\"arrowhead\":0,\"arrowwidth\":1},\"geo\":{\"bgcolor\":\"white\",\"landcolor\":\"#E5ECF6\",\"subunitcolor\":\"white\",\"showland\":true,\"showlakes\":true,\"lakecolor\":\"white\"},\"title\":{\"x\":0.05},\"mapbox\":{\"style\":\"light\"}}},\"xaxis\":{\"anchor\":\"y\",\"domain\":[0.0,1.0],\"title\":{\"text\":\"Year\"}},\"yaxis\":{\"anchor\":\"x\",\"domain\":[0.0,1.0],\"title\":{\"text\":\"GDP Per Capita ($)\"}},\"legend\":{\"title\":{\"text\":\"Group\"},\"tracegroupgap\":0},\"title\":{\"text\":\"Historic Trend of GDP Per Capita\"},\"height\":600,\"width\":1000},                        {\"responsive\": true}                    ).then(function(){\n",
              "                            \n",
              "var gd = document.getElementById('80fbcbe2-fbf2-47cf-a684-2bc7d18d1dc9');\n",
              "var x = new MutationObserver(function (mutations, observer) {{\n",
              "        var display = window.getComputedStyle(gd).display;\n",
              "        if (!display || display === 'none') {{\n",
              "            console.log([gd, 'removed!']);\n",
              "            Plotly.purge(gd);\n",
              "            observer.disconnect();\n",
              "        }}\n",
              "}});\n",
              "\n",
              "// Listen for the removal of the full notebook cells\n",
              "var notebookContainer = gd.closest('#notebook-container');\n",
              "if (notebookContainer) {{\n",
              "    x.observe(notebookContainer, {childList: true});\n",
              "}}\n",
              "\n",
              "// Listen for the clearing of the current output cell\n",
              "var outputEl = gd.closest('.output');\n",
              "if (outputEl) {{\n",
              "    x.observe(outputEl, {childList: true});\n",
              "}}\n",
              "\n",
              "                        })                };                            </script>        </div>\n",
              "</body>\n",
              "</html>"
            ]
          },
          "metadata": {}
        }
      ]
    },
    {
      "cell_type": "markdown",
      "source": [
        "## Step 14 - Plot the 2023 GDP Per Capita Bar Chart\n",
        "\n",
        "Each group is a bar."
      ],
      "metadata": {
        "id": "1y9PbSwk7m60"
      }
    },
    {
      "cell_type": "code",
      "source": [
        "\n",
        "# Filter data for the year 2023\n",
        "df_2023 = df_groupby_group[df_groupby_group['Year'] == 2023]\n",
        "\n",
        "# Create the bar chart\n",
        "fig = px.bar(df_2023,\n",
        "             x='Group',\n",
        "             y='GDP Per Capita ($)',\n",
        "             title='2023 GDP Per Capita by Group',\n",
        "             labels={'GDP Per Capita ($)': 'GDP Per Capita ($)', 'Group': 'Group'},\n",
        "             width=800, height=500)\n",
        "\n",
        "fig.show()"
      ],
      "metadata": {
        "id": "EofVcBHByEm0",
        "outputId": "fb34a382-03e8-4bd3-fc21-0e8c9f4abe4e",
        "colab": {
          "base_uri": "https://localhost:8080/",
          "height": 537
        }
      },
      "execution_count": 17,
      "outputs": [
        {
          "output_type": "display_data",
          "data": {
            "text/html": [
              "<html>\n",
              "<head><meta charset=\"utf-8\" /></head>\n",
              "<body>\n",
              "    <div>            <script src=\"https://cdnjs.cloudflare.com/ajax/libs/mathjax/2.7.5/MathJax.js?config=TeX-AMS-MML_SVG\"></script><script type=\"text/javascript\">if (window.MathJax && window.MathJax.Hub && window.MathJax.Hub.Config) {window.MathJax.Hub.Config({SVG: {font: \"STIX-Web\"}});}</script>                <script type=\"text/javascript\">window.PlotlyConfig = {MathJaxConfig: 'local'};</script>\n",
              "        <script charset=\"utf-8\" src=\"https://cdn.plot.ly/plotly-2.35.2.min.js\"></script>                <div id=\"f250b83d-ec68-4ea0-8693-9b41e87cb2e1\" class=\"plotly-graph-div\" style=\"height:500px; width:800px;\"></div>            <script type=\"text/javascript\">                                    window.PLOTLYENV=window.PLOTLYENV || {};                                    if (document.getElementById(\"f250b83d-ec68-4ea0-8693-9b41e87cb2e1\")) {                    Plotly.newPlot(                        \"f250b83d-ec68-4ea0-8693-9b41e87cb2e1\",                        [{\"alignmentgroup\":\"True\",\"hovertemplate\":\"Group=%{x}\\u003cbr\\u003eGDP Per Capita ($)=%{y}\\u003cextra\\u003e\\u003c\\u002fextra\\u003e\",\"legendgroup\":\"\",\"marker\":{\"color\":\"#636efa\",\"pattern\":{\"shape\":\"\"}},\"name\":\"\",\"offsetgroup\":\"\",\"orientation\":\"v\",\"showlegend\":false,\"textposition\":\"auto\",\"x\":[\"BRICS\",\"G7\",\"REST of WORLD\"],\"xaxis\":\"x\",\"y\":[7848.92298980236,50478.23145297758,16319.230048686844],\"yaxis\":\"y\",\"type\":\"bar\"}],                        {\"template\":{\"data\":{\"histogram2dcontour\":[{\"type\":\"histogram2dcontour\",\"colorbar\":{\"outlinewidth\":0,\"ticks\":\"\"},\"colorscale\":[[0.0,\"#0d0887\"],[0.1111111111111111,\"#46039f\"],[0.2222222222222222,\"#7201a8\"],[0.3333333333333333,\"#9c179e\"],[0.4444444444444444,\"#bd3786\"],[0.5555555555555556,\"#d8576b\"],[0.6666666666666666,\"#ed7953\"],[0.7777777777777778,\"#fb9f3a\"],[0.8888888888888888,\"#fdca26\"],[1.0,\"#f0f921\"]]}],\"choropleth\":[{\"type\":\"choropleth\",\"colorbar\":{\"outlinewidth\":0,\"ticks\":\"\"}}],\"histogram2d\":[{\"type\":\"histogram2d\",\"colorbar\":{\"outlinewidth\":0,\"ticks\":\"\"},\"colorscale\":[[0.0,\"#0d0887\"],[0.1111111111111111,\"#46039f\"],[0.2222222222222222,\"#7201a8\"],[0.3333333333333333,\"#9c179e\"],[0.4444444444444444,\"#bd3786\"],[0.5555555555555556,\"#d8576b\"],[0.6666666666666666,\"#ed7953\"],[0.7777777777777778,\"#fb9f3a\"],[0.8888888888888888,\"#fdca26\"],[1.0,\"#f0f921\"]]}],\"heatmap\":[{\"type\":\"heatmap\",\"colorbar\":{\"outlinewidth\":0,\"ticks\":\"\"},\"colorscale\":[[0.0,\"#0d0887\"],[0.1111111111111111,\"#46039f\"],[0.2222222222222222,\"#7201a8\"],[0.3333333333333333,\"#9c179e\"],[0.4444444444444444,\"#bd3786\"],[0.5555555555555556,\"#d8576b\"],[0.6666666666666666,\"#ed7953\"],[0.7777777777777778,\"#fb9f3a\"],[0.8888888888888888,\"#fdca26\"],[1.0,\"#f0f921\"]]}],\"heatmapgl\":[{\"type\":\"heatmapgl\",\"colorbar\":{\"outlinewidth\":0,\"ticks\":\"\"},\"colorscale\":[[0.0,\"#0d0887\"],[0.1111111111111111,\"#46039f\"],[0.2222222222222222,\"#7201a8\"],[0.3333333333333333,\"#9c179e\"],[0.4444444444444444,\"#bd3786\"],[0.5555555555555556,\"#d8576b\"],[0.6666666666666666,\"#ed7953\"],[0.7777777777777778,\"#fb9f3a\"],[0.8888888888888888,\"#fdca26\"],[1.0,\"#f0f921\"]]}],\"contourcarpet\":[{\"type\":\"contourcarpet\",\"colorbar\":{\"outlinewidth\":0,\"ticks\":\"\"}}],\"contour\":[{\"type\":\"contour\",\"colorbar\":{\"outlinewidth\":0,\"ticks\":\"\"},\"colorscale\":[[0.0,\"#0d0887\"],[0.1111111111111111,\"#46039f\"],[0.2222222222222222,\"#7201a8\"],[0.3333333333333333,\"#9c179e\"],[0.4444444444444444,\"#bd3786\"],[0.5555555555555556,\"#d8576b\"],[0.6666666666666666,\"#ed7953\"],[0.7777777777777778,\"#fb9f3a\"],[0.8888888888888888,\"#fdca26\"],[1.0,\"#f0f921\"]]}],\"surface\":[{\"type\":\"surface\",\"colorbar\":{\"outlinewidth\":0,\"ticks\":\"\"},\"colorscale\":[[0.0,\"#0d0887\"],[0.1111111111111111,\"#46039f\"],[0.2222222222222222,\"#7201a8\"],[0.3333333333333333,\"#9c179e\"],[0.4444444444444444,\"#bd3786\"],[0.5555555555555556,\"#d8576b\"],[0.6666666666666666,\"#ed7953\"],[0.7777777777777778,\"#fb9f3a\"],[0.8888888888888888,\"#fdca26\"],[1.0,\"#f0f921\"]]}],\"mesh3d\":[{\"type\":\"mesh3d\",\"colorbar\":{\"outlinewidth\":0,\"ticks\":\"\"}}],\"scatter\":[{\"fillpattern\":{\"fillmode\":\"overlay\",\"size\":10,\"solidity\":0.2},\"type\":\"scatter\"}],\"parcoords\":[{\"type\":\"parcoords\",\"line\":{\"colorbar\":{\"outlinewidth\":0,\"ticks\":\"\"}}}],\"scatterpolargl\":[{\"type\":\"scatterpolargl\",\"marker\":{\"colorbar\":{\"outlinewidth\":0,\"ticks\":\"\"}}}],\"bar\":[{\"error_x\":{\"color\":\"#2a3f5f\"},\"error_y\":{\"color\":\"#2a3f5f\"},\"marker\":{\"line\":{\"color\":\"#E5ECF6\",\"width\":0.5},\"pattern\":{\"fillmode\":\"overlay\",\"size\":10,\"solidity\":0.2}},\"type\":\"bar\"}],\"scattergeo\":[{\"type\":\"scattergeo\",\"marker\":{\"colorbar\":{\"outlinewidth\":0,\"ticks\":\"\"}}}],\"scatterpolar\":[{\"type\":\"scatterpolar\",\"marker\":{\"colorbar\":{\"outlinewidth\":0,\"ticks\":\"\"}}}],\"histogram\":[{\"marker\":{\"pattern\":{\"fillmode\":\"overlay\",\"size\":10,\"solidity\":0.2}},\"type\":\"histogram\"}],\"scattergl\":[{\"type\":\"scattergl\",\"marker\":{\"colorbar\":{\"outlinewidth\":0,\"ticks\":\"\"}}}],\"scatter3d\":[{\"type\":\"scatter3d\",\"line\":{\"colorbar\":{\"outlinewidth\":0,\"ticks\":\"\"}},\"marker\":{\"colorbar\":{\"outlinewidth\":0,\"ticks\":\"\"}}}],\"scattermapbox\":[{\"type\":\"scattermapbox\",\"marker\":{\"colorbar\":{\"outlinewidth\":0,\"ticks\":\"\"}}}],\"scatterternary\":[{\"type\":\"scatterternary\",\"marker\":{\"colorbar\":{\"outlinewidth\":0,\"ticks\":\"\"}}}],\"scattercarpet\":[{\"type\":\"scattercarpet\",\"marker\":{\"colorbar\":{\"outlinewidth\":0,\"ticks\":\"\"}}}],\"carpet\":[{\"aaxis\":{\"endlinecolor\":\"#2a3f5f\",\"gridcolor\":\"white\",\"linecolor\":\"white\",\"minorgridcolor\":\"white\",\"startlinecolor\":\"#2a3f5f\"},\"baxis\":{\"endlinecolor\":\"#2a3f5f\",\"gridcolor\":\"white\",\"linecolor\":\"white\",\"minorgridcolor\":\"white\",\"startlinecolor\":\"#2a3f5f\"},\"type\":\"carpet\"}],\"table\":[{\"cells\":{\"fill\":{\"color\":\"#EBF0F8\"},\"line\":{\"color\":\"white\"}},\"header\":{\"fill\":{\"color\":\"#C8D4E3\"},\"line\":{\"color\":\"white\"}},\"type\":\"table\"}],\"barpolar\":[{\"marker\":{\"line\":{\"color\":\"#E5ECF6\",\"width\":0.5},\"pattern\":{\"fillmode\":\"overlay\",\"size\":10,\"solidity\":0.2}},\"type\":\"barpolar\"}],\"pie\":[{\"automargin\":true,\"type\":\"pie\"}]},\"layout\":{\"autotypenumbers\":\"strict\",\"colorway\":[\"#636efa\",\"#EF553B\",\"#00cc96\",\"#ab63fa\",\"#FFA15A\",\"#19d3f3\",\"#FF6692\",\"#B6E880\",\"#FF97FF\",\"#FECB52\"],\"font\":{\"color\":\"#2a3f5f\"},\"hovermode\":\"closest\",\"hoverlabel\":{\"align\":\"left\"},\"paper_bgcolor\":\"white\",\"plot_bgcolor\":\"#E5ECF6\",\"polar\":{\"bgcolor\":\"#E5ECF6\",\"angularaxis\":{\"gridcolor\":\"white\",\"linecolor\":\"white\",\"ticks\":\"\"},\"radialaxis\":{\"gridcolor\":\"white\",\"linecolor\":\"white\",\"ticks\":\"\"}},\"ternary\":{\"bgcolor\":\"#E5ECF6\",\"aaxis\":{\"gridcolor\":\"white\",\"linecolor\":\"white\",\"ticks\":\"\"},\"baxis\":{\"gridcolor\":\"white\",\"linecolor\":\"white\",\"ticks\":\"\"},\"caxis\":{\"gridcolor\":\"white\",\"linecolor\":\"white\",\"ticks\":\"\"}},\"coloraxis\":{\"colorbar\":{\"outlinewidth\":0,\"ticks\":\"\"}},\"colorscale\":{\"sequential\":[[0.0,\"#0d0887\"],[0.1111111111111111,\"#46039f\"],[0.2222222222222222,\"#7201a8\"],[0.3333333333333333,\"#9c179e\"],[0.4444444444444444,\"#bd3786\"],[0.5555555555555556,\"#d8576b\"],[0.6666666666666666,\"#ed7953\"],[0.7777777777777778,\"#fb9f3a\"],[0.8888888888888888,\"#fdca26\"],[1.0,\"#f0f921\"]],\"sequentialminus\":[[0.0,\"#0d0887\"],[0.1111111111111111,\"#46039f\"],[0.2222222222222222,\"#7201a8\"],[0.3333333333333333,\"#9c179e\"],[0.4444444444444444,\"#bd3786\"],[0.5555555555555556,\"#d8576b\"],[0.6666666666666666,\"#ed7953\"],[0.7777777777777778,\"#fb9f3a\"],[0.8888888888888888,\"#fdca26\"],[1.0,\"#f0f921\"]],\"diverging\":[[0,\"#8e0152\"],[0.1,\"#c51b7d\"],[0.2,\"#de77ae\"],[0.3,\"#f1b6da\"],[0.4,\"#fde0ef\"],[0.5,\"#f7f7f7\"],[0.6,\"#e6f5d0\"],[0.7,\"#b8e186\"],[0.8,\"#7fbc41\"],[0.9,\"#4d9221\"],[1,\"#276419\"]]},\"xaxis\":{\"gridcolor\":\"white\",\"linecolor\":\"white\",\"ticks\":\"\",\"title\":{\"standoff\":15},\"zerolinecolor\":\"white\",\"automargin\":true,\"zerolinewidth\":2},\"yaxis\":{\"gridcolor\":\"white\",\"linecolor\":\"white\",\"ticks\":\"\",\"title\":{\"standoff\":15},\"zerolinecolor\":\"white\",\"automargin\":true,\"zerolinewidth\":2},\"scene\":{\"xaxis\":{\"backgroundcolor\":\"#E5ECF6\",\"gridcolor\":\"white\",\"linecolor\":\"white\",\"showbackground\":true,\"ticks\":\"\",\"zerolinecolor\":\"white\",\"gridwidth\":2},\"yaxis\":{\"backgroundcolor\":\"#E5ECF6\",\"gridcolor\":\"white\",\"linecolor\":\"white\",\"showbackground\":true,\"ticks\":\"\",\"zerolinecolor\":\"white\",\"gridwidth\":2},\"zaxis\":{\"backgroundcolor\":\"#E5ECF6\",\"gridcolor\":\"white\",\"linecolor\":\"white\",\"showbackground\":true,\"ticks\":\"\",\"zerolinecolor\":\"white\",\"gridwidth\":2}},\"shapedefaults\":{\"line\":{\"color\":\"#2a3f5f\"}},\"annotationdefaults\":{\"arrowcolor\":\"#2a3f5f\",\"arrowhead\":0,\"arrowwidth\":1},\"geo\":{\"bgcolor\":\"white\",\"landcolor\":\"#E5ECF6\",\"subunitcolor\":\"white\",\"showland\":true,\"showlakes\":true,\"lakecolor\":\"white\"},\"title\":{\"x\":0.05},\"mapbox\":{\"style\":\"light\"}}},\"xaxis\":{\"anchor\":\"y\",\"domain\":[0.0,1.0],\"title\":{\"text\":\"Group\"}},\"yaxis\":{\"anchor\":\"x\",\"domain\":[0.0,1.0],\"title\":{\"text\":\"GDP Per Capita ($)\"}},\"legend\":{\"tracegroupgap\":0},\"title\":{\"text\":\"2023 GDP Per Capita by Group\"},\"barmode\":\"relative\",\"height\":500,\"width\":800},                        {\"responsive\": true}                    ).then(function(){\n",
              "                            \n",
              "var gd = document.getElementById('f250b83d-ec68-4ea0-8693-9b41e87cb2e1');\n",
              "var x = new MutationObserver(function (mutations, observer) {{\n",
              "        var display = window.getComputedStyle(gd).display;\n",
              "        if (!display || display === 'none') {{\n",
              "            console.log([gd, 'removed!']);\n",
              "            Plotly.purge(gd);\n",
              "            observer.disconnect();\n",
              "        }}\n",
              "}});\n",
              "\n",
              "// Listen for the removal of the full notebook cells\n",
              "var notebookContainer = gd.closest('#notebook-container');\n",
              "if (notebookContainer) {{\n",
              "    x.observe(notebookContainer, {childList: true});\n",
              "}}\n",
              "\n",
              "// Listen for the clearing of the current output cell\n",
              "var outputEl = gd.closest('.output');\n",
              "if (outputEl) {{\n",
              "    x.observe(outputEl, {childList: true});\n",
              "}}\n",
              "\n",
              "                        })                };                            </script>        </div>\n",
              "</body>\n",
              "</html>"
            ]
          },
          "metadata": {}
        }
      ]
    },
    {
      "cell_type": "markdown",
      "source": [
        "## Step 15 - Plot the 2023 GDP Per Capita Bar Chart of G7 and BRICS countries\n",
        "\n",
        "Each country is a bar. Differentiate group by color."
      ],
      "metadata": {
        "id": "XfhWUvPm70HG"
      }
    },
    {
      "cell_type": "code",
      "source": [
        "\n",
        "\n",
        "# Filter data for the year 2023 and G7/BRICS countries\n",
        "df_2023_g7_brics = df[(df['Year'] == 2023) & (df['Group'].isin(['G7', 'BRICS']))]\n",
        "\n",
        "# Create the bar chart\n",
        "fig = px.bar(df_2023_g7_brics,\n",
        "             x='Country Name',\n",
        "             y='GDP Per Capita ($)',\n",
        "             color='Group',\n",
        "             title='2023 GDP Per Capita of G7 and BRICS Countries',\n",
        "             labels={'GDP Per Capita ($)': 'GDP Per Capita ($)', 'Country Name': 'Country', 'Group': 'Group'},\n",
        "             width=1000,\n",
        "             height=600)\n",
        "\n",
        "fig.show()"
      ],
      "metadata": {
        "id": "8nTc3hbzyJXl",
        "outputId": "be0c0803-8342-4117-fc79-3968116e6e4c",
        "colab": {
          "base_uri": "https://localhost:8080/",
          "height": 637
        }
      },
      "execution_count": 18,
      "outputs": [
        {
          "output_type": "display_data",
          "data": {
            "text/html": [
              "<html>\n",
              "<head><meta charset=\"utf-8\" /></head>\n",
              "<body>\n",
              "    <div>            <script src=\"https://cdnjs.cloudflare.com/ajax/libs/mathjax/2.7.5/MathJax.js?config=TeX-AMS-MML_SVG\"></script><script type=\"text/javascript\">if (window.MathJax && window.MathJax.Hub && window.MathJax.Hub.Config) {window.MathJax.Hub.Config({SVG: {font: \"STIX-Web\"}});}</script>                <script type=\"text/javascript\">window.PlotlyConfig = {MathJaxConfig: 'local'};</script>\n",
              "        <script charset=\"utf-8\" src=\"https://cdn.plot.ly/plotly-2.35.2.min.js\"></script>                <div id=\"4f1d8253-d1dd-41ea-a40b-3a11c9786e7b\" class=\"plotly-graph-div\" style=\"height:600px; width:1000px;\"></div>            <script type=\"text/javascript\">                                    window.PLOTLYENV=window.PLOTLYENV || {};                                    if (document.getElementById(\"4f1d8253-d1dd-41ea-a40b-3a11c9786e7b\")) {                    Plotly.newPlot(                        \"4f1d8253-d1dd-41ea-a40b-3a11c9786e7b\",                        [{\"alignmentgroup\":\"True\",\"hovertemplate\":\"Group=BRICS\\u003cbr\\u003eCountry=%{x}\\u003cbr\\u003eGDP Per Capita ($)=%{y}\\u003cextra\\u003e\\u003c\\u002fextra\\u003e\",\"legendgroup\":\"BRICS\",\"marker\":{\"color\":\"#636efa\",\"pattern\":{\"shape\":\"\"}},\"name\":\"BRICS\",\"offsetgroup\":\"BRICS\",\"orientation\":\"v\",\"showlegend\":true,\"textposition\":\"auto\",\"x\":[\"Brazil\",\"China\",\"India\",\"South Africa\"],\"xaxis\":\"x\",\"y\":[10043.6239221567,12614.0609948923,2484.8454294403,6253.16161272014],\"yaxis\":\"y\",\"type\":\"bar\"},{\"alignmentgroup\":\"True\",\"hovertemplate\":\"Group=G7\\u003cbr\\u003eCountry=%{x}\\u003cbr\\u003eGDP Per Capita ($)=%{y}\\u003cextra\\u003e\\u003c\\u002fextra\\u003e\",\"legendgroup\":\"G7\",\"marker\":{\"color\":\"#EF553B\",\"pattern\":{\"shape\":\"\"}},\"name\":\"G7\",\"offsetgroup\":\"G7\",\"orientation\":\"v\",\"showlegend\":true,\"textposition\":\"auto\",\"x\":[\"Canada\",\"Germany\",\"France\",\"United Kingdom\",\"Italy\",\"Japan\",\"United States\"],\"xaxis\":\"x\",\"y\":[53371.6974319701,52745.7557064131,44460.8178457009,48866.6039600298,38373.1660497534,33834.3921056453,81695.1870713305],\"yaxis\":\"y\",\"type\":\"bar\"}],                        {\"template\":{\"data\":{\"histogram2dcontour\":[{\"type\":\"histogram2dcontour\",\"colorbar\":{\"outlinewidth\":0,\"ticks\":\"\"},\"colorscale\":[[0.0,\"#0d0887\"],[0.1111111111111111,\"#46039f\"],[0.2222222222222222,\"#7201a8\"],[0.3333333333333333,\"#9c179e\"],[0.4444444444444444,\"#bd3786\"],[0.5555555555555556,\"#d8576b\"],[0.6666666666666666,\"#ed7953\"],[0.7777777777777778,\"#fb9f3a\"],[0.8888888888888888,\"#fdca26\"],[1.0,\"#f0f921\"]]}],\"choropleth\":[{\"type\":\"choropleth\",\"colorbar\":{\"outlinewidth\":0,\"ticks\":\"\"}}],\"histogram2d\":[{\"type\":\"histogram2d\",\"colorbar\":{\"outlinewidth\":0,\"ticks\":\"\"},\"colorscale\":[[0.0,\"#0d0887\"],[0.1111111111111111,\"#46039f\"],[0.2222222222222222,\"#7201a8\"],[0.3333333333333333,\"#9c179e\"],[0.4444444444444444,\"#bd3786\"],[0.5555555555555556,\"#d8576b\"],[0.6666666666666666,\"#ed7953\"],[0.7777777777777778,\"#fb9f3a\"],[0.8888888888888888,\"#fdca26\"],[1.0,\"#f0f921\"]]}],\"heatmap\":[{\"type\":\"heatmap\",\"colorbar\":{\"outlinewidth\":0,\"ticks\":\"\"},\"colorscale\":[[0.0,\"#0d0887\"],[0.1111111111111111,\"#46039f\"],[0.2222222222222222,\"#7201a8\"],[0.3333333333333333,\"#9c179e\"],[0.4444444444444444,\"#bd3786\"],[0.5555555555555556,\"#d8576b\"],[0.6666666666666666,\"#ed7953\"],[0.7777777777777778,\"#fb9f3a\"],[0.8888888888888888,\"#fdca26\"],[1.0,\"#f0f921\"]]}],\"heatmapgl\":[{\"type\":\"heatmapgl\",\"colorbar\":{\"outlinewidth\":0,\"ticks\":\"\"},\"colorscale\":[[0.0,\"#0d0887\"],[0.1111111111111111,\"#46039f\"],[0.2222222222222222,\"#7201a8\"],[0.3333333333333333,\"#9c179e\"],[0.4444444444444444,\"#bd3786\"],[0.5555555555555556,\"#d8576b\"],[0.6666666666666666,\"#ed7953\"],[0.7777777777777778,\"#fb9f3a\"],[0.8888888888888888,\"#fdca26\"],[1.0,\"#f0f921\"]]}],\"contourcarpet\":[{\"type\":\"contourcarpet\",\"colorbar\":{\"outlinewidth\":0,\"ticks\":\"\"}}],\"contour\":[{\"type\":\"contour\",\"colorbar\":{\"outlinewidth\":0,\"ticks\":\"\"},\"colorscale\":[[0.0,\"#0d0887\"],[0.1111111111111111,\"#46039f\"],[0.2222222222222222,\"#7201a8\"],[0.3333333333333333,\"#9c179e\"],[0.4444444444444444,\"#bd3786\"],[0.5555555555555556,\"#d8576b\"],[0.6666666666666666,\"#ed7953\"],[0.7777777777777778,\"#fb9f3a\"],[0.8888888888888888,\"#fdca26\"],[1.0,\"#f0f921\"]]}],\"surface\":[{\"type\":\"surface\",\"colorbar\":{\"outlinewidth\":0,\"ticks\":\"\"},\"colorscale\":[[0.0,\"#0d0887\"],[0.1111111111111111,\"#46039f\"],[0.2222222222222222,\"#7201a8\"],[0.3333333333333333,\"#9c179e\"],[0.4444444444444444,\"#bd3786\"],[0.5555555555555556,\"#d8576b\"],[0.6666666666666666,\"#ed7953\"],[0.7777777777777778,\"#fb9f3a\"],[0.8888888888888888,\"#fdca26\"],[1.0,\"#f0f921\"]]}],\"mesh3d\":[{\"type\":\"mesh3d\",\"colorbar\":{\"outlinewidth\":0,\"ticks\":\"\"}}],\"scatter\":[{\"fillpattern\":{\"fillmode\":\"overlay\",\"size\":10,\"solidity\":0.2},\"type\":\"scatter\"}],\"parcoords\":[{\"type\":\"parcoords\",\"line\":{\"colorbar\":{\"outlinewidth\":0,\"ticks\":\"\"}}}],\"scatterpolargl\":[{\"type\":\"scatterpolargl\",\"marker\":{\"colorbar\":{\"outlinewidth\":0,\"ticks\":\"\"}}}],\"bar\":[{\"error_x\":{\"color\":\"#2a3f5f\"},\"error_y\":{\"color\":\"#2a3f5f\"},\"marker\":{\"line\":{\"color\":\"#E5ECF6\",\"width\":0.5},\"pattern\":{\"fillmode\":\"overlay\",\"size\":10,\"solidity\":0.2}},\"type\":\"bar\"}],\"scattergeo\":[{\"type\":\"scattergeo\",\"marker\":{\"colorbar\":{\"outlinewidth\":0,\"ticks\":\"\"}}}],\"scatterpolar\":[{\"type\":\"scatterpolar\",\"marker\":{\"colorbar\":{\"outlinewidth\":0,\"ticks\":\"\"}}}],\"histogram\":[{\"marker\":{\"pattern\":{\"fillmode\":\"overlay\",\"size\":10,\"solidity\":0.2}},\"type\":\"histogram\"}],\"scattergl\":[{\"type\":\"scattergl\",\"marker\":{\"colorbar\":{\"outlinewidth\":0,\"ticks\":\"\"}}}],\"scatter3d\":[{\"type\":\"scatter3d\",\"line\":{\"colorbar\":{\"outlinewidth\":0,\"ticks\":\"\"}},\"marker\":{\"colorbar\":{\"outlinewidth\":0,\"ticks\":\"\"}}}],\"scattermapbox\":[{\"type\":\"scattermapbox\",\"marker\":{\"colorbar\":{\"outlinewidth\":0,\"ticks\":\"\"}}}],\"scatterternary\":[{\"type\":\"scatterternary\",\"marker\":{\"colorbar\":{\"outlinewidth\":0,\"ticks\":\"\"}}}],\"scattercarpet\":[{\"type\":\"scattercarpet\",\"marker\":{\"colorbar\":{\"outlinewidth\":0,\"ticks\":\"\"}}}],\"carpet\":[{\"aaxis\":{\"endlinecolor\":\"#2a3f5f\",\"gridcolor\":\"white\",\"linecolor\":\"white\",\"minorgridcolor\":\"white\",\"startlinecolor\":\"#2a3f5f\"},\"baxis\":{\"endlinecolor\":\"#2a3f5f\",\"gridcolor\":\"white\",\"linecolor\":\"white\",\"minorgridcolor\":\"white\",\"startlinecolor\":\"#2a3f5f\"},\"type\":\"carpet\"}],\"table\":[{\"cells\":{\"fill\":{\"color\":\"#EBF0F8\"},\"line\":{\"color\":\"white\"}},\"header\":{\"fill\":{\"color\":\"#C8D4E3\"},\"line\":{\"color\":\"white\"}},\"type\":\"table\"}],\"barpolar\":[{\"marker\":{\"line\":{\"color\":\"#E5ECF6\",\"width\":0.5},\"pattern\":{\"fillmode\":\"overlay\",\"size\":10,\"solidity\":0.2}},\"type\":\"barpolar\"}],\"pie\":[{\"automargin\":true,\"type\":\"pie\"}]},\"layout\":{\"autotypenumbers\":\"strict\",\"colorway\":[\"#636efa\",\"#EF553B\",\"#00cc96\",\"#ab63fa\",\"#FFA15A\",\"#19d3f3\",\"#FF6692\",\"#B6E880\",\"#FF97FF\",\"#FECB52\"],\"font\":{\"color\":\"#2a3f5f\"},\"hovermode\":\"closest\",\"hoverlabel\":{\"align\":\"left\"},\"paper_bgcolor\":\"white\",\"plot_bgcolor\":\"#E5ECF6\",\"polar\":{\"bgcolor\":\"#E5ECF6\",\"angularaxis\":{\"gridcolor\":\"white\",\"linecolor\":\"white\",\"ticks\":\"\"},\"radialaxis\":{\"gridcolor\":\"white\",\"linecolor\":\"white\",\"ticks\":\"\"}},\"ternary\":{\"bgcolor\":\"#E5ECF6\",\"aaxis\":{\"gridcolor\":\"white\",\"linecolor\":\"white\",\"ticks\":\"\"},\"baxis\":{\"gridcolor\":\"white\",\"linecolor\":\"white\",\"ticks\":\"\"},\"caxis\":{\"gridcolor\":\"white\",\"linecolor\":\"white\",\"ticks\":\"\"}},\"coloraxis\":{\"colorbar\":{\"outlinewidth\":0,\"ticks\":\"\"}},\"colorscale\":{\"sequential\":[[0.0,\"#0d0887\"],[0.1111111111111111,\"#46039f\"],[0.2222222222222222,\"#7201a8\"],[0.3333333333333333,\"#9c179e\"],[0.4444444444444444,\"#bd3786\"],[0.5555555555555556,\"#d8576b\"],[0.6666666666666666,\"#ed7953\"],[0.7777777777777778,\"#fb9f3a\"],[0.8888888888888888,\"#fdca26\"],[1.0,\"#f0f921\"]],\"sequentialminus\":[[0.0,\"#0d0887\"],[0.1111111111111111,\"#46039f\"],[0.2222222222222222,\"#7201a8\"],[0.3333333333333333,\"#9c179e\"],[0.4444444444444444,\"#bd3786\"],[0.5555555555555556,\"#d8576b\"],[0.6666666666666666,\"#ed7953\"],[0.7777777777777778,\"#fb9f3a\"],[0.8888888888888888,\"#fdca26\"],[1.0,\"#f0f921\"]],\"diverging\":[[0,\"#8e0152\"],[0.1,\"#c51b7d\"],[0.2,\"#de77ae\"],[0.3,\"#f1b6da\"],[0.4,\"#fde0ef\"],[0.5,\"#f7f7f7\"],[0.6,\"#e6f5d0\"],[0.7,\"#b8e186\"],[0.8,\"#7fbc41\"],[0.9,\"#4d9221\"],[1,\"#276419\"]]},\"xaxis\":{\"gridcolor\":\"white\",\"linecolor\":\"white\",\"ticks\":\"\",\"title\":{\"standoff\":15},\"zerolinecolor\":\"white\",\"automargin\":true,\"zerolinewidth\":2},\"yaxis\":{\"gridcolor\":\"white\",\"linecolor\":\"white\",\"ticks\":\"\",\"title\":{\"standoff\":15},\"zerolinecolor\":\"white\",\"automargin\":true,\"zerolinewidth\":2},\"scene\":{\"xaxis\":{\"backgroundcolor\":\"#E5ECF6\",\"gridcolor\":\"white\",\"linecolor\":\"white\",\"showbackground\":true,\"ticks\":\"\",\"zerolinecolor\":\"white\",\"gridwidth\":2},\"yaxis\":{\"backgroundcolor\":\"#E5ECF6\",\"gridcolor\":\"white\",\"linecolor\":\"white\",\"showbackground\":true,\"ticks\":\"\",\"zerolinecolor\":\"white\",\"gridwidth\":2},\"zaxis\":{\"backgroundcolor\":\"#E5ECF6\",\"gridcolor\":\"white\",\"linecolor\":\"white\",\"showbackground\":true,\"ticks\":\"\",\"zerolinecolor\":\"white\",\"gridwidth\":2}},\"shapedefaults\":{\"line\":{\"color\":\"#2a3f5f\"}},\"annotationdefaults\":{\"arrowcolor\":\"#2a3f5f\",\"arrowhead\":0,\"arrowwidth\":1},\"geo\":{\"bgcolor\":\"white\",\"landcolor\":\"#E5ECF6\",\"subunitcolor\":\"white\",\"showland\":true,\"showlakes\":true,\"lakecolor\":\"white\"},\"title\":{\"x\":0.05},\"mapbox\":{\"style\":\"light\"}}},\"xaxis\":{\"anchor\":\"y\",\"domain\":[0.0,1.0],\"title\":{\"text\":\"Country\"}},\"yaxis\":{\"anchor\":\"x\",\"domain\":[0.0,1.0],\"title\":{\"text\":\"GDP Per Capita ($)\"}},\"legend\":{\"title\":{\"text\":\"Group\"},\"tracegroupgap\":0},\"title\":{\"text\":\"2023 GDP Per Capita of G7 and BRICS Countries\"},\"barmode\":\"relative\",\"height\":600,\"width\":1000},                        {\"responsive\": true}                    ).then(function(){\n",
              "                            \n",
              "var gd = document.getElementById('4f1d8253-d1dd-41ea-a40b-3a11c9786e7b');\n",
              "var x = new MutationObserver(function (mutations, observer) {{\n",
              "        var display = window.getComputedStyle(gd).display;\n",
              "        if (!display || display === 'none') {{\n",
              "            console.log([gd, 'removed!']);\n",
              "            Plotly.purge(gd);\n",
              "            observer.disconnect();\n",
              "        }}\n",
              "}});\n",
              "\n",
              "// Listen for the removal of the full notebook cells\n",
              "var notebookContainer = gd.closest('#notebook-container');\n",
              "if (notebookContainer) {{\n",
              "    x.observe(notebookContainer, {childList: true});\n",
              "}}\n",
              "\n",
              "// Listen for the clearing of the current output cell\n",
              "var outputEl = gd.closest('.output');\n",
              "if (outputEl) {{\n",
              "    x.observe(outputEl, {childList: true});\n",
              "}}\n",
              "\n",
              "                        })                };                            </script>        </div>\n",
              "</body>\n",
              "</html>"
            ]
          },
          "metadata": {}
        }
      ]
    },
    {
      "cell_type": "markdown",
      "source": [
        "## Step 16 - Create a Choropleth\n",
        "\n",
        "To show G7 countries and BRICS countries and use color code to differentiate the two broups."
      ],
      "metadata": {
        "id": "CmjFNzfSIQLr"
      }
    },
    {
      "cell_type": "code",
      "execution_count": 19,
      "metadata": {
        "id": "fjaqVU1hxfX5",
        "outputId": "29ece50a-f939-41d1-f1d8-4c5913032428",
        "colab": {
          "base_uri": "https://localhost:8080/",
          "height": 562
        }
      },
      "outputs": [
        {
          "output_type": "display_data",
          "data": {
            "text/html": [
              "<html>\n",
              "<head><meta charset=\"utf-8\" /></head>\n",
              "<body>\n",
              "    <div>            <script src=\"https://cdnjs.cloudflare.com/ajax/libs/mathjax/2.7.5/MathJax.js?config=TeX-AMS-MML_SVG\"></script><script type=\"text/javascript\">if (window.MathJax && window.MathJax.Hub && window.MathJax.Hub.Config) {window.MathJax.Hub.Config({SVG: {font: \"STIX-Web\"}});}</script>                <script type=\"text/javascript\">window.PlotlyConfig = {MathJaxConfig: 'local'};</script>\n",
              "        <script charset=\"utf-8\" src=\"https://cdn.plot.ly/plotly-2.35.2.min.js\"></script>                <div id=\"04a4bd99-89ac-4386-b866-6c07c1dac0d1\" class=\"plotly-graph-div\" style=\"height:525px; width:100%;\"></div>            <script type=\"text/javascript\">                                    window.PLOTLYENV=window.PLOTLYENV || {};                                    if (document.getElementById(\"04a4bd99-89ac-4386-b866-6c07c1dac0d1\")) {                    Plotly.newPlot(                        \"04a4bd99-89ac-4386-b866-6c07c1dac0d1\",                        [{\"colorscale\":[[0.0,\"red\"],[1.0,\"red\"]],\"customdata\":[[\"BRICS\",655.448231983527],[\"BRICS\",1211.3316518660902],[\"BRICS\",468.395521654458],[\"BRICS\",151.752757215309],[\"BRICS\",559.9836347989809],[\"BRICS\",1339.40089710511],[\"BRICS\",485.44013920417103],[\"BRICS\",135.429905922526],[\"BRICS\",509.79527380671504],[\"BRICS\",1470.55765479995],[\"BRICS\",514.939140318756],[\"BRICS\",129.087556612449],[\"BRICS\",558.2337456518741],[\"BRICS\",1660.28054384679],[\"BRICS\",607.700687237318],[\"BRICS\",197.01896530869695],[\"BRICS\",669.289424806307],[\"BRICS\",1955.34676872139],[\"BRICS\",709.152728830775],[\"BRICS\",255.806908594573],[\"BRICS\",891.633839853105],[\"BRICS\",2285.96114987985],[\"BRICS\",820.383763511445],[\"BRICS\",288.867217196534],[\"BRICS\",1107.62654171074],[\"BRICS\",2752.11865718402],[\"BRICS\",940.2598887877208],[\"BRICS\",303.858675363643],[\"BRICS\",1397.11448647138],[\"BRICS\",3550.3278029984],[\"BRICS\",1216.73643883496],[\"BRICS\",333.07711725368404],[\"BRICS\",1695.85508355205],[\"BRICS\",4594.33678573767],[\"BRICS\",1198.89513900592],[\"BRICS\",316.131258616309],[\"BRICS\",1666.99643868146],[\"BRICS\",5101.69112428521],[\"BRICS\",1341.8880169949],[\"BRICS\",329.75406064712905],[\"BRICS\",2208.83774521423],[\"BRICS\",6087.19174667949],[\"BRICS\",1675.61551948496],[\"BRICS\",417.363822801713],[\"BRICS\",2616.1562239774703],[\"BRICS\",7551.54570344075],[\"BRICS\",1823.05182989513],[\"BRICS\",458.199494830834],[\"BRICS\",2465.22780301157],[\"BRICS\",8532.18538168059],[\"BRICS\",1827.63759041095],[\"BRICS\",434.40054508581096],[\"BRICS\",2472.81953574273],[\"BRICS\",9570.47111183168],[\"BRICS\",1856.72150762146],[\"BRICS\",400.886013595573],[\"BRICS\",2456.0437271988503],[\"BRICS\",10475.6249443552],[\"BRICS\",2039.12647915527],[\"BRICS\",381.198869776106],[\"BRICS\",1802.21220690468],[\"BRICS\",11061.5726185787],[\"BRICS\",2103.58836004439],[\"BRICS\",346.70979045856296],[\"BRICS\",1795.69348265252],[\"BRICS\",11233.3137303487],[\"BRICS\",2294.79688566367],[\"BRICS\",323.58550967448105],[\"BRICS\",2063.51497733432],[\"BRICS\",12310.4913339809],[\"BRICS\",2651.4742627555897],[\"BRICS\",381.448814653456],[\"BRICS\",1916.93389803836],[\"BRICS\",13894.9078578806],[\"BRICS\",2702.92964164814],[\"BRICS\",405.260723892517],[\"BRICS\",1873.2882051864497],[\"BRICS\",14279.9685062717],[\"BRICS\",2835.60625655884],[\"BRICS\",389.33003222426896],[\"BRICS\",1476.10723119411],[\"BRICS\",14687.744162801],[\"BRICS\",2674.85157858686],[\"BRICS\",338.291396026698],[\"BRICS\",1670.64739903467],[\"BRICS\",17820.4595088522],[\"BRICS\",3167.27062326052],[\"BRICS\",420.117812466041],[\"BRICS\",1951.92394208332],[\"BRICS\",17881.783387000898],[\"BRICS\",3353.47049688595],[\"BRICS\",405.270850098738],[\"BRICS\",2173.66565593727],[\"BRICS\",17794.7819861045],[\"BRICS\",3549.9189187775296],[\"BRICS\",377.781600985873]],\"geo\":\"geo\",\"hovertemplate\":\"\\u003cb\\u003e%{hovertext}\\u003c\\u002fb\\u003e\\u003cbr\\u003e\\u003cbr\\u003eGroup=%{customdata[0]}\\u003cbr\\u003eCountry Name=%{location}\\u003cbr\\u003eGDP ($Billions)=%{customdata[1]}\\u003cextra\\u003e\\u003c\\u002fextra\\u003e\",\"hovertext\":[\"Brazil\",\"China\",\"India\",\"South Africa\",\"Brazil\",\"China\",\"India\",\"South Africa\",\"Brazil\",\"China\",\"India\",\"South Africa\",\"Brazil\",\"China\",\"India\",\"South Africa\",\"Brazil\",\"China\",\"India\",\"South Africa\",\"Brazil\",\"China\",\"India\",\"South Africa\",\"Brazil\",\"China\",\"India\",\"South Africa\",\"Brazil\",\"China\",\"India\",\"South Africa\",\"Brazil\",\"China\",\"India\",\"South Africa\",\"Brazil\",\"China\",\"India\",\"South Africa\",\"Brazil\",\"China\",\"India\",\"South Africa\",\"Brazil\",\"China\",\"India\",\"South Africa\",\"Brazil\",\"China\",\"India\",\"South Africa\",\"Brazil\",\"China\",\"India\",\"South Africa\",\"Brazil\",\"China\",\"India\",\"South Africa\",\"Brazil\",\"China\",\"India\",\"South Africa\",\"Brazil\",\"China\",\"India\",\"South Africa\",\"Brazil\",\"China\",\"India\",\"South Africa\",\"Brazil\",\"China\",\"India\",\"South Africa\",\"Brazil\",\"China\",\"India\",\"South Africa\",\"Brazil\",\"China\",\"India\",\"South Africa\",\"Brazil\",\"China\",\"India\",\"South Africa\",\"Brazil\",\"China\",\"India\",\"South Africa\",\"Brazil\",\"China\",\"India\",\"South Africa\"],\"locationmode\":\"country names\",\"locations\":[\"Brazil\",\"China\",\"India\",\"South Africa\",\"Brazil\",\"China\",\"India\",\"South Africa\",\"Brazil\",\"China\",\"India\",\"South Africa\",\"Brazil\",\"China\",\"India\",\"South Africa\",\"Brazil\",\"China\",\"India\",\"South Africa\",\"Brazil\",\"China\",\"India\",\"South Africa\",\"Brazil\",\"China\",\"India\",\"South Africa\",\"Brazil\",\"China\",\"India\",\"South Africa\",\"Brazil\",\"China\",\"India\",\"South Africa\",\"Brazil\",\"China\",\"India\",\"South Africa\",\"Brazil\",\"China\",\"India\",\"South Africa\",\"Brazil\",\"China\",\"India\",\"South Africa\",\"Brazil\",\"China\",\"India\",\"South Africa\",\"Brazil\",\"China\",\"India\",\"South Africa\",\"Brazil\",\"China\",\"India\",\"South Africa\",\"Brazil\",\"China\",\"India\",\"South Africa\",\"Brazil\",\"China\",\"India\",\"South Africa\",\"Brazil\",\"China\",\"India\",\"South Africa\",\"Brazil\",\"China\",\"India\",\"South Africa\",\"Brazil\",\"China\",\"India\",\"South Africa\",\"Brazil\",\"China\",\"India\",\"South Africa\",\"Brazil\",\"China\",\"India\",\"South Africa\",\"Brazil\",\"China\",\"India\",\"South Africa\",\"Brazil\",\"China\",\"India\",\"South Africa\"],\"name\":\"BRICS\",\"showlegend\":true,\"showscale\":false,\"z\":[1,1,1,1,1,1,1,1,1,1,1,1,1,1,1,1,1,1,1,1,1,1,1,1,1,1,1,1,1,1,1,1,1,1,1,1,1,1,1,1,1,1,1,1,1,1,1,1,1,1,1,1,1,1,1,1,1,1,1,1,1,1,1,1,1,1,1,1,1,1,1,1,1,1,1,1,1,1,1,1,1,1,1,1,1,1,1,1,1,1,1,1,1,1,1,1],\"type\":\"choropleth\"},{\"colorscale\":[[0.0,\"blue\"],[1.0,\"blue\"]],\"customdata\":[[\"G7\",744.773415931587],[\"G7\",1947.98199101177],[\"G7\",1365.63966079216],[\"G7\",1665.53487668331],[\"G7\",1146.67689420973],[\"G7\",4968.35907595659],[\"G7\",10250.952],[\"G7\",738.9817923553719],[\"G7\",1945.7909738031497],[\"G7\",1377.65733929134],[\"G7\",1649.82726356701],[\"G7\",1168.0234260563798],[\"G7\",4374.71169409087],[\"G7\",10581.929],[\"G7\",760.649334098005],[\"G7\",2078.48451747451],[\"G7\",1501.40938297138],[\"G7\",1785.7299160671498],[\"G7\",1276.7693384493],[\"G7\",4182.84604587361],[\"G7\",10929.108],[\"G7\",895.540646634787],[\"G7\",2501.6403884823503],[\"G7\",1844.54479203686],[\"G7\",2054.4228571428603],[\"G7\",1577.62170705051],[\"G7\",4519.5616452535305],[\"G7\",11456.45],[\"G7\",1026.69023827825],[\"G7\",2814.35386935908],[\"G7\",2119.63318163437],[\"G7\",2421.5250823874],[\"G7\",1806.54296854556],[\"G7\",4893.11600565656],[\"G7\",12217.196],[\"G7\",1173.1085987786798],[\"G7\",2846.8642111751],[\"G7\",2196.9452324358],[\"G7\",2543.18],[\"G7\",1858.21714720373],[\"G7\",4831.4670353898],[\"G7\",13039.197],[\"G7\",1319.26480959097],[\"G7\",2994.70364202353],[\"G7\",2320.5362213047],[\"G7\",2708.44158233671],[\"G7\",1949.55171938964],[\"G7\",4601.66312264992],[\"G7\",13815.583],[\"G7\",1468.82040778326],[\"G7\",3425.57838292158],[\"G7\",2660.59124621177],[\"G7\",3090.51020408163],[\"G7\",2213.10248275146],[\"G7\",4579.75092035481],[\"G7\",14474.228],[\"G7\",1552.9896907216498],[\"G7\",3745.26409361719],[\"G7\",2930.30378082812],[\"G7\",2929.41176470588],[\"G7\",2408.6553487185897],[\"G7\",5106.6791151273],[\"G7\",14769.862],[\"G7\",1374.62514215729],[\"G7\",3411.26121265234],[\"G7\",2700.8873669320296],[\"G7\",2412.8400062315],[\"G7\",2199.92880411863],[\"G7\",5289.493117993889],[\"G7\",14478.067],[\"G7\",1617.34336748626],[\"G7\",3399.6678200000097],[\"G7\",2645.1878821166697],[\"G7\",2485.48259618471],[\"G7\",2136.0999552366698],[\"G7\",5759.071769013111],[\"G7\",15048.971],[\"G7\",1793.32663017452],[\"G7\",3749.31499105059],[\"G7\",2865.15754199417],[\"G7\",2663.8058348280697],[\"G7\",2294.9942965895],[\"G7\",6233.14717234135],[\"G7\",15599.732],[\"G7\",1828.3664815216],[\"G7\",3527.14318878516],[\"G7\",2683.67171696719],[\"G7\",2707.0897266146403],[\"G7\",2086.9576568216003],[\"G7\",6272.36299610503],[\"G7\",16253.97],[\"G7\",1846.59742183498],[\"G7\",3733.80464954903],[\"G7\",2811.8769033290296],[\"G7\",2784.85350253429],[\"G7\",2141.92409429856],[\"G7\",5212.32818116618],[\"G7\",16880.683],[\"G7\",1805.74987843994],[\"G7\",3889.09305102352],[\"G7\",2855.96448859019],[\"G7\",3064.70824792143],[\"G7\",2162.00961599654],[\"G7\",4896.99440535329],[\"G7\",17608.138],[\"G7\",1556.5088162171398],[\"G7\",3357.58571935156],[\"G7\",2439.1886431625],[\"G7\",2927.91114091673],[\"G7\",1836.63771106055],[\"G7\",4444.93065196418],[\"G7\",18295.019],[\"G7\",1527.99474190743],[\"G7\",3469.8534639455297],[\"G7\",2472.9643445871698],[\"G7\",2689.10656689961],[\"G7\",1877.07168763378],[\"G7\",5003.67762754424],[\"G7\",18804.913],[\"G7\",1649.26564424409],[\"G7\",3690.84915251765],[\"G7\",2595.15104519765],[\"G7\",2680.1480523353],[\"G7\",1961.79619735436],[\"G7\",4930.83736915142],[\"G7\",19612.102],[\"G7\",1725.32919278302],[\"G7\",3974.4433550196],[\"G7\",2790.95687874666],[\"G7\",2871.34034758179],[\"G7\",2091.93242626698],[\"G7\",5040.88093932486],[\"G7\",20656.516],[\"G7\",1743.72518367252],[\"G7\",3889.1775892549],[\"G7\",2728.87024670588],[\"G7\",2851.40716490781],[\"G7\",2011.30219882745],[\"G7\",5117.99385301651],[\"G7\",21521.395],[\"G7\",1655.68473000019],[\"G7\",3887.7271619144094],[\"G7\",2647.41869159845],[\"G7\",2697.80659229386],[\"G7\",1897.46163559191],[\"G7\",5055.58709350159],[\"G7\",21322.95],[\"G7\",2007.4721814641496],[\"G7\",4278.50393468985],[\"G7\",2959.3558191705],[\"G7\",3141.5061566187],[\"G7\",2154.87549374493],[\"G7\",5034.62078458498],[\"G7\",23594.031],[\"G7\",2161.48336942201],[\"G7\",4082.46949079768],[\"G7\",2779.09223650585],[\"G7\",3088.83976344502],[\"G7\",2066.9720965537],[\"G7\",4256.41076072375],[\"G7\",25744.108],[\"G7\",2140.08556779145],[\"G7\",4456.08101670596],[\"G7\",3030.9040896079],[\"G7\",3340.03238066804],[\"G7\",2254.8512127318],[\"G7\",4212.9451597814],[\"G7\",27360.935]],\"geo\":\"geo\",\"hovertemplate\":\"\\u003cb\\u003e%{hovertext}\\u003c\\u002fb\\u003e\\u003cbr\\u003e\\u003cbr\\u003eGroup=%{customdata[0]}\\u003cbr\\u003eCountry Name=%{location}\\u003cbr\\u003eGDP ($Billions)=%{customdata[1]}\\u003cextra\\u003e\\u003c\\u002fextra\\u003e\",\"hovertext\":[\"Canada\",\"Germany\",\"France\",\"United Kingdom\",\"Italy\",\"Japan\",\"United States\",\"Canada\",\"Germany\",\"France\",\"United Kingdom\",\"Italy\",\"Japan\",\"United States\",\"Canada\",\"Germany\",\"France\",\"United Kingdom\",\"Italy\",\"Japan\",\"United States\",\"Canada\",\"Germany\",\"France\",\"United Kingdom\",\"Italy\",\"Japan\",\"United States\",\"Canada\",\"Germany\",\"France\",\"United Kingdom\",\"Italy\",\"Japan\",\"United States\",\"Canada\",\"Germany\",\"France\",\"United Kingdom\",\"Italy\",\"Japan\",\"United States\",\"Canada\",\"Germany\",\"France\",\"United Kingdom\",\"Italy\",\"Japan\",\"United States\",\"Canada\",\"Germany\",\"France\",\"United Kingdom\",\"Italy\",\"Japan\",\"United States\",\"Canada\",\"Germany\",\"France\",\"United Kingdom\",\"Italy\",\"Japan\",\"United States\",\"Canada\",\"Germany\",\"France\",\"United Kingdom\",\"Italy\",\"Japan\",\"United States\",\"Canada\",\"Germany\",\"France\",\"United Kingdom\",\"Italy\",\"Japan\",\"United States\",\"Canada\",\"Germany\",\"France\",\"United Kingdom\",\"Italy\",\"Japan\",\"United States\",\"Canada\",\"Germany\",\"France\",\"United Kingdom\",\"Italy\",\"Japan\",\"United States\",\"Canada\",\"Germany\",\"France\",\"United Kingdom\",\"Italy\",\"Japan\",\"United States\",\"Canada\",\"Germany\",\"France\",\"United Kingdom\",\"Italy\",\"Japan\",\"United States\",\"Canada\",\"Germany\",\"France\",\"United Kingdom\",\"Italy\",\"Japan\",\"United States\",\"Canada\",\"Germany\",\"France\",\"United Kingdom\",\"Italy\",\"Japan\",\"United States\",\"Canada\",\"Germany\",\"France\",\"United Kingdom\",\"Italy\",\"Japan\",\"United States\",\"Canada\",\"Germany\",\"France\",\"United Kingdom\",\"Italy\",\"Japan\",\"United States\",\"Canada\",\"Germany\",\"France\",\"United Kingdom\",\"Italy\",\"Japan\",\"United States\",\"Canada\",\"Germany\",\"France\",\"United Kingdom\",\"Italy\",\"Japan\",\"United States\",\"Canada\",\"Germany\",\"France\",\"United Kingdom\",\"Italy\",\"Japan\",\"United States\",\"Canada\",\"Germany\",\"France\",\"United Kingdom\",\"Italy\",\"Japan\",\"United States\",\"Canada\",\"Germany\",\"France\",\"United Kingdom\",\"Italy\",\"Japan\",\"United States\"],\"locationmode\":\"country names\",\"locations\":[\"Canada\",\"Germany\",\"France\",\"United Kingdom\",\"Italy\",\"Japan\",\"United States\",\"Canada\",\"Germany\",\"France\",\"United Kingdom\",\"Italy\",\"Japan\",\"United States\",\"Canada\",\"Germany\",\"France\",\"United Kingdom\",\"Italy\",\"Japan\",\"United States\",\"Canada\",\"Germany\",\"France\",\"United Kingdom\",\"Italy\",\"Japan\",\"United States\",\"Canada\",\"Germany\",\"France\",\"United Kingdom\",\"Italy\",\"Japan\",\"United States\",\"Canada\",\"Germany\",\"France\",\"United Kingdom\",\"Italy\",\"Japan\",\"United States\",\"Canada\",\"Germany\",\"France\",\"United Kingdom\",\"Italy\",\"Japan\",\"United States\",\"Canada\",\"Germany\",\"France\",\"United Kingdom\",\"Italy\",\"Japan\",\"United States\",\"Canada\",\"Germany\",\"France\",\"United Kingdom\",\"Italy\",\"Japan\",\"United States\",\"Canada\",\"Germany\",\"France\",\"United Kingdom\",\"Italy\",\"Japan\",\"United States\",\"Canada\",\"Germany\",\"France\",\"United Kingdom\",\"Italy\",\"Japan\",\"United States\",\"Canada\",\"Germany\",\"France\",\"United Kingdom\",\"Italy\",\"Japan\",\"United States\",\"Canada\",\"Germany\",\"France\",\"United Kingdom\",\"Italy\",\"Japan\",\"United States\",\"Canada\",\"Germany\",\"France\",\"United Kingdom\",\"Italy\",\"Japan\",\"United States\",\"Canada\",\"Germany\",\"France\",\"United Kingdom\",\"Italy\",\"Japan\",\"United States\",\"Canada\",\"Germany\",\"France\",\"United Kingdom\",\"Italy\",\"Japan\",\"United States\",\"Canada\",\"Germany\",\"France\",\"United Kingdom\",\"Italy\",\"Japan\",\"United States\",\"Canada\",\"Germany\",\"France\",\"United Kingdom\",\"Italy\",\"Japan\",\"United States\",\"Canada\",\"Germany\",\"France\",\"United Kingdom\",\"Italy\",\"Japan\",\"United States\",\"Canada\",\"Germany\",\"France\",\"United Kingdom\",\"Italy\",\"Japan\",\"United States\",\"Canada\",\"Germany\",\"France\",\"United Kingdom\",\"Italy\",\"Japan\",\"United States\",\"Canada\",\"Germany\",\"France\",\"United Kingdom\",\"Italy\",\"Japan\",\"United States\",\"Canada\",\"Germany\",\"France\",\"United Kingdom\",\"Italy\",\"Japan\",\"United States\",\"Canada\",\"Germany\",\"France\",\"United Kingdom\",\"Italy\",\"Japan\",\"United States\"],\"name\":\"G7\",\"showlegend\":true,\"showscale\":false,\"z\":[1,1,1,1,1,1,1,1,1,1,1,1,1,1,1,1,1,1,1,1,1,1,1,1,1,1,1,1,1,1,1,1,1,1,1,1,1,1,1,1,1,1,1,1,1,1,1,1,1,1,1,1,1,1,1,1,1,1,1,1,1,1,1,1,1,1,1,1,1,1,1,1,1,1,1,1,1,1,1,1,1,1,1,1,1,1,1,1,1,1,1,1,1,1,1,1,1,1,1,1,1,1,1,1,1,1,1,1,1,1,1,1,1,1,1,1,1,1,1,1,1,1,1,1,1,1,1,1,1,1,1,1,1,1,1,1,1,1,1,1,1,1,1,1,1,1,1,1,1,1,1,1,1,1,1,1,1,1,1,1,1,1,1,1,1,1,1,1],\"type\":\"choropleth\"}],                        {\"template\":{\"data\":{\"histogram2dcontour\":[{\"type\":\"histogram2dcontour\",\"colorbar\":{\"outlinewidth\":0,\"ticks\":\"\"},\"colorscale\":[[0.0,\"#0d0887\"],[0.1111111111111111,\"#46039f\"],[0.2222222222222222,\"#7201a8\"],[0.3333333333333333,\"#9c179e\"],[0.4444444444444444,\"#bd3786\"],[0.5555555555555556,\"#d8576b\"],[0.6666666666666666,\"#ed7953\"],[0.7777777777777778,\"#fb9f3a\"],[0.8888888888888888,\"#fdca26\"],[1.0,\"#f0f921\"]]}],\"choropleth\":[{\"type\":\"choropleth\",\"colorbar\":{\"outlinewidth\":0,\"ticks\":\"\"}}],\"histogram2d\":[{\"type\":\"histogram2d\",\"colorbar\":{\"outlinewidth\":0,\"ticks\":\"\"},\"colorscale\":[[0.0,\"#0d0887\"],[0.1111111111111111,\"#46039f\"],[0.2222222222222222,\"#7201a8\"],[0.3333333333333333,\"#9c179e\"],[0.4444444444444444,\"#bd3786\"],[0.5555555555555556,\"#d8576b\"],[0.6666666666666666,\"#ed7953\"],[0.7777777777777778,\"#fb9f3a\"],[0.8888888888888888,\"#fdca26\"],[1.0,\"#f0f921\"]]}],\"heatmap\":[{\"type\":\"heatmap\",\"colorbar\":{\"outlinewidth\":0,\"ticks\":\"\"},\"colorscale\":[[0.0,\"#0d0887\"],[0.1111111111111111,\"#46039f\"],[0.2222222222222222,\"#7201a8\"],[0.3333333333333333,\"#9c179e\"],[0.4444444444444444,\"#bd3786\"],[0.5555555555555556,\"#d8576b\"],[0.6666666666666666,\"#ed7953\"],[0.7777777777777778,\"#fb9f3a\"],[0.8888888888888888,\"#fdca26\"],[1.0,\"#f0f921\"]]}],\"heatmapgl\":[{\"type\":\"heatmapgl\",\"colorbar\":{\"outlinewidth\":0,\"ticks\":\"\"},\"colorscale\":[[0.0,\"#0d0887\"],[0.1111111111111111,\"#46039f\"],[0.2222222222222222,\"#7201a8\"],[0.3333333333333333,\"#9c179e\"],[0.4444444444444444,\"#bd3786\"],[0.5555555555555556,\"#d8576b\"],[0.6666666666666666,\"#ed7953\"],[0.7777777777777778,\"#fb9f3a\"],[0.8888888888888888,\"#fdca26\"],[1.0,\"#f0f921\"]]}],\"contourcarpet\":[{\"type\":\"contourcarpet\",\"colorbar\":{\"outlinewidth\":0,\"ticks\":\"\"}}],\"contour\":[{\"type\":\"contour\",\"colorbar\":{\"outlinewidth\":0,\"ticks\":\"\"},\"colorscale\":[[0.0,\"#0d0887\"],[0.1111111111111111,\"#46039f\"],[0.2222222222222222,\"#7201a8\"],[0.3333333333333333,\"#9c179e\"],[0.4444444444444444,\"#bd3786\"],[0.5555555555555556,\"#d8576b\"],[0.6666666666666666,\"#ed7953\"],[0.7777777777777778,\"#fb9f3a\"],[0.8888888888888888,\"#fdca26\"],[1.0,\"#f0f921\"]]}],\"surface\":[{\"type\":\"surface\",\"colorbar\":{\"outlinewidth\":0,\"ticks\":\"\"},\"colorscale\":[[0.0,\"#0d0887\"],[0.1111111111111111,\"#46039f\"],[0.2222222222222222,\"#7201a8\"],[0.3333333333333333,\"#9c179e\"],[0.4444444444444444,\"#bd3786\"],[0.5555555555555556,\"#d8576b\"],[0.6666666666666666,\"#ed7953\"],[0.7777777777777778,\"#fb9f3a\"],[0.8888888888888888,\"#fdca26\"],[1.0,\"#f0f921\"]]}],\"mesh3d\":[{\"type\":\"mesh3d\",\"colorbar\":{\"outlinewidth\":0,\"ticks\":\"\"}}],\"scatter\":[{\"fillpattern\":{\"fillmode\":\"overlay\",\"size\":10,\"solidity\":0.2},\"type\":\"scatter\"}],\"parcoords\":[{\"type\":\"parcoords\",\"line\":{\"colorbar\":{\"outlinewidth\":0,\"ticks\":\"\"}}}],\"scatterpolargl\":[{\"type\":\"scatterpolargl\",\"marker\":{\"colorbar\":{\"outlinewidth\":0,\"ticks\":\"\"}}}],\"bar\":[{\"error_x\":{\"color\":\"#2a3f5f\"},\"error_y\":{\"color\":\"#2a3f5f\"},\"marker\":{\"line\":{\"color\":\"#E5ECF6\",\"width\":0.5},\"pattern\":{\"fillmode\":\"overlay\",\"size\":10,\"solidity\":0.2}},\"type\":\"bar\"}],\"scattergeo\":[{\"type\":\"scattergeo\",\"marker\":{\"colorbar\":{\"outlinewidth\":0,\"ticks\":\"\"}}}],\"scatterpolar\":[{\"type\":\"scatterpolar\",\"marker\":{\"colorbar\":{\"outlinewidth\":0,\"ticks\":\"\"}}}],\"histogram\":[{\"marker\":{\"pattern\":{\"fillmode\":\"overlay\",\"size\":10,\"solidity\":0.2}},\"type\":\"histogram\"}],\"scattergl\":[{\"type\":\"scattergl\",\"marker\":{\"colorbar\":{\"outlinewidth\":0,\"ticks\":\"\"}}}],\"scatter3d\":[{\"type\":\"scatter3d\",\"line\":{\"colorbar\":{\"outlinewidth\":0,\"ticks\":\"\"}},\"marker\":{\"colorbar\":{\"outlinewidth\":0,\"ticks\":\"\"}}}],\"scattermapbox\":[{\"type\":\"scattermapbox\",\"marker\":{\"colorbar\":{\"outlinewidth\":0,\"ticks\":\"\"}}}],\"scatterternary\":[{\"type\":\"scatterternary\",\"marker\":{\"colorbar\":{\"outlinewidth\":0,\"ticks\":\"\"}}}],\"scattercarpet\":[{\"type\":\"scattercarpet\",\"marker\":{\"colorbar\":{\"outlinewidth\":0,\"ticks\":\"\"}}}],\"carpet\":[{\"aaxis\":{\"endlinecolor\":\"#2a3f5f\",\"gridcolor\":\"white\",\"linecolor\":\"white\",\"minorgridcolor\":\"white\",\"startlinecolor\":\"#2a3f5f\"},\"baxis\":{\"endlinecolor\":\"#2a3f5f\",\"gridcolor\":\"white\",\"linecolor\":\"white\",\"minorgridcolor\":\"white\",\"startlinecolor\":\"#2a3f5f\"},\"type\":\"carpet\"}],\"table\":[{\"cells\":{\"fill\":{\"color\":\"#EBF0F8\"},\"line\":{\"color\":\"white\"}},\"header\":{\"fill\":{\"color\":\"#C8D4E3\"},\"line\":{\"color\":\"white\"}},\"type\":\"table\"}],\"barpolar\":[{\"marker\":{\"line\":{\"color\":\"#E5ECF6\",\"width\":0.5},\"pattern\":{\"fillmode\":\"overlay\",\"size\":10,\"solidity\":0.2}},\"type\":\"barpolar\"}],\"pie\":[{\"automargin\":true,\"type\":\"pie\"}]},\"layout\":{\"autotypenumbers\":\"strict\",\"colorway\":[\"#636efa\",\"#EF553B\",\"#00cc96\",\"#ab63fa\",\"#FFA15A\",\"#19d3f3\",\"#FF6692\",\"#B6E880\",\"#FF97FF\",\"#FECB52\"],\"font\":{\"color\":\"#2a3f5f\"},\"hovermode\":\"closest\",\"hoverlabel\":{\"align\":\"left\"},\"paper_bgcolor\":\"white\",\"plot_bgcolor\":\"#E5ECF6\",\"polar\":{\"bgcolor\":\"#E5ECF6\",\"angularaxis\":{\"gridcolor\":\"white\",\"linecolor\":\"white\",\"ticks\":\"\"},\"radialaxis\":{\"gridcolor\":\"white\",\"linecolor\":\"white\",\"ticks\":\"\"}},\"ternary\":{\"bgcolor\":\"#E5ECF6\",\"aaxis\":{\"gridcolor\":\"white\",\"linecolor\":\"white\",\"ticks\":\"\"},\"baxis\":{\"gridcolor\":\"white\",\"linecolor\":\"white\",\"ticks\":\"\"},\"caxis\":{\"gridcolor\":\"white\",\"linecolor\":\"white\",\"ticks\":\"\"}},\"coloraxis\":{\"colorbar\":{\"outlinewidth\":0,\"ticks\":\"\"}},\"colorscale\":{\"sequential\":[[0.0,\"#0d0887\"],[0.1111111111111111,\"#46039f\"],[0.2222222222222222,\"#7201a8\"],[0.3333333333333333,\"#9c179e\"],[0.4444444444444444,\"#bd3786\"],[0.5555555555555556,\"#d8576b\"],[0.6666666666666666,\"#ed7953\"],[0.7777777777777778,\"#fb9f3a\"],[0.8888888888888888,\"#fdca26\"],[1.0,\"#f0f921\"]],\"sequentialminus\":[[0.0,\"#0d0887\"],[0.1111111111111111,\"#46039f\"],[0.2222222222222222,\"#7201a8\"],[0.3333333333333333,\"#9c179e\"],[0.4444444444444444,\"#bd3786\"],[0.5555555555555556,\"#d8576b\"],[0.6666666666666666,\"#ed7953\"],[0.7777777777777778,\"#fb9f3a\"],[0.8888888888888888,\"#fdca26\"],[1.0,\"#f0f921\"]],\"diverging\":[[0,\"#8e0152\"],[0.1,\"#c51b7d\"],[0.2,\"#de77ae\"],[0.3,\"#f1b6da\"],[0.4,\"#fde0ef\"],[0.5,\"#f7f7f7\"],[0.6,\"#e6f5d0\"],[0.7,\"#b8e186\"],[0.8,\"#7fbc41\"],[0.9,\"#4d9221\"],[1,\"#276419\"]]},\"xaxis\":{\"gridcolor\":\"white\",\"linecolor\":\"white\",\"ticks\":\"\",\"title\":{\"standoff\":15},\"zerolinecolor\":\"white\",\"automargin\":true,\"zerolinewidth\":2},\"yaxis\":{\"gridcolor\":\"white\",\"linecolor\":\"white\",\"ticks\":\"\",\"title\":{\"standoff\":15},\"zerolinecolor\":\"white\",\"automargin\":true,\"zerolinewidth\":2},\"scene\":{\"xaxis\":{\"backgroundcolor\":\"#E5ECF6\",\"gridcolor\":\"white\",\"linecolor\":\"white\",\"showbackground\":true,\"ticks\":\"\",\"zerolinecolor\":\"white\",\"gridwidth\":2},\"yaxis\":{\"backgroundcolor\":\"#E5ECF6\",\"gridcolor\":\"white\",\"linecolor\":\"white\",\"showbackground\":true,\"ticks\":\"\",\"zerolinecolor\":\"white\",\"gridwidth\":2},\"zaxis\":{\"backgroundcolor\":\"#E5ECF6\",\"gridcolor\":\"white\",\"linecolor\":\"white\",\"showbackground\":true,\"ticks\":\"\",\"zerolinecolor\":\"white\",\"gridwidth\":2}},\"shapedefaults\":{\"line\":{\"color\":\"#2a3f5f\"}},\"annotationdefaults\":{\"arrowcolor\":\"#2a3f5f\",\"arrowhead\":0,\"arrowwidth\":1},\"geo\":{\"bgcolor\":\"white\",\"landcolor\":\"#E5ECF6\",\"subunitcolor\":\"white\",\"showland\":true,\"showlakes\":true,\"lakecolor\":\"white\"},\"title\":{\"x\":0.05},\"mapbox\":{\"style\":\"light\"}}},\"geo\":{\"domain\":{\"x\":[0.0,1.0],\"y\":[0.0,1.0]},\"center\":{}},\"legend\":{\"title\":{\"text\":\"Group\"},\"tracegroupgap\":0},\"title\":{\"text\":\"G7 and BRICS Countries\"}},                        {\"responsive\": true}                    ).then(function(){\n",
              "                            \n",
              "var gd = document.getElementById('04a4bd99-89ac-4386-b866-6c07c1dac0d1');\n",
              "var x = new MutationObserver(function (mutations, observer) {{\n",
              "        var display = window.getComputedStyle(gd).display;\n",
              "        if (!display || display === 'none') {{\n",
              "            console.log([gd, 'removed!']);\n",
              "            Plotly.purge(gd);\n",
              "            observer.disconnect();\n",
              "        }}\n",
              "}});\n",
              "\n",
              "// Listen for the removal of the full notebook cells\n",
              "var notebookContainer = gd.closest('#notebook-container');\n",
              "if (notebookContainer) {{\n",
              "    x.observe(notebookContainer, {childList: true});\n",
              "}}\n",
              "\n",
              "// Listen for the clearing of the current output cell\n",
              "var outputEl = gd.closest('.output');\n",
              "if (outputEl) {{\n",
              "    x.observe(outputEl, {childList: true});\n",
              "}}\n",
              "\n",
              "                        })                };                            </script>        </div>\n",
              "</body>\n",
              "</html>"
            ]
          },
          "metadata": {}
        }
      ],
      "source": [
        "\n",
        "\n",
        "\n",
        "# Filter for G7 and BRICS countries only for the Choropleth\n",
        "choropleth_df = df[df['Group'].isin(['G7', 'BRICS'])]\n",
        "\n",
        "# Create the Choropleth map\n",
        "fig = px.choropleth(\n",
        "    choropleth_df,\n",
        "    locations='Country Name',\n",
        "    locationmode='country names',\n",
        "    color='Group',\n",
        "    title='G7 and BRICS Countries',\n",
        "    hover_name='Country Name',\n",
        "    hover_data={'Group': True, 'GDP ($Billions)': True},\n",
        "    color_discrete_map={'G7': 'blue', 'BRICS': 'red'}  # Customize colors\n",
        ")\n",
        "fig.show()"
      ]
    },
    {
      "cell_type": "code",
      "source": [],
      "metadata": {
        "id": "gewMqvK8yTNd"
      },
      "execution_count": 19,
      "outputs": []
    }
  ]
}